{
 "cells": [
  {
   "cell_type": "markdown",
   "metadata": {},
   "source": [
    "# Tarea 02b\n",
    "\n",
    "Utilizamos Python como calculadora. Para hacer la cosa más interesante los ejercicios de este *Notebook* deben ser resueltos utilizando **únicamente** los operadores aritméticos `+ - / * ** %` y `//` operando entre literales y/o las funciones de la librería estándard (."
   ]
  },
  {
   "cell_type": "markdown",
   "metadata": {},
   "source": [
    "## Ejercicio 1\n",
    "\n",
    "Calcular el módulo de la aceleración que sufre el electrón en el estado fundamental del átomo de hidrógeno. Expresar el resultado en unidades SI.\n",
    "\n",
    "Vuelta de tuerca: Estimar el error en la aceleración calculada utilizando un modelo de propagación lineal de errores y asumiendo que los errores en las cantidades necesarias para el cálculo no están correlacionados.\n",
    "\n",
    "Utilizar los valores de las constantes físicas de [aquí](https://physics.nist.gov/cuu/Constants/index.html), hay info útil [aquí](https://arxiv.org/pdf/1610.08716.pdf) y [aquí](https://xkcd.com/2110/)."
   ]
  },
  {
   "cell_type": "markdown",
   "metadata": {},
   "source": [
    "Asumiendo un modelos clásico en el que el electrón orbita a una distancia $a_0$ del protón y que está sometido a una fuerza radial producida por la interacción electrostática entre ambos, tenemos que el módulo de la acelarción que sufre es:\n",
    "\n",
    "$$a= \\frac{1}{4\\pi\\epsilon_0}\\frac{e^2}{a_0^2m_e}$$\n",
    "\n",
    "Los valores CODATA para las constantes son:\n",
    "\n",
    "`m_e = 9.109 383 7015(28) x 10-31 kg`\n",
    "\n",
    "`a_0 = 5.291 772 109 03(80) x 10-11 m`\n",
    "\n",
    "`e = 1.602 176 634  x 10-19 C` (valor exacto, desde la redefinición del SI en 2018)\n",
    "\n",
    "`epsilon_0 =8.854 187 8128(13) x 10-12 F m-1`"
   ]
  },
  {
   "cell_type": "code",
   "execution_count": 9,
   "metadata": {},
   "outputs": [
    {
     "data": {
      "text/plain": [
       "9.044216127244674e+22"
      ]
     },
     "execution_count": 9,
     "metadata": {},
     "output_type": "execute_result"
    }
   ],
   "source": [
    "(1/4/3.141592653589793/8.854_187_8128e-12)* \\\n",
    "(1.602_176_634e-19**2/5.291_772_109_03e-11**2/9.109_383_7015e-31)"
   ]
  },
  {
   "cell_type": "markdown",
   "metadata": {},
   "source": [
    "Usando las derivadas parciales\n",
    "\n",
    "$$\\frac{\\partial a}{\\partial\\epsilon_0} = -\\frac{1}{4\\pi\\epsilon_0^2}\\frac{e^2}{a_0^2m_e}$$\n",
    "\n",
    "$$\\frac{\\partial a}{\\partial a_0} = -\\frac{1}{2\\pi\\epsilon_0^2}\\frac{e^2}{a_0^3m_e}$$\n",
    "\n",
    "$$\\frac{\\partial a}{\\partial m_e} = -\\frac{1}{2\\pi\\epsilon_0^2}\\frac{e^2}{a_0^2m_e^2}$$\n",
    "\n",
    "Usamos la siguiente espresión para estimar el error en el resultado:\n",
    "\n",
    "$$\\sqrt{\\sum_i \\left( \\Delta p_i  \\frac{\\partial a}{\\partial p_i} \\right)^2}$$\n",
    "\n",
    "donde $\\Delta p_i$ es el error en cada parámetro"
   ]
  },
  {
   "cell_type": "code",
   "execution_count": 16,
   "metadata": {},
   "outputs": [
    {
     "data": {
      "text/plain": [
       "41193988055926.92"
      ]
     },
     "execution_count": 16,
     "metadata": {},
     "output_type": "execute_result"
    }
   ],
   "source": [
    "( \\\n",
    "(0.0000000013e-12*abs((1/4/3.141592653589793/8.854_187_8128e-12**2)* \\\n",
    "(1.602_176_634e-19**2/5.291_772_109_03e-11**2/9.109_383_7015e-31)))**2 \\\n",
    "+ \\\n",
    "(0.000_000_000_80e-11*abs((1/2/3.141592653589793/8.854_187_8128e-12)* \\\n",
    "(1.602_176_634e-19**2/5.291_772_109_03e-11**3/9.109_383_7015e-31)))**2 \\\n",
    "+ \\\n",
    "(0.000_000_0028e-31*abs((1/4/3.141592653589793/8.854_187_8128e-12)* \\\n",
    "(1.602_176_634e-19**2/5.291_772_109_03e-11**2/9.109_383_7015e-31**2)))**2\n",
    ")**(1/2)"
   ]
  },
  {
   "cell_type": "markdown",
   "metadata": {},
   "source": [
    "## Ejercicio 2\n",
    "\n",
    "Calcular una aproximación para el Número de Euler ($e$). Hay una buena lista de formas para hacerlo en [Wikipedia](https://en.wikipedia.org/wiki/E_(mathematical_constant))."
   ]
  },
  {
   "cell_type": "markdown",
   "metadata": {},
   "source": [
    "En [MathWorld](https://mathworld.wolfram.com/eApproximations.html) hay una serie de expresiones para aproximar $e$, entre ellas la siguiente:\n",
    "\n",
    "$$e\\approx\\left(1097 -\\frac{55^5+311^3-11^3}{68^5} \\right)^{1/7}$$\n",
    "\n",
    "Que comparando con:\n",
    "\n",
    "$$2.71828182845904523536028747135266249775724709369995957\n",
    "49669676277240766303535475945713821785251664274$$\n",
    "\n",
    "es correcta a 15 decimales:"
   ]
  },
  {
   "cell_type": "code",
   "execution_count": 1,
   "metadata": {},
   "outputs": [
    {
     "data": {
      "text/plain": [
       "2.7182818284590455"
      ]
     },
     "execution_count": 1,
     "metadata": {},
     "output_type": "execute_result"
    }
   ],
   "source": [
    "(1097-(55**5+311**3-11**3)/68**5)**(1/7)"
   ]
  },
  {
   "cell_type": "code",
   "execution_count": 2,
   "metadata": {},
   "outputs": [],
   "source": [
    "ee = 2.718"
   ]
  },
  {
   "cell_type": "code",
   "execution_count": 3,
   "metadata": {},
   "outputs": [
    {
     "data": {
      "text/plain": [
       "(0.877607415154809+0j)"
      ]
     },
     "execution_count": 3,
     "metadata": {},
     "output_type": "execute_result"
    }
   ],
   "source": [
    "(ee**(1j/2)+ee**(-1j/2))/2"
   ]
  },
  {
   "cell_type": "markdown",
   "metadata": {},
   "source": [
    "## Ejercicio 3\n",
    "\n",
    "Utilizando el resultado anterior calcular valores aproximados para $\\cos(1/2)$ y $\\sin(1/3)$. Estimar los errores para cada valor."
   ]
  },
  {
   "cell_type": "markdown",
   "metadata": {},
   "source": [
    "Teniendo en cuenta que:\n",
    "\n",
    "$$\\cos x = \\frac{e^{ix}+e^{-ix}}{2}$$\n",
    "\n",
    "y que\n",
    "\n",
    "$$\\sin x = \\frac{e^{ix}-e^{-ix}}{2i}$$\n",
    "\n",
    "aproximamos:"
   ]
  },
  {
   "cell_type": "code",
   "execution_count": 4,
   "metadata": {},
   "outputs": [
    {
     "data": {
      "text/plain": [
       "(0.8775825618903728+0j)"
      ]
     },
     "execution_count": 4,
     "metadata": {},
     "output_type": "execute_result"
    }
   ],
   "source": [
    "# cos(1/2)\n",
    "\n",
    "((((1097-(55**5+311**3-11**3)/68**5)**(1/7))**(1j/2)\n",
    " +((1097-(55**5+311**3-11**3)/68**5)**(1/7))**(-1j/2))/2)"
   ]
  },
  {
   "cell_type": "code",
   "execution_count": 5,
   "metadata": {},
   "outputs": [
    {
     "data": {
      "text/plain": [
       "(0.3271946967961522+0j)"
      ]
     },
     "execution_count": 5,
     "metadata": {},
     "output_type": "execute_result"
    }
   ],
   "source": [
    "# sin(1/3)\n",
    "\n",
    "((((1097-(55**5+311**3-11**3)/68**5)**(1/7))**(1j/3)\n",
    " -((1097-(55**5+311**3-11**3)/68**5)**(1/7))**(-1j/3))/2j)"
   ]
  },
  {
   "cell_type": "markdown",
   "metadata": {},
   "source": [
    "En base a una expansión de primer order alrededor del valor $x_0$, una estimación en el error de cada uno de los resultados anteriores es:\n",
    "\n",
    "$$h\\left| \\frac{\\partial \\cos x}{\\partial e} \\right| = \\frac{1}{2}h \\left|\n",
    "ixe^{ix-1}-ixe^{-ix-1}\\right|$$\n",
    "\n",
    "$$h\\left|\\frac{\\partial \\sin x}{\\partial e} \\right| = \\frac{1}{2}h \\left|\n",
    "ixe^{ix-1}+ixe^{-ix-1}\\right|$$\n",
    "\n",
    "donde , en nuestro caso $h\\approx 10^{-15}$"
   ]
  },
  {
   "cell_type": "code",
   "execution_count": 6,
   "metadata": {},
   "outputs": [
    {
     "data": {
      "text/plain": [
       "8.818539961251597e-17"
      ]
     },
     "execution_count": 6,
     "metadata": {},
     "output_type": "execute_result"
    }
   ],
   "source": [
    "1e-15*abs((((1j/2)*((1097-(55**5+311**3-11**3)/68**5)**(1/7))**(1j/2-1)\n",
    " -(1j/2)*((1097-(55**5+311**3-11**3)/68**5)**(1/7))**(-1j/2-1))/2))"
   ]
  },
  {
   "cell_type": "code",
   "execution_count": 7,
   "metadata": {},
   "outputs": [
    {
     "data": {
      "text/plain": [
       "1.614222912250165e-16"
      ]
     },
     "execution_count": 7,
     "metadata": {},
     "output_type": "execute_result"
    }
   ],
   "source": [
    "1e-15*abs((((1j/2)*((1097-(55**5+311**3-11**3)/68**5)**(1/7))**(1j/2-1)\n",
    " +(1j/2)*((1097-(55**5+311**3-11**3)/68**5)**(1/7))**(-1j/2-1))/2j))"
   ]
  },
  {
   "cell_type": "markdown",
   "metadata": {},
   "source": [
    "## Ejercicio 4\n",
    "\n",
    "Y si queremos $\\tan(\\sqrt{2}/2)$?"
   ]
  },
  {
   "cell_type": "markdown",
   "metadata": {},
   "source": [
    "Teniendo en cuenta que\n",
    "\n",
    "$$\\tan x = \\frac{\\sin x}{\\cos x}$$"
   ]
  },
  {
   "cell_type": "code",
   "execution_count": 9,
   "metadata": {},
   "outputs": [
    {
     "data": {
      "text/plain": [
       "(0.854510432009602+0j)"
      ]
     },
     "execution_count": 9,
     "metadata": {},
     "output_type": "execute_result"
    }
   ],
   "source": [
    "((((1097-(55**5+311**3-11**3)/68**5)**(1/7))**((2**0.5)*1j/2)\n",
    " -((1097-(55**5+311**3-11**3)/68**5)**(1/7))**(-(2**0.5)*1j/2))/2j) /(\n",
    "    (((1097-(55**5+311**3-11**3)/68**5)**(1/7))**((2**0.5)*1j/2)\n",
    " +((1097-(55**5+311**3-11**3)/68**5)**(1/7))**(-(2**0.5)*1j/2))/2)"
   ]
  },
  {
   "cell_type": "markdown",
   "metadata": {},
   "source": [
    "Subir los ejercicios completos en formato `ipynb` a Google Classroom. Describiendo en celdas de *Markdown* cada paso de los cálculos, sin demasiada exigencia, sólo para que el que lee pueda entender de qué se trata lo que el código hace."
   ]
  }
 ],
 "metadata": {
  "jupytext": {
   "encoding": "# -*- coding: utf-8 -*-",
   "formats": "ipynb,py:percent"
  },
  "kernelspec": {
   "display_name": "Python 3",
   "language": "python",
   "name": "python3"
  },
  "language_info": {
   "codemirror_mode": {
    "name": "ipython",
    "version": 3
   },
   "file_extension": ".py",
   "mimetype": "text/x-python",
   "name": "python",
   "nbconvert_exporter": "python",
   "pygments_lexer": "ipython3",
   "version": "3.8.3"
  }
 },
 "nbformat": 4,
 "nbformat_minor": 4
}
