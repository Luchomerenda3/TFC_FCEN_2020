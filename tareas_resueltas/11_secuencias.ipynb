{
 "cells": [
  {
   "cell_type": "markdown",
   "metadata": {},
   "source": [
    "# Secuencias e iteración\n"
   ]
  },
  {
   "cell_type": "markdown",
   "metadata": {},
   "source": [
    "## Ejercicio 0\n",
    "\n",
    "Implementar una función que devuelva una secuencia con todos los números primos menores o iguales a $n$."
   ]
  },
  {
   "cell_type": "code",
   "execution_count": null,
   "metadata": {},
   "outputs": [],
   "source": []
  },
  {
   "cell_type": "markdown",
   "metadata": {},
   "source": [
    "## Ejercicio 1\n",
    "\n",
    "Utilizando la función `random` implementada en el módulo del mismo nombre:"
   ]
  },
  {
   "cell_type": "code",
   "execution_count": 1,
   "metadata": {},
   "outputs": [],
   "source": [
    "from random import random"
   ]
  },
  {
   "cell_type": "code",
   "execution_count": 2,
   "metadata": {},
   "outputs": [
    {
     "name": "stdout",
     "output_type": "stream",
     "text": [
      "0.6444078482600399\n"
     ]
    }
   ],
   "source": [
    "print(random())"
   ]
  },
  {
   "cell_type": "markdown",
   "metadata": {},
   "source": [
    "implementar una función que genere un vector de dimensión $d$ (representado como una lista) de números aleatorios en el intervalo $[0,1)$."
   ]
  },
  {
   "cell_type": "code",
   "execution_count": 3,
   "metadata": {},
   "outputs": [],
   "source": [
    "def vector_aleatorio(d):\n",
    "    return [random() for i in range(d)]"
   ]
  },
  {
   "cell_type": "code",
   "execution_count": 4,
   "metadata": {},
   "outputs": [
    {
     "data": {
      "text/plain": [
       "[0.9980595129661074,\n",
       " 0.4431192491253425,\n",
       " 0.9630070158892718,\n",
       " 0.17509606150849677,\n",
       " 0.8721674765382598]"
      ]
     },
     "execution_count": 4,
     "metadata": {},
     "output_type": "execute_result"
    }
   ],
   "source": [
    "vector_aleatorio(5)"
   ]
  },
  {
   "cell_type": "markdown",
   "metadata": {},
   "source": [
    "## Ejercicio 2\n",
    "\n",
    "Implementar una función que calcule el producto escalar de dos vectores de dimensión $d$."
   ]
  },
  {
   "cell_type": "code",
   "execution_count": 5,
   "metadata": {},
   "outputs": [],
   "source": [
    "def producto_escalar(A,B):\n",
    "    d = len(A)\n",
    "    return sum([A[i]*B[i] for i in range(d)])"
   ]
  },
  {
   "cell_type": "code",
   "execution_count": 6,
   "metadata": {},
   "outputs": [
    {
     "data": {
      "text/plain": [
       "3"
      ]
     },
     "execution_count": 6,
     "metadata": {},
     "output_type": "execute_result"
    }
   ],
   "source": [
    "producto_escalar([1,1,1],[1,1,1])"
   ]
  },
  {
   "cell_type": "markdown",
   "metadata": {},
   "source": [
    "## Ejercicio 3\n",
    "\n",
    "Implementar una función que genere una matriz cuadrada (representada como una lista de listas) aleatoria de dimensión $d$."
   ]
  },
  {
   "cell_type": "code",
   "execution_count": 7,
   "metadata": {},
   "outputs": [],
   "source": [
    "def matriz_aleatoria(d):\n",
    "    return [vector_aleatorio(d) for i in range(d)]"
   ]
  },
  {
   "cell_type": "code",
   "execution_count": 8,
   "metadata": {},
   "outputs": [
    {
     "data": {
      "text/plain": [
       "[[0.04867271949218255, 0.7468156821384407, 0.18176111872636502],\n",
       " [0.9973961503255386, 0.007859629893722131, 0.6738352962821287],\n",
       " [0.37317539149085965, 0.8876006748024363, 0.19274013766851794]]"
      ]
     },
     "execution_count": 8,
     "metadata": {},
     "output_type": "execute_result"
    }
   ],
   "source": [
    "matriz_aleatoria(3)"
   ]
  },
  {
   "cell_type": "markdown",
   "metadata": {},
   "source": [
    "## Ejercicio 4\n",
    "\n",
    "Implementar una función que calcule el producto de dos matrices cuadradas de dimensión $d$"
   ]
  },
  {
   "cell_type": "code",
   "execution_count": 9,
   "metadata": {},
   "outputs": [],
   "source": [
    "def producto_matricial(A,B):\n",
    "    d = len(A)\n",
    "    C = [[0 for i in range(d)] for j in range(d)]\n",
    "    for i in range(d):\n",
    "        for j in range(d):\n",
    "            for k in range(d):\n",
    "                C[i][j] += A[i][k]*B[k][j]\n",
    "    return C"
   ]
  },
  {
   "cell_type": "code",
   "execution_count": 10,
   "metadata": {},
   "outputs": [
    {
     "data": {
      "text/plain": [
       "[[1.1611620424172375, 0.5233503022442908, 1.517138759918983],\n",
       " [0.8305861246924576, 0.3049293785165234, 1.037141494308142],\n",
       " [0.691663892379488, 0.4368988210949924, 0.9185799276663124]]"
      ]
     },
     "execution_count": 10,
     "metadata": {},
     "output_type": "execute_result"
    }
   ],
   "source": [
    "producto_matricial(matriz_aleatoria(3),matriz_aleatoria(3))"
   ]
  },
  {
   "cell_type": "markdown",
   "metadata": {
    "lines_to_next_cell": 3
   },
   "source": [
    "## Ejercicio S1\n",
    "\n",
    "Implementar una función que devuelva una secuencia de tuplas con todos los pares de números primos gemelos menores o iguales a $n$.\n",
    "\n",
    "\n",
    "\n",
    "\n",
    "\n"
   ]
  },
  {
   "cell_type": "code",
   "execution_count": null,
   "metadata": {},
   "outputs": [],
   "source": []
  },
  {
   "cell_type": "markdown",
   "metadata": {},
   "source": [
    "## Ejercicio S2\n",
    "\n",
    "Implementar una función que devuelva una secuencia de $m$ números pseudoaleatorios a partir de una *semilla* $X_0$ arbitraria usando el método de *congruencia lineal multiplicativa* basado en la relación de recurrencia:\n",
    "\n",
    "$$X_n = a X_{n-1} \\mod m$$\n",
    "\n",
    "Utilizar alguno de los valores para $m$ y $a$ sugeridos por L'Ecuyer en:\n",
    "\n",
    "L'Ecuyer, Pierre (1999). \"Tables of Linear Congruential Generators of Different Sizes and Good Lattice Structure\". Mathematics of Computation. 68 (225): 249–260. ([PDF](https://www.ams.org/journals/mcom/1999-68-225/S0025-5718-99-00996-5/S0025-5718-99-00996-5.pdf))"
   ]
  },
  {
   "cell_type": "code",
   "execution_count": null,
   "metadata": {},
   "outputs": [],
   "source": []
  },
  {
   "cell_type": "markdown",
   "metadata": {},
   "source": [
    "## Ejercicio S3\n",
    "\n",
    "Modificar la función del Ejercicio S2 para que devuelva números pseudoaleatorios de punto flotante en el intervalo $[0,1)$"
   ]
  },
  {
   "cell_type": "code",
   "execution_count": null,
   "metadata": {},
   "outputs": [],
   "source": []
  },
  {
   "cell_type": "markdown",
   "metadata": {},
   "source": [
    "## Ejercicio S4\n",
    "\n",
    "Implementar una función que, dada una secuencia de objetos arbitrarios, genere todas las posible permutaciones y las devuelva en una lista de listas."
   ]
  },
  {
   "cell_type": "code",
   "execution_count": null,
   "metadata": {},
   "outputs": [],
   "source": []
  },
  {
   "cell_type": "markdown",
   "metadata": {},
   "source": [
    "## Ejercicio S5\n",
    "\n",
    "Implementar una función que calcule todos los números primos menores o iguales a $n$ utilizando el algoritmo conocido como *Criba de Eratóstenes*."
   ]
  },
  {
   "cell_type": "code",
   "execution_count": null,
   "metadata": {},
   "outputs": [],
   "source": []
  }
 ],
 "metadata": {
  "jupytext": {
   "encoding": "# -*- coding: utf-8 -*-",
   "formats": "ipynb,py:percent"
  },
  "kernelspec": {
   "display_name": "Python 3",
   "language": "python",
   "name": "python3"
  },
  "language_info": {
   "codemirror_mode": {
    "name": "ipython",
    "version": 3
   },
   "file_extension": ".py",
   "mimetype": "text/x-python",
   "name": "python",
   "nbconvert_exporter": "python",
   "pygments_lexer": "ipython3",
   "version": "3.8.3"
  }
 },
 "nbformat": 4,
 "nbformat_minor": 4
}
