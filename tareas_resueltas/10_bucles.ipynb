{
 "cells": [
  {
   "cell_type": "markdown",
   "metadata": {},
   "source": [
    "# Bucles\n",
    "\n",
    "Usar **sólo** bucles `while`, las listas también son taboo por ahora."
   ]
  },
  {
   "cell_type": "markdown",
   "metadata": {},
   "source": [
    "## Ejercicio 1\n",
    "\n",
    "Implementar una función que imprima todos los números primos menores a $n$."
   ]
  },
  {
   "cell_type": "code",
   "execution_count": 1,
   "metadata": {},
   "outputs": [],
   "source": [
    "import math as m"
   ]
  },
  {
   "cell_type": "code",
   "execution_count": 2,
   "metadata": {},
   "outputs": [],
   "source": [
    "def primos(n):\n",
    "    i = 1\n",
    "    while (i < n):\n",
    "        primo = True\n",
    "        j = 2\n",
    "        while (j*j <= i):\n",
    "            if i%j == 0:\n",
    "                primo = False\n",
    "                break\n",
    "            j += 1\n",
    "            \n",
    "        if primo: print(f'{i:10} es primo')\n",
    "        i += 1"
   ]
  },
  {
   "cell_type": "code",
   "execution_count": 3,
   "metadata": {},
   "outputs": [
    {
     "name": "stdout",
     "output_type": "stream",
     "text": [
      "         1 es primo\n",
      "         2 es primo\n",
      "         3 es primo\n",
      "         5 es primo\n",
      "         7 es primo\n",
      "        11 es primo\n",
      "        13 es primo\n",
      "        17 es primo\n",
      "        19 es primo\n",
      "        23 es primo\n",
      "        29 es primo\n",
      "        31 es primo\n",
      "        37 es primo\n",
      "        41 es primo\n",
      "        43 es primo\n",
      "        47 es primo\n",
      "        53 es primo\n",
      "        59 es primo\n",
      "        61 es primo\n",
      "        67 es primo\n",
      "        71 es primo\n",
      "        73 es primo\n",
      "        79 es primo\n",
      "        83 es primo\n",
      "        89 es primo\n",
      "        97 es primo\n"
     ]
    }
   ],
   "source": [
    "primos(100)"
   ]
  },
  {
   "cell_type": "markdown",
   "metadata": {},
   "source": [
    "## Ejercicio 2\n",
    "\n",
    "Implementar una función que calcule la integral definida de una función arbitraria de una variable utilizando la regla del punto medio. Probar para los siguientes casos:\n",
    "\n",
    "$$ \\int_0^1 x^2\\ dx = 1/3 $$\n",
    "\n",
    "$$ \\int_0^\\pi \\sin(x)\\ dx = 2 $$\n",
    "\n",
    "Comparar con los resultado obtenido a partir de la función `quad` en el módulo `scipy.integrate`."
   ]
  },
  {
   "cell_type": "code",
   "execution_count": 4,
   "metadata": {},
   "outputs": [],
   "source": [
    "def cuadratura(f, a, b, m):\n",
    "    s = 0.\n",
    "    i = 0\n",
    "    while i < m:\n",
    "        ai = a + i * (b - a) / m\n",
    "        bi = a + (i + 1) * (b - a) / m\n",
    "        s += (bi - ai) * f((ai + bi)/2)\n",
    "        i += 1\n",
    "    return s"
   ]
  },
  {
   "cell_type": "code",
   "execution_count": 5,
   "metadata": {},
   "outputs": [],
   "source": [
    "def f1(x):\n",
    "    return x*x"
   ]
  },
  {
   "cell_type": "code",
   "execution_count": 6,
   "metadata": {},
   "outputs": [
    {
     "data": {
      "text/plain": [
       "0.33333333249999914"
      ]
     },
     "execution_count": 6,
     "metadata": {},
     "output_type": "execute_result"
    }
   ],
   "source": [
    "cuadratura(f1,0,1,10000)"
   ]
  },
  {
   "cell_type": "code",
   "execution_count": 7,
   "metadata": {},
   "outputs": [
    {
     "data": {
      "text/plain": [
       "2.0000000082246703"
      ]
     },
     "execution_count": 7,
     "metadata": {},
     "output_type": "execute_result"
    }
   ],
   "source": [
    "cuadratura(m.sin,0,m.pi,10000)"
   ]
  },
  {
   "cell_type": "markdown",
   "metadata": {},
   "source": [
    "## Ejercicio 3\n",
    "\n",
    "Implementar una función que calcule la raíz de una función arbitraria (dada su derivada) utilizando el método de Newton-Raphson. Probar para el caso \n",
    "\n",
    "$$ f(x) = e^{-x} - \\pi $$\n",
    "\n",
    "que tiene una única raiz en $-\\ln\\pi$."
   ]
  },
  {
   "cell_type": "code",
   "execution_count": 8,
   "metadata": {},
   "outputs": [],
   "source": [
    "def f(x):\n",
    "    return m.exp(-x) - m.pi"
   ]
  },
  {
   "cell_type": "code",
   "execution_count": 9,
   "metadata": {},
   "outputs": [],
   "source": [
    "def df(x):\n",
    "    return -m.exp(-x)"
   ]
  },
  {
   "cell_type": "code",
   "execution_count": 10,
   "metadata": {},
   "outputs": [],
   "source": [
    "def raiz(f,df,x0,tol = 1e-5):\n",
    "    x = x0\n",
    "    while (abs(f(x)) > tol):\n",
    "        x = x - f(x)/df(x)\n",
    "    return x"
   ]
  },
  {
   "cell_type": "code",
   "execution_count": 11,
   "metadata": {},
   "outputs": [
    {
     "data": {
      "text/plain": [
       "-1.1447298858575363"
      ]
     },
     "execution_count": 11,
     "metadata": {},
     "output_type": "execute_result"
    }
   ],
   "source": [
    "raiz(f,df,-5)"
   ]
  },
  {
   "cell_type": "code",
   "execution_count": 12,
   "metadata": {},
   "outputs": [
    {
     "data": {
      "text/plain": [
       "-1.1447298858494002"
      ]
     },
     "execution_count": 12,
     "metadata": {},
     "output_type": "execute_result"
    }
   ],
   "source": [
    "-m.log(m.pi)"
   ]
  },
  {
   "cell_type": "markdown",
   "metadata": {},
   "source": [
    "# Serie S\n",
    "\n",
    "Los siguientes ejercicios son más complejos que los anteriores y su complejidad es creciente. Son un poco más opcionales que los anteriores"
   ]
  },
  {
   "cell_type": "markdown",
   "metadata": {},
   "source": [
    "## Ejercicio S1\n",
    "\n",
    "Comparar la velocidad de convergencia (determinando para que $k$ se logra una determinada tolerancia) de la serie de Gregory y Leibniz para $\\pi$ \n",
    "\n",
    "$$\\pi=4\\sum_{k=1}^{\\infty}\\frac{(-1)^(k+1)}{(2k-1)}$$\n",
    "\n",
    "con la siguiente serie:\n",
    "\n",
    "$$\\frac{1}{\\pi} = \\frac{2\\sqrt 2}{9801} \\sum^\\infty_{k=0} \\frac{(4k)!(1103+26390k)}{(k!)^4 396^{4k}},$$\n",
    "\n",
    "una de las tantas sorprendentes fórmulas debidas al matemático indú Srinvasa Ramanujan."
   ]
  },
  {
   "cell_type": "code",
   "execution_count": null,
   "metadata": {},
   "outputs": [],
   "source": []
  },
  {
   "cell_type": "markdown",
   "metadata": {},
   "source": [
    "## Ejercicio S2\n",
    "\n",
    "Implementar una función que calcule el número de Bernouilli utilizando la fórmula implementada por Ada Lovelace en el primer algoritmo de computadora en la famosa [Nota G](https://projectlovelace.net/problems/ada-lovelaces-note-g/) incluída en el documento sobre la Máquina Analítica de Charles Babbage de 1843."
   ]
  },
  {
   "cell_type": "code",
   "execution_count": null,
   "metadata": {},
   "outputs": [],
   "source": []
  },
  {
   "cell_type": "markdown",
   "metadata": {},
   "source": [
    "## Ejercicio S3\n",
    "\n",
    "Extender la implementación de la regla del punto medio para calcular integrales dobles sobre regiones rectangulares en $\\mathbb{R}^2$."
   ]
  },
  {
   "cell_type": "code",
   "execution_count": null,
   "metadata": {},
   "outputs": [],
   "source": []
  },
  {
   "cell_type": "markdown",
   "metadata": {},
   "source": [
    "## Ejercicio S4\n",
    "\n",
    "Extender la implementación de la regla del punto medio para calcular integrales sobre un camino circular cerrado de radio, sentido y centro determinado en $\\mathbb{C}$. Probar para el caso\n",
    "\n",
    "$$\n",
    "\\oint_C \\frac{1}{z}dz =  2 \\pi i \n",
    "$$\n",
    "\n",
    "con un par de caminos circulares cambiando radio, origen y sentido."
   ]
  },
  {
   "cell_type": "code",
   "execution_count": null,
   "metadata": {
    "lines_to_next_cell": 3
   },
   "outputs": [],
   "source": []
  }
 ],
 "metadata": {
  "jupytext": {
   "encoding": "# -*- coding: utf-8 -*-",
   "formats": "ipynb,py:percent"
  },
  "kernelspec": {
   "display_name": "Python 3",
   "language": "python",
   "name": "python3"
  },
  "language_info": {
   "codemirror_mode": {
    "name": "ipython",
    "version": 3
   },
   "file_extension": ".py",
   "mimetype": "text/x-python",
   "name": "python",
   "nbconvert_exporter": "python",
   "pygments_lexer": "ipython3",
   "version": "3.8.3"
  }
 },
 "nbformat": 4,
 "nbformat_minor": 4
}
