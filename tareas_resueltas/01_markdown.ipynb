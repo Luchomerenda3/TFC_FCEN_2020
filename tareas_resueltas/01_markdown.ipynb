{
 "cells": [
  {
   "cell_type": "markdown",
   "metadata": {
    "colab_type": "text",
    "id": "Nyi9eCPxLUJd"
   },
   "source": [
    "# Fórmula Integral de Cauchy\n",
    "\n",
    "---\n",
    "\n",
    "A partir del *Teorema de Cauchy-Goursat* es posible demostrar proposiciones como la siguente:\n",
    "\n",
    "> Sea $f(z)$ una función analítica sobre $\\mathcal{C}$, siendo $C$ un contorno cerrado simple, y en el interior de $\\mathcal{C}$. Si se toma un punto interior $z_0$ de $\\mathcal{C}$, se cumple que:\n",
    ">$$\n",
    "\\oint_C \\frac{f(z)}{z-z_0}dz =  2 \\pi i f(z_0)\n",
    "$$\n",
    "> que corresponde a la **fórmula integral de Cauchy**.\n",
    "\n",
    "Extraído de [Wikipedia](https://es.wikipedia.org/wiki/Teorema_integral_de_Cauchy)\n"
   ]
  }
 ],
 "metadata": {
  "colab": {
   "collapsed_sections": [],
   "name": "tarea_01.ipynb",
   "provenance": []
  },
  "jupytext": {
   "encoding": "# -*- coding: utf-8 -*-",
   "formats": "ipynb,py:percent"
  },
  "kernelspec": {
   "display_name": "Python 3",
   "language": "python",
   "name": "python3"
  },
  "language_info": {
   "codemirror_mode": {
    "name": "ipython",
    "version": 3
   },
   "file_extension": ".py",
   "mimetype": "text/x-python",
   "name": "python",
   "nbconvert_exporter": "python",
   "pygments_lexer": "ipython3",
   "version": "3.8.3"
  }
 },
 "nbformat": 4,
 "nbformat_minor": 1
}
