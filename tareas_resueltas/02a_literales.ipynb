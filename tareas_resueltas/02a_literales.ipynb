{
 "cells": [
  {
   "cell_type": "markdown",
   "metadata": {},
   "source": [
    "# Tarea 02a\n",
    "\n",
    "Ejercitando la construcción de literales."
   ]
  },
  {
   "cell_type": "markdown",
   "metadata": {},
   "source": [
    "## Ejercicio 1\n",
    "\n",
    "Buscar el valor del radio de Bohr y crear un literal de punto flotante de su valor em unidades SI con todas las cifras significativas que se pueda"
   ]
  },
  {
   "cell_type": "markdown",
   "metadata": {},
   "source": [
    "El siguiente valor fue obtenido de la base de datos [CODATA](https://physics.nist.gov/cgi-bin/cuu/Value?bohrrada0|search_for=bohr+radius)"
   ]
  },
  {
   "cell_type": "code",
   "execution_count": 1,
   "metadata": {},
   "outputs": [
    {
     "data": {
      "text/plain": [
       "5.29177210903e-11"
      ]
     },
     "execution_count": 1,
     "metadata": {},
     "output_type": "execute_result"
    }
   ],
   "source": [
    "5.291_772_109_03e-11"
   ]
  },
  {
   "cell_type": "markdown",
   "metadata": {},
   "source": [
    "## Ejercicio 2\n",
    "\n",
    "Encontrar la expresión binaria del número de habitantes de la República Argentina de acuerdo al último dato del INDEC."
   ]
  },
  {
   "cell_type": "markdown",
   "metadata": {},
   "source": [
    "El siguiente valor es la estimación 2020 de la población de la República Argentina de acuerdo a la página web del [INDEC](https://www.indec.gob.ar) "
   ]
  },
  {
   "cell_type": "code",
   "execution_count": 2,
   "metadata": {},
   "outputs": [
    {
     "data": {
      "text/plain": [
       "45376763"
      ]
     },
     "execution_count": 2,
     "metadata": {},
     "output_type": "execute_result"
    }
   ],
   "source": [
    "45_376_763"
   ]
  },
  {
   "cell_type": "code",
   "execution_count": null,
   "metadata": {},
   "outputs": [],
   "source": []
  },
  {
   "cell_type": "markdown",
   "metadata": {},
   "source": [
    "## Ejercicio 3\n",
    "\n",
    "Escribir un número complejo de su agrado"
   ]
  },
  {
   "cell_type": "code",
   "execution_count": 3,
   "metadata": {},
   "outputs": [
    {
     "data": {
      "text/plain": [
       "(0.2+0.5j)"
      ]
     },
     "execution_count": 3,
     "metadata": {},
     "output_type": "execute_result"
    }
   ],
   "source": [
    "0.2+0.5j"
   ]
  },
  {
   "cell_type": "markdown",
   "metadata": {},
   "source": [
    "## Ejercicio 4\n",
    "\n",
    "Cree una cadena de caracteres multilínea con un texto (corto) que le guste"
   ]
  },
  {
   "cell_type": "code",
   "execution_count": null,
   "metadata": {},
   "outputs": [],
   "source": [
    "\"\"\"\n",
    "Las condiciones del pájaro solitario son cinco.\n",
    "La primera, que se va a lo más alto;\n",
    "la segunda, que no sufre compañía, aunque sea de su naturaleza;\n",
    "la tercera, que pone el pico al aire;\n",
    "la cuarta, que no tiene determinado color;\n",
    "la quinta, que canta suavemente.\n",
    "\n",
    "San Juan de la Cruz (Dichos de Luz y Amor.)\n",
    "\"\"\""
   ]
  },
  {
   "cell_type": "markdown",
   "metadata": {},
   "source": [
    "## Ejercicio 5\n",
    "\n",
    "Escribir una cadena de caracteres que contenga la palabra `\"verdad\"` entre comillas (simples o dobles) y el carácter Unicode para la letra beta minúscula."
   ]
  },
  {
   "cell_type": "code",
   "execution_count": 4,
   "metadata": {},
   "outputs": [
    {
     "data": {
      "text/plain": [
       "\"¿Existe la 'verdad' en el tiempo de la 'große Lüge'\""
      ]
     },
     "execution_count": 4,
     "metadata": {},
     "output_type": "execute_result"
    }
   ],
   "source": [
    "\"¿Existe la 'verdad' en el tiempo de la 'große Lüge'?\""
   ]
  },
  {
   "cell_type": "markdown",
   "metadata": {},
   "source": [
    "Subir los ejercicios completos en formato `ipynb` a Google Classroom. Describiendo en celdas de *Markdown* cada paso de los cálculos, sin demasiada exigencia, sólo para que el que lee pueda entender de qué se trata lo que el código hace."
   ]
  }
 ],
 "metadata": {
  "jupytext": {
   "encoding": "# -*- coding: utf-8 -*-",
   "formats": "ipynb,py:percent"
  },
  "kernelspec": {
   "display_name": "Python 3",
   "language": "python",
   "name": "python3"
  },
  "language_info": {
   "codemirror_mode": {
    "name": "ipython",
    "version": 3
   },
   "file_extension": ".py",
   "mimetype": "text/x-python",
   "name": "python",
   "nbconvert_exporter": "python",
   "pygments_lexer": "ipython3",
   "version": "3.8.3"
  }
 },
 "nbformat": 4,
 "nbformat_minor": 4
}
