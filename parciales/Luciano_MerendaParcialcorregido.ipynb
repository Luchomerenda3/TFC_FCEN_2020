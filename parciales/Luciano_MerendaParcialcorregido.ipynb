{
 "cells": [
  {
   "cell_type": "markdown",
   "metadata": {
    "pycharm": {
     "name": "#%% md\n"
    }
   },
   "source": [
    "# Taller de Física Computacional\n",
    "---\n",
    "## 1er Parcial\n",
    "### 29 de octubre de 2020\n",
    "\n",
    "**IMPORTANTE**:\n",
    "\n",
    "- Resuelva los ejercicios en un notebook nuevo que deber ́a subir como\n",
    "respuesta a esta tarea una vez resuelto.\n",
    "\n",
    "- Comente el código de manera que sea legible por otra persona.\n",
    "\n",
    "- Todas las celdas deben ejecutar sin error. Se recomienda hacer un re-\n",
    "inicio del n ́ucleo y evaluar todas las celdas en orden para asegurarse que ejecuta como corresponde antes de entregar.\n",
    "\n",
    "- Lea **atentamente** las consignas."
   ]
  },
  {
   "cell_type": "code",
   "execution_count": 1,
   "metadata": {
    "pycharm": {
     "name": "#%%\n"
    }
   },
   "outputs": [
    {
     "name": "stdout",
     "output_type": "stream",
     "text": [
      "Libraries & common functions imported\n"
     ]
    }
   ],
   "source": [
    "#Importamos acá todas las librerías a usar\n",
    "\n",
    "import matplotlib.pyplot as plt\n",
    "#Set unicode latex support\n",
    "import matplotlib as mpl\n",
    "mpl.rcParams['text.usetex'] = True\n",
    "\n",
    "import numpy as np\n",
    "import math\n",
    "#import cmath\n",
    "\n",
    "#Implementacion de una comparacion de punto flotantes\n",
    "def float_compare(x1,x2):\n",
    "    #Relative epsilon comparison by Bruce Dawson\n",
    "    eps = np.finfo(float).eps\n",
    "    X1 = np.abs(x1)\n",
    "    X2 = np.abs(x2)\n",
    "\n",
    "    diff = np.abs(x1 - x2)\n",
    "    largest = X2 if X2 > X1 else X1\n",
    "\n",
    "    if diff <= (largest * eps) :\n",
    "        return True\n",
    "    else:\n",
    "        return False\n",
    "\n",
    "print(\"Libraries & common functions imported\")"
   ]
  },
  {
   "cell_type": "markdown",
   "metadata": {
    "pycharm": {
     "name": "#%% md\n"
    }
   },
   "source": [
    "**Ejercicio 1** *(20 puntos)* Graficar la función\n",
    "$$f(x) = e^{-x}sin 10x$$\n",
    "en el intervalo [0,10]"
   ]
  },
  {
   "cell_type": "code",
   "execution_count": 2,
   "metadata": {
    "pycharm": {
     "name": "#%%\n"
    }
   },
   "outputs": [
    {
     "data": {
      "image/png": "[encoded data removed]",
      "text/plain": [
       "<Figure size 432x288 with 1 Axes>"
      ]
     },
     "metadata": {
      "needs_background": "dark"
     },
     "output_type": "display_data"
    }
   ],
   "source": [
    "#Primero generamos las listas con los datos a plotear\n",
    "\n",
    "def f(x):\n",
    "    #definimos f(x)\n",
    "    return np.exp(-x) * np.sin(10 * x)\n",
    "\n",
    "xmin = 0\n",
    "xmax = 10\n",
    "n_intervalos = 10000\n",
    "xs = []\n",
    "ys = []\n",
    "\n",
    "#Generamos los datos de entrada y Evaluamos la función\n",
    "for i in range(n_intervalos):\n",
    "    xvalue = xmin + (i * (xmax - xmin) / n_intervalos)\n",
    "    yvalue = f(xvalue)\n",
    "    xs.append(xvalue)\n",
    "    ys.append(yvalue)\n",
    "\n",
    "plt.plot(xs,ys,label = 'f(x)')\n",
    "plt.xlabel('x', color = 'white')\n",
    "plt.ylabel('f(x)', color = 'white')\n",
    "plt.xlim(0,10)\n",
    "plt.xticks(np.arange(11))\n",
    "plt.ylim(-1,1)\n",
    "plt.title(r\"$f(x) = e^{-x} sin(10 x)$\", color = 'white')\n",
    "plt.axhline(0,color ='black')\n",
    "plt.tick_params(axis = 'both', which = 'both', color = 'white', labelcolor = 'white')\n",
    "plt.grid(b = True)"
   ]
  },
  {
   "cell_type": "markdown",
   "metadata": {},
   "source": [
    "> (20 puntos) Perfecto. Cool lo del título."
   ]
  },
  {
   "cell_type": "markdown",
   "metadata": {
    "pycharm": {
     "is_executing": true,
     "name": "#%% md\n"
    }
   },
   "source": [
    "**Ejercicio 2** *(20 puntos)* Implementar una función que clasifique un triángulo como\n",
    "rectángulo, acutángulo u obtusángulo dadas las longitudes de sus lados\n",
    "a, b y c (números reales) en base a las condiciones enumeradas en la\n",
    "siguiente tabla:\n",
    "\n",
    "| Condición                    | Tipo                         |\n",
    "|:----------------------------:|:----------------------------:|\n",
    "| si $$a^{2} + b^{2} = c^{2}$$ | el triándulo es rectángulo   |\n",
    "| si $$a^{2} + b^{2} > c^{2}$$ | el triángulo es acutángulo   |\n",
    "| si $$a^{2} + b^{2} < c^{2}$$ | el triángulo es obstusángulo |\n"
   ]
  },
  {
   "cell_type": "code",
   "execution_count": 3,
   "metadata": {
    "pycharm": {
     "name": "#%%\n"
    }
   },
   "outputs": [
    {
     "name": "stdout",
     "output_type": "stream",
     "text": [
      "El triángulo de lados: a=3, b=4, c=5 es Rectángulo\n",
      "El triángulo de lados: a=6.25, b=9, c=25 es Obtusángulo\n",
      "El triángulo de lados: a=3, b=3, c=3 es Acutángulo\n"
     ]
    }
   ],
   "source": [
    "#Generamos nuestra función para clasificar triángulos\n",
    "def clas_trangulo(a,b,c):\n",
    "\n",
    "    if float_compare(np.square(a) + np.square(b), np.square(c)):\n",
    "        return \"Rectángulo\"\n",
    "    else:\n",
    "        if np.square(a) + np.square(b) > np.square(c):\n",
    "            return \"Acutángulo\"\n",
    "        elif np.square(a) + np.square(b) < np.square(c):\n",
    "            return \"Obtusángulo\"\n",
    "\n",
    "#Test función clasificación\n",
    "#Triángulo rectangulo\n",
    "a=3\n",
    "b=4\n",
    "c=5\n",
    "print(f\"El triángulo de lados: a={a}, b={b}, c={c} es {clas_trangulo(a,b,c)}\")\n",
    "\n",
    "#Triángulo Obtusángulo\n",
    "a=6.25\n",
    "b=9\n",
    "c=25\n",
    "print(f\"El triángulo de lados: a={a}, b={b}, c={c} es {clas_trangulo(a,b,c)}\")\n",
    "\n",
    "#Triángulo Acutángulo\n",
    "a=3\n",
    "b=3\n",
    "c=3\n",
    "print(f\"El triángulo de lados: a={a}, b={b}, c={c} es {clas_trangulo(a,b,c)}\")"
   ]
  },
  {
   "cell_type": "markdown",
   "metadata": {},
   "source": [
    "> (20 puntos) Excelente. Bien por armar el comparador."
   ]
  },
  {
   "cell_type": "markdown",
   "metadata": {
    "pycharm": {
     "is_executing": true,
     "name": "#%% md\n"
    }
   },
   "source": [
    "**Ejercicio 3** *(20 puntos)* Implementar una función que determine las componentes\n",
    "del vector $C$, donde $C = A × B$ es el producto vectorial entre los\n",
    "vectores $A$ y $B$. Nota: usar *numpy.cross* o similar es **trampa**.\n"
   ]
  },
  {
   "cell_type": "code",
   "execution_count": 4,
   "metadata": {
    "pycharm": {
     "name": "#%%\n"
    }
   },
   "outputs": [
    {
     "name": "stdout",
     "output_type": "stream",
     "text": [
      "A([1, 0, 0]) x B([0, 1, 0]) = C([0, 0, 1])\n",
      "Vectores de dimensión incorrecta\n",
      "A([0, 0]) x B([0, 1, 0]) = C(Dimensional Error)\n"
     ]
    }
   ],
   "source": [
    "def cross_prod(A,B):\n",
    "     #Función que calcula el producto vectorial de dos vectores\n",
    "     C = [0,0,0] #lista a co\n",
    "\n",
    "     #Chequear dimension de los vectores\n",
    "     if len(A) != 3 or len(B) != 3:\n",
    "         print(\"Vectores de dimensión incorrecta\")\n",
    "         return \"Dimensional Error\"\n",
    "     else:\n",
    "         C[0] = A[1] * B[2] - A[2] * B[1]\n",
    "         C[1] = A[0] * B[2] - A[2] * B[0]\n",
    "         C[2] = A[0] * B[1] - A[1] * B[0]\n",
    "         return C\n",
    "\n",
    "#Test producto vectorial\n",
    "vector_A = [1,0,0]\n",
    "vector_B = [0,1,0]\n",
    "\n",
    "print(f\"A({vector_A}) x B({vector_B}) = C({cross_prod(vector_A,vector_B)})\")\n",
    "\n",
    "#Test 2\n",
    "vector_A = [0,0]\n",
    "vector_B = [0,1,0]\n",
    "\n",
    "print(f\"A({vector_A}) x B({vector_B}) = C({cross_prod(vector_A,vector_B)})\")"
   ]
  },
  {
   "cell_type": "markdown",
   "metadata": {},
   "source": [
    "(20 puntos) Perfecto"
   ]
  },
  {
   "cell_type": "markdown",
   "metadata": {
    "pycharm": {
     "is_executing": true,
     "name": "#%% md\n"
    }
   },
   "source": [
    "**Ejercicio 4** *(20 puntos)* La ecuación Pitagórica\n",
    "$$ i^{2} + j^{2} = k^{2} $$\n",
    "tiene un número infinito de soluciones enteras **positivas** llamadas “triplas Pitagóricas”.\n",
    "\n",
    "- a *(10 puntos)* Diseñar e implementar una función que calcule (imprima) todas las triplas Pitagóricas para un dado m tal que i ≤ m, j ≤ m y k ≤ m. No importa si el código devuelve algunas triplas\n",
    "repetidas.\n",
    "\n",
    "- b *(10 puntos)* Modificar la función para “probar” que el ultimo teorema de Fermat, que asegura que no existe ninguna solución de\n",
    "enteros positivos a\n",
    "$$i^{n} + j^{n} = k^{n}$$\n",
    "es válido hasta un cierto entero positivo m.\n",
    "\n",
    "- c (**opcional**) Modificar la función del ítem (a) para que devuelva una secuencia de tuplas que contenga las triplas  ́unicas."
   ]
  },
  {
   "cell_type": "code",
   "execution_count": 9,
   "metadata": {
    "pycharm": {
     "name": "#%%\n"
    }
   },
   "outputs": [],
   "source": [
    "def funcion_a(m):\n",
    "\n",
    "    #Recorremos las posibles triplas con for anidados\n",
    "    for i in range(m):\n",
    "        for j in range(m):\n",
    "            for k in range(m):\n",
    "                if float_compare(np.square(i) + np.square(j), np.square(k)):\n",
    "                    print(f\"Tripla pitagórica encontrada: i={i}, j={j}, k={k}\")\n",
    "\n",
    "def funcion_b(n,m):\n",
    "    #Enunciado del teorema de fermat\n",
    "    #Si n es un número entero mayor o igual que 3,\n",
    "    #entonces no existen números enteros positivos \"x\", \"y\" y \"z\",\n",
    "    #tales que se cumpla la igualdad:  x^n + y^n = z^n\n",
    "    #esto no estaba demostrado?\n",
    "    m = 3 #Variable a recorrer inicializada en 3\n",
    "    for i in range(1,m+1):\n",
    "        for j in range(1,m+1):\n",
    "            for k in range(1,m+1):\n",
    "                if float_compare(np.power(i,m) + np.power(j,m), np.power(k,m)):\n",
    "                    print(f\"Fermat estaba mal: i={i}, j={j}, k={k}, n={m}\")\n",
    "                    break\n",
    "\n",
    "def funcion_c():\n",
    "    #Recorremos las posibles triplas con for anidados\n",
    "    for i in range(m):\n",
    "        for j in range(m):\n",
    "            for k in range(m):\n",
    "                if float_compare(np.square(i) + np.square(j), np.square(k)):\n",
    "                    print(f\"Tripla pitagórica encontrada: i={i}, j={j}, k={k}\")\n",
    "\n",
    "#test función_a\n",
    "#m = int(input(\"Ingrese un número entero m para encontrar triplas pitagóricas: \\n\"))\n",
    "#funcion_a(m)\n",
    "#Test función_b\n",
    "#funcion_b(3,5)\n",
    "\n",
    "#Test funcioin_c\n",
    "#función_c()\n",
    "\n",
    "#solo funciona la funcion_a,\n",
    "#funcion_b no terminé de entender que había que probar"
   ]
  },
  {
   "cell_type": "code",
   "execution_count": 12,
   "metadata": {},
   "outputs": [
    {
     "name": "stdout",
     "output_type": "stream",
     "text": [
      "Tripla pitagórica encontrada: i=0, j=0, k=0\n",
      "Tripla pitagórica encontrada: i=0, j=1, k=1\n",
      "Tripla pitagórica encontrada: i=0, j=2, k=2\n",
      "Tripla pitagórica encontrada: i=0, j=3, k=3\n",
      "Tripla pitagórica encontrada: i=0, j=4, k=4\n",
      "Tripla pitagórica encontrada: i=0, j=5, k=5\n",
      "Tripla pitagórica encontrada: i=0, j=6, k=6\n",
      "Tripla pitagórica encontrada: i=0, j=7, k=7\n",
      "Tripla pitagórica encontrada: i=0, j=8, k=8\n",
      "Tripla pitagórica encontrada: i=0, j=9, k=9\n",
      "Tripla pitagórica encontrada: i=0, j=10, k=10\n",
      "Tripla pitagórica encontrada: i=0, j=11, k=11\n",
      "Tripla pitagórica encontrada: i=0, j=12, k=12\n",
      "Tripla pitagórica encontrada: i=0, j=13, k=13\n",
      "Tripla pitagórica encontrada: i=0, j=14, k=14\n",
      "Tripla pitagórica encontrada: i=0, j=15, k=15\n",
      "Tripla pitagórica encontrada: i=0, j=16, k=16\n",
      "Tripla pitagórica encontrada: i=0, j=17, k=17\n",
      "Tripla pitagórica encontrada: i=0, j=18, k=18\n",
      "Tripla pitagórica encontrada: i=0, j=19, k=19\n",
      "Tripla pitagórica encontrada: i=0, j=20, k=20\n",
      "Tripla pitagórica encontrada: i=0, j=21, k=21\n",
      "Tripla pitagórica encontrada: i=0, j=22, k=22\n",
      "Tripla pitagórica encontrada: i=0, j=23, k=23\n",
      "Tripla pitagórica encontrada: i=0, j=24, k=24\n",
      "Tripla pitagórica encontrada: i=0, j=25, k=25\n",
      "Tripla pitagórica encontrada: i=0, j=26, k=26\n",
      "Tripla pitagórica encontrada: i=0, j=27, k=27\n",
      "Tripla pitagórica encontrada: i=0, j=28, k=28\n",
      "Tripla pitagórica encontrada: i=0, j=29, k=29\n",
      "Tripla pitagórica encontrada: i=0, j=30, k=30\n",
      "Tripla pitagórica encontrada: i=0, j=31, k=31\n",
      "Tripla pitagórica encontrada: i=0, j=32, k=32\n",
      "Tripla pitagórica encontrada: i=0, j=33, k=33\n",
      "Tripla pitagórica encontrada: i=0, j=34, k=34\n",
      "Tripla pitagórica encontrada: i=0, j=35, k=35\n",
      "Tripla pitagórica encontrada: i=0, j=36, k=36\n",
      "Tripla pitagórica encontrada: i=0, j=37, k=37\n",
      "Tripla pitagórica encontrada: i=0, j=38, k=38\n",
      "Tripla pitagórica encontrada: i=0, j=39, k=39\n",
      "Tripla pitagórica encontrada: i=0, j=40, k=40\n",
      "Tripla pitagórica encontrada: i=0, j=41, k=41\n",
      "Tripla pitagórica encontrada: i=0, j=42, k=42\n",
      "Tripla pitagórica encontrada: i=0, j=43, k=43\n",
      "Tripla pitagórica encontrada: i=0, j=44, k=44\n",
      "Tripla pitagórica encontrada: i=0, j=45, k=45\n",
      "Tripla pitagórica encontrada: i=0, j=46, k=46\n",
      "Tripla pitagórica encontrada: i=0, j=47, k=47\n",
      "Tripla pitagórica encontrada: i=0, j=48, k=48\n",
      "Tripla pitagórica encontrada: i=0, j=49, k=49\n",
      "Tripla pitagórica encontrada: i=0, j=50, k=50\n",
      "Tripla pitagórica encontrada: i=0, j=51, k=51\n",
      "Tripla pitagórica encontrada: i=0, j=52, k=52\n",
      "Tripla pitagórica encontrada: i=0, j=53, k=53\n",
      "Tripla pitagórica encontrada: i=0, j=54, k=54\n",
      "Tripla pitagórica encontrada: i=0, j=55, k=55\n",
      "Tripla pitagórica encontrada: i=0, j=56, k=56\n",
      "Tripla pitagórica encontrada: i=0, j=57, k=57\n",
      "Tripla pitagórica encontrada: i=0, j=58, k=58\n",
      "Tripla pitagórica encontrada: i=0, j=59, k=59\n",
      "Tripla pitagórica encontrada: i=0, j=60, k=60\n",
      "Tripla pitagórica encontrada: i=0, j=61, k=61\n",
      "Tripla pitagórica encontrada: i=0, j=62, k=62\n",
      "Tripla pitagórica encontrada: i=0, j=63, k=63\n",
      "Tripla pitagórica encontrada: i=0, j=64, k=64\n",
      "Tripla pitagórica encontrada: i=0, j=65, k=65\n",
      "Tripla pitagórica encontrada: i=0, j=66, k=66\n",
      "Tripla pitagórica encontrada: i=0, j=67, k=67\n",
      "Tripla pitagórica encontrada: i=0, j=68, k=68\n",
      "Tripla pitagórica encontrada: i=0, j=69, k=69\n",
      "Tripla pitagórica encontrada: i=0, j=70, k=70\n",
      "Tripla pitagórica encontrada: i=0, j=71, k=71\n",
      "Tripla pitagórica encontrada: i=0, j=72, k=72\n",
      "Tripla pitagórica encontrada: i=0, j=73, k=73\n",
      "Tripla pitagórica encontrada: i=0, j=74, k=74\n",
      "Tripla pitagórica encontrada: i=0, j=75, k=75\n",
      "Tripla pitagórica encontrada: i=0, j=76, k=76\n",
      "Tripla pitagórica encontrada: i=0, j=77, k=77\n",
      "Tripla pitagórica encontrada: i=0, j=78, k=78\n",
      "Tripla pitagórica encontrada: i=0, j=79, k=79\n",
      "Tripla pitagórica encontrada: i=0, j=80, k=80\n",
      "Tripla pitagórica encontrada: i=0, j=81, k=81\n",
      "Tripla pitagórica encontrada: i=0, j=82, k=82\n",
      "Tripla pitagórica encontrada: i=0, j=83, k=83\n",
      "Tripla pitagórica encontrada: i=0, j=84, k=84\n",
      "Tripla pitagórica encontrada: i=0, j=85, k=85\n",
      "Tripla pitagórica encontrada: i=0, j=86, k=86\n",
      "Tripla pitagórica encontrada: i=0, j=87, k=87\n",
      "Tripla pitagórica encontrada: i=0, j=88, k=88\n",
      "Tripla pitagórica encontrada: i=0, j=89, k=89\n",
      "Tripla pitagórica encontrada: i=0, j=90, k=90\n",
      "Tripla pitagórica encontrada: i=0, j=91, k=91\n",
      "Tripla pitagórica encontrada: i=0, j=92, k=92\n",
      "Tripla pitagórica encontrada: i=0, j=93, k=93\n",
      "Tripla pitagórica encontrada: i=0, j=94, k=94\n",
      "Tripla pitagórica encontrada: i=0, j=95, k=95\n",
      "Tripla pitagórica encontrada: i=0, j=96, k=96\n",
      "Tripla pitagórica encontrada: i=0, j=97, k=97\n",
      "Tripla pitagórica encontrada: i=0, j=98, k=98\n",
      "Tripla pitagórica encontrada: i=0, j=99, k=99\n",
      "Tripla pitagórica encontrada: i=1, j=0, k=1\n",
      "Tripla pitagórica encontrada: i=2, j=0, k=2\n",
      "Tripla pitagórica encontrada: i=3, j=0, k=3\n",
      "Tripla pitagórica encontrada: i=3, j=4, k=5\n",
      "Tripla pitagórica encontrada: i=4, j=0, k=4\n",
      "Tripla pitagórica encontrada: i=4, j=3, k=5\n",
      "Tripla pitagórica encontrada: i=5, j=0, k=5\n",
      "Tripla pitagórica encontrada: i=5, j=12, k=13\n",
      "Tripla pitagórica encontrada: i=6, j=0, k=6\n",
      "Tripla pitagórica encontrada: i=6, j=8, k=10\n",
      "Tripla pitagórica encontrada: i=7, j=0, k=7\n",
      "Tripla pitagórica encontrada: i=7, j=24, k=25\n",
      "Tripla pitagórica encontrada: i=8, j=0, k=8\n",
      "Tripla pitagórica encontrada: i=8, j=6, k=10\n",
      "Tripla pitagórica encontrada: i=8, j=15, k=17\n",
      "Tripla pitagórica encontrada: i=9, j=0, k=9\n",
      "Tripla pitagórica encontrada: i=9, j=12, k=15\n",
      "Tripla pitagórica encontrada: i=9, j=40, k=41\n",
      "Tripla pitagórica encontrada: i=10, j=0, k=10\n",
      "Tripla pitagórica encontrada: i=10, j=24, k=26\n",
      "Tripla pitagórica encontrada: i=11, j=0, k=11\n",
      "Tripla pitagórica encontrada: i=11, j=60, k=61\n",
      "Tripla pitagórica encontrada: i=12, j=0, k=12\n",
      "Tripla pitagórica encontrada: i=12, j=5, k=13\n",
      "Tripla pitagórica encontrada: i=12, j=9, k=15\n",
      "Tripla pitagórica encontrada: i=12, j=16, k=20\n",
      "Tripla pitagórica encontrada: i=12, j=35, k=37\n",
      "Tripla pitagórica encontrada: i=13, j=0, k=13\n",
      "Tripla pitagórica encontrada: i=13, j=84, k=85\n",
      "Tripla pitagórica encontrada: i=14, j=0, k=14\n",
      "Tripla pitagórica encontrada: i=14, j=48, k=50\n",
      "Tripla pitagórica encontrada: i=15, j=0, k=15\n",
      "Tripla pitagórica encontrada: i=15, j=8, k=17\n",
      "Tripla pitagórica encontrada: i=15, j=20, k=25\n",
      "Tripla pitagórica encontrada: i=15, j=36, k=39\n",
      "Tripla pitagórica encontrada: i=16, j=0, k=16\n",
      "Tripla pitagórica encontrada: i=16, j=12, k=20\n",
      "Tripla pitagórica encontrada: i=16, j=30, k=34\n",
      "Tripla pitagórica encontrada: i=16, j=63, k=65\n",
      "Tripla pitagórica encontrada: i=17, j=0, k=17\n",
      "Tripla pitagórica encontrada: i=18, j=0, k=18\n",
      "Tripla pitagórica encontrada: i=18, j=24, k=30\n",
      "Tripla pitagórica encontrada: i=18, j=80, k=82\n",
      "Tripla pitagórica encontrada: i=19, j=0, k=19\n",
      "Tripla pitagórica encontrada: i=20, j=0, k=20\n",
      "Tripla pitagórica encontrada: i=20, j=15, k=25\n",
      "Tripla pitagórica encontrada: i=20, j=21, k=29\n",
      "Tripla pitagórica encontrada: i=20, j=48, k=52\n",
      "Tripla pitagórica encontrada: i=21, j=0, k=21\n",
      "Tripla pitagórica encontrada: i=21, j=20, k=29\n",
      "Tripla pitagórica encontrada: i=21, j=28, k=35\n",
      "Tripla pitagórica encontrada: i=21, j=72, k=75\n",
      "Tripla pitagórica encontrada: i=22, j=0, k=22\n",
      "Tripla pitagórica encontrada: i=23, j=0, k=23\n",
      "Tripla pitagórica encontrada: i=24, j=0, k=24\n",
      "Tripla pitagórica encontrada: i=24, j=7, k=25\n",
      "Tripla pitagórica encontrada: i=24, j=10, k=26\n",
      "Tripla pitagórica encontrada: i=24, j=18, k=30\n",
      "Tripla pitagórica encontrada: i=24, j=32, k=40\n",
      "Tripla pitagórica encontrada: i=24, j=45, k=51\n",
      "Tripla pitagórica encontrada: i=24, j=70, k=74\n",
      "Tripla pitagórica encontrada: i=25, j=0, k=25\n",
      "Tripla pitagórica encontrada: i=25, j=60, k=65\n",
      "Tripla pitagórica encontrada: i=26, j=0, k=26\n",
      "Tripla pitagórica encontrada: i=27, j=0, k=27\n",
      "Tripla pitagórica encontrada: i=27, j=36, k=45\n",
      "Tripla pitagórica encontrada: i=28, j=0, k=28\n",
      "Tripla pitagórica encontrada: i=28, j=21, k=35\n",
      "Tripla pitagórica encontrada: i=28, j=45, k=53\n",
      "Tripla pitagórica encontrada: i=29, j=0, k=29\n",
      "Tripla pitagórica encontrada: i=30, j=0, k=30\n",
      "Tripla pitagórica encontrada: i=30, j=16, k=34\n",
      "Tripla pitagórica encontrada: i=30, j=40, k=50\n",
      "Tripla pitagórica encontrada: i=30, j=72, k=78\n",
      "Tripla pitagórica encontrada: i=31, j=0, k=31\n",
      "Tripla pitagórica encontrada: i=32, j=0, k=32\n",
      "Tripla pitagórica encontrada: i=32, j=24, k=40\n",
      "Tripla pitagórica encontrada: i=32, j=60, k=68\n",
      "Tripla pitagórica encontrada: i=33, j=0, k=33\n",
      "Tripla pitagórica encontrada: i=33, j=44, k=55\n",
      "Tripla pitagórica encontrada: i=33, j=56, k=65\n"
     ]
    },
    {
     "name": "stdout",
     "output_type": "stream",
     "text": [
      "Tripla pitagórica encontrada: i=34, j=0, k=34\n",
      "Tripla pitagórica encontrada: i=35, j=0, k=35\n",
      "Tripla pitagórica encontrada: i=35, j=12, k=37\n",
      "Tripla pitagórica encontrada: i=35, j=84, k=91\n",
      "Tripla pitagórica encontrada: i=36, j=0, k=36\n",
      "Tripla pitagórica encontrada: i=36, j=15, k=39\n",
      "Tripla pitagórica encontrada: i=36, j=27, k=45\n",
      "Tripla pitagórica encontrada: i=36, j=48, k=60\n",
      "Tripla pitagórica encontrada: i=36, j=77, k=85\n",
      "Tripla pitagórica encontrada: i=37, j=0, k=37\n",
      "Tripla pitagórica encontrada: i=38, j=0, k=38\n",
      "Tripla pitagórica encontrada: i=39, j=0, k=39\n",
      "Tripla pitagórica encontrada: i=39, j=52, k=65\n",
      "Tripla pitagórica encontrada: i=39, j=80, k=89\n",
      "Tripla pitagórica encontrada: i=40, j=0, k=40\n",
      "Tripla pitagórica encontrada: i=40, j=9, k=41\n",
      "Tripla pitagórica encontrada: i=40, j=30, k=50\n",
      "Tripla pitagórica encontrada: i=40, j=42, k=58\n",
      "Tripla pitagórica encontrada: i=40, j=75, k=85\n",
      "Tripla pitagórica encontrada: i=41, j=0, k=41\n",
      "Tripla pitagórica encontrada: i=42, j=0, k=42\n",
      "Tripla pitagórica encontrada: i=42, j=40, k=58\n",
      "Tripla pitagórica encontrada: i=42, j=56, k=70\n",
      "Tripla pitagórica encontrada: i=43, j=0, k=43\n",
      "Tripla pitagórica encontrada: i=44, j=0, k=44\n",
      "Tripla pitagórica encontrada: i=44, j=33, k=55\n",
      "Tripla pitagórica encontrada: i=45, j=0, k=45\n",
      "Tripla pitagórica encontrada: i=45, j=24, k=51\n",
      "Tripla pitagórica encontrada: i=45, j=28, k=53\n",
      "Tripla pitagórica encontrada: i=45, j=60, k=75\n",
      "Tripla pitagórica encontrada: i=46, j=0, k=46\n",
      "Tripla pitagórica encontrada: i=47, j=0, k=47\n",
      "Tripla pitagórica encontrada: i=48, j=0, k=48\n",
      "Tripla pitagórica encontrada: i=48, j=14, k=50\n",
      "Tripla pitagórica encontrada: i=48, j=20, k=52\n",
      "Tripla pitagórica encontrada: i=48, j=36, k=60\n",
      "Tripla pitagórica encontrada: i=48, j=55, k=73\n",
      "Tripla pitagórica encontrada: i=48, j=64, k=80\n",
      "Tripla pitagórica encontrada: i=49, j=0, k=49\n",
      "Tripla pitagórica encontrada: i=50, j=0, k=50\n",
      "Tripla pitagórica encontrada: i=51, j=0, k=51\n",
      "Tripla pitagórica encontrada: i=51, j=68, k=85\n",
      "Tripla pitagórica encontrada: i=52, j=0, k=52\n",
      "Tripla pitagórica encontrada: i=52, j=39, k=65\n",
      "Tripla pitagórica encontrada: i=53, j=0, k=53\n",
      "Tripla pitagórica encontrada: i=54, j=0, k=54\n",
      "Tripla pitagórica encontrada: i=54, j=72, k=90\n",
      "Tripla pitagórica encontrada: i=55, j=0, k=55\n",
      "Tripla pitagórica encontrada: i=55, j=48, k=73\n",
      "Tripla pitagórica encontrada: i=56, j=0, k=56\n",
      "Tripla pitagórica encontrada: i=56, j=33, k=65\n",
      "Tripla pitagórica encontrada: i=56, j=42, k=70\n",
      "Tripla pitagórica encontrada: i=57, j=0, k=57\n",
      "Tripla pitagórica encontrada: i=57, j=76, k=95\n",
      "Tripla pitagórica encontrada: i=58, j=0, k=58\n",
      "Tripla pitagórica encontrada: i=59, j=0, k=59\n",
      "Tripla pitagórica encontrada: i=60, j=0, k=60\n",
      "Tripla pitagórica encontrada: i=60, j=11, k=61\n",
      "Tripla pitagórica encontrada: i=60, j=25, k=65\n",
      "Tripla pitagórica encontrada: i=60, j=32, k=68\n",
      "Tripla pitagórica encontrada: i=60, j=45, k=75\n",
      "Tripla pitagórica encontrada: i=60, j=63, k=87\n",
      "Tripla pitagórica encontrada: i=61, j=0, k=61\n",
      "Tripla pitagórica encontrada: i=62, j=0, k=62\n",
      "Tripla pitagórica encontrada: i=63, j=0, k=63\n",
      "Tripla pitagórica encontrada: i=63, j=16, k=65\n",
      "Tripla pitagórica encontrada: i=63, j=60, k=87\n",
      "Tripla pitagórica encontrada: i=64, j=0, k=64\n",
      "Tripla pitagórica encontrada: i=64, j=48, k=80\n",
      "Tripla pitagórica encontrada: i=65, j=0, k=65\n",
      "Tripla pitagórica encontrada: i=65, j=72, k=97\n",
      "Tripla pitagórica encontrada: i=66, j=0, k=66\n",
      "Tripla pitagórica encontrada: i=67, j=0, k=67\n",
      "Tripla pitagórica encontrada: i=68, j=0, k=68\n",
      "Tripla pitagórica encontrada: i=68, j=51, k=85\n",
      "Tripla pitagórica encontrada: i=69, j=0, k=69\n",
      "Tripla pitagórica encontrada: i=70, j=0, k=70\n",
      "Tripla pitagórica encontrada: i=70, j=24, k=74\n",
      "Tripla pitagórica encontrada: i=71, j=0, k=71\n",
      "Tripla pitagórica encontrada: i=72, j=0, k=72\n",
      "Tripla pitagórica encontrada: i=72, j=21, k=75\n",
      "Tripla pitagórica encontrada: i=72, j=30, k=78\n",
      "Tripla pitagórica encontrada: i=72, j=54, k=90\n",
      "Tripla pitagórica encontrada: i=72, j=65, k=97\n",
      "Tripla pitagórica encontrada: i=73, j=0, k=73\n",
      "Tripla pitagórica encontrada: i=74, j=0, k=74\n",
      "Tripla pitagórica encontrada: i=75, j=0, k=75\n",
      "Tripla pitagórica encontrada: i=75, j=40, k=85\n",
      "Tripla pitagórica encontrada: i=76, j=0, k=76\n",
      "Tripla pitagórica encontrada: i=76, j=57, k=95\n",
      "Tripla pitagórica encontrada: i=77, j=0, k=77\n",
      "Tripla pitagórica encontrada: i=77, j=36, k=85\n",
      "Tripla pitagórica encontrada: i=78, j=0, k=78\n",
      "Tripla pitagórica encontrada: i=79, j=0, k=79\n",
      "Tripla pitagórica encontrada: i=80, j=0, k=80\n",
      "Tripla pitagórica encontrada: i=80, j=18, k=82\n",
      "Tripla pitagórica encontrada: i=80, j=39, k=89\n",
      "Tripla pitagórica encontrada: i=81, j=0, k=81\n",
      "Tripla pitagórica encontrada: i=82, j=0, k=82\n",
      "Tripla pitagórica encontrada: i=83, j=0, k=83\n",
      "Tripla pitagórica encontrada: i=84, j=0, k=84\n",
      "Tripla pitagórica encontrada: i=84, j=13, k=85\n",
      "Tripla pitagórica encontrada: i=84, j=35, k=91\n",
      "Tripla pitagórica encontrada: i=85, j=0, k=85\n",
      "Tripla pitagórica encontrada: i=86, j=0, k=86\n",
      "Tripla pitagórica encontrada: i=87, j=0, k=87\n",
      "Tripla pitagórica encontrada: i=88, j=0, k=88\n",
      "Tripla pitagórica encontrada: i=89, j=0, k=89\n",
      "Tripla pitagórica encontrada: i=90, j=0, k=90\n",
      "Tripla pitagórica encontrada: i=91, j=0, k=91\n",
      "Tripla pitagórica encontrada: i=92, j=0, k=92\n",
      "Tripla pitagórica encontrada: i=93, j=0, k=93\n",
      "Tripla pitagórica encontrada: i=94, j=0, k=94\n",
      "Tripla pitagórica encontrada: i=95, j=0, k=95\n",
      "Tripla pitagórica encontrada: i=96, j=0, k=96\n",
      "Tripla pitagórica encontrada: i=97, j=0, k=97\n",
      "Tripla pitagórica encontrada: i=98, j=0, k=98\n",
      "Tripla pitagórica encontrada: i=99, j=0, k=99\n"
     ]
    }
   ],
   "source": [
    "m=10\n",
    "funcion_a(100)"
   ]
  },
  {
   "cell_type": "code",
   "execution_count": 14,
   "metadata": {},
   "outputs": [],
   "source": [
    "m = 10\n",
    "funcion_b(100,3)"
   ]
  },
  {
   "cell_type": "markdown",
   "metadata": {},
   "source": [
    "> (20 puntos) El buscador está bien, los ceros no deberían estar incluídos (son soluciones triviales) pero el enunciado no aclara así que no hay problema. No veo acá la necesidad de usar el comparador de flotantes porque sn todos enteros. La b funciona bien por lo que puedo ver. El teorema de Fermat está probado sip. La idea es jugar un poco nomás ;)"
   ]
  },
  {
   "cell_type": "markdown",
   "metadata": {
    "pycharm": {
     "name": "#%% md\n"
    }
   },
   "source": [
    "**Ejercicio 5** *(20 puntos)* Una serie de Fourier tiene la forma\n",
    "$$ s(x) = \\frac{a_{0}}{2} + \\sum^{N}_{i=1}(a_{n}cos(nx) + b_{n}sin(nx))$$\n",
    "\n",
    "y puede aproximar (con valores adecuados de {an} y {bn}) cualquier\n",
    "función periódica de período 2π.\n",
    "\n",
    "a) *(8 puntos)* Implementar una función que acepte como parámetros\n",
    "dos listas conteniendo los conjuntos de coeficientes {an} y {bn}\n",
    "y evalúe la correspondiente serie de Fourier para un argumento\n",
    "$x ∈ \\mathbb{R}$.\n",
    "\n",
    "b) *(8 puntos)* Utilizar la función anterior para implementar una nueva\n",
    "función que evalúe la serie de Fourier de la función serrucho para\n",
    "la cual:\n",
    "$$a_{n} = 0 \\ \\ \\ \\forall\\ n$$\n",
    "\n",
    "y\n",
    "$$b_{n} = \\frac{2(-1)^{n+1}}{n\\pi} \\ \\forall \\ n \\geq 1$$\n",
    "\n",
    "c) *(4 puntos)* Comparar gráficamente la aproximación de orden 10\n",
    "para la función serrucho. Utilizar la siguiente definición para la\n",
    "función serrucho:\n",
    "\n",
    "```python\n",
    "def f(x):\n",
    "    return 2*((x+1/2) - math.floor(x+1/2)) - 1\n",
    "```\n",
    "\n",
    "Nota: En esta definición f(x) es periódica con período 1."
   ]
  },
  {
   "cell_type": "code",
   "execution_count": 23,
   "metadata": {
    "pycharm": {
     "name": "#%%\n"
    }
   },
   "outputs": [
    {
     "name": "stdout",
     "output_type": "stream",
     "text": [
      "coeficientes: [0, 0, 0, 0, 0, 0, 0, 0, 0, 0] [0.6366197723675814, -0.3183098861837907, 0.2122065907891938, -0.15915494309189535, 0.12732395447351627, -0.1061032953945969, 0.09094568176679733, -0.07957747154594767, 0.0707355302630646, -0.06366197723675814]\n"
     ]
    },
    {
     "data": {
      "image/png": "[encoded data removed]",
      "text/plain": [
       "<Figure size 432x288 with 1 Axes>"
      ]
     },
     "metadata": {
      "needs_background": "dark"
     },
     "output_type": "display_data"
    }
   ],
   "source": [
    "def fourier_aprox(x,a0,an,bn,n):\n",
    "\n",
    "    #Calcular aproximación por series de fourier\n",
    "    # x: valor en el cual se aproxima la función\n",
    "    # a0:: termino a0\n",
    "    # an & bn : listas correspondientes a los coeficientes\n",
    "    #T: periodo de la función\n",
    "    #n:orden de aproximación\n",
    "\n",
    "    #print(x,\"\\n\",a0,\"\\n\",an,\"\\n\",bn,\"\\n\",n)\n",
    "    fa = (a0 / 2) #asignamos primero el valor promedio\n",
    "    for i in range(1,n+1):\n",
    "        fa += (an[0] * np.cos(i * x)) + (bn[0] * np.sin(i * 2 * np.pi * x))\n",
    "        #print(fa)\n",
    "    return fa\n",
    "\n",
    "\n",
    "def funcion_serrucho_fa(x,m):\n",
    "\n",
    "    #Aproximación función serrucho\n",
    "    #x: serie de entradas de datos\n",
    "    #m: orden de aproximación\n",
    "\n",
    "    #Generamos primero los coeficientes de aproximación\n",
    "    a_0 = 0\n",
    "    a_n = []\n",
    "    b_n = []\n",
    "    for i in range(m):\n",
    "        n = i + 1\n",
    "        a = 0\n",
    "        b = (2 * np.power(-1, n + 1)) / (n * np.pi)\n",
    "        a_n.append(a)\n",
    "        b_n.append(b)\n",
    "\n",
    "    print(\"coeficientes:\",a_n,b_n)\n",
    "    ys = []\n",
    "    for i in range(len(x)):\n",
    "        y = fourier_aprox(x[i],a_0,a_n,b_n,m)\n",
    "        ys.append(y)\n",
    "    return ys\n",
    "\n",
    "def funcion_serrucho(x):\n",
    "    ys = []\n",
    "    for i in range(len(x)):\n",
    "        y = 2*((x[i]+1/2) - math.floor(x[i]+1/2)) - 1\n",
    "        ys.append(y)\n",
    "    return ys\n",
    "\n",
    "#######################################################################\n",
    "#Realizamos la comparación gráfica\n",
    "#Primero generamos la serie de datos de entrada (x) _& salida\n",
    "\n",
    "xmin = -3\n",
    "xmax = 3\n",
    "n_intervalos = 1000\n",
    "xs = []\n",
    "\n",
    "#Generamos los datos de entrada y Evaluamos la función\n",
    "for i in range(n_intervalos):\n",
    "    xvalue = xmin + (i * (xmax - xmin) / n_intervalos)\n",
    "    xs.append(xvalue)\n",
    "\n",
    "#Aproximación de orden 10 para la función serrucho\n",
    "aprox_order = 10\n",
    "fs_fa = funcion_serrucho_fa(xs,aprox_order)\n",
    "\n",
    "#Definición función serrucho\n",
    "fs = funcion_serrucho(xs)\n",
    "\n",
    "\n",
    "#######################################################################\n",
    "\n",
    "#Finalmente compramos graficamente\n",
    "#Ploteamos la aproximación\n",
    "plt.plot(xs,fs_fa,color = 'blue')\n",
    "#Luego la funcion real\n",
    "plt.plot(xs,fs, color = 'red')\n",
    "plt.xlabel('x', color = 'white')\n",
    "plt.xlim(-1.1,1.1)\n",
    "plt.ylim(-2,2)\n",
    "plt.title(\"Comparación función serrucho vs Apróx. por serie de fourier\", color = 'white')\n",
    "plt.axhline(0,color ='black')\n",
    "plt.tick_params(axis = 'both', which = 'both', color = 'white', labelcolor = 'white')\n",
    "plt.grid(b = True)\n",
    "\n",
    "#Bueno claramente algo estoy haciendo muy mal"
   ]
  },
  {
   "cell_type": "markdown",
   "metadata": {},
   "source": [
    "> (5 puntos) Estuve toqueteando un poco y no logro entender porque no anda bien, de entrada estás usando siempre el bn[0] en todos los términos, pero cambié eso y no alcanza. No me da el tiempo para debugguear todo, pero intentalo vos! Es un buen examen, está bien comentado. Como recomendación sugiero en el futuro separar más en celdas independientes para poder probar mejor. La prueba en el último se dificulta mucho en parte porque está todo en una celda."
   ]
  },
  {
   "cell_type": "code",
   "execution_count": null,
   "metadata": {},
   "outputs": [],
   "source": []
  }
 ],
 "metadata": {
  "kernelspec": {
   "display_name": "Python 3",
   "language": "python",
   "name": "python3"
  },
  "language_info": {
   "codemirror_mode": {
    "name": "ipython",
    "version": 3
   },
   "file_extension": ".py",
   "mimetype": "text/x-python",
   "name": "python",
   "nbconvert_exporter": "python",
   "pygments_lexer": "ipython3",
   "version": "3.8.3"
  }
 },
 "nbformat": 4,
 "nbformat_minor": 1
}
