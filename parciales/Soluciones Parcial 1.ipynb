{
 "cells": [
  {
   "cell_type": "markdown",
   "metadata": {},
   "source": [
    "## Ejercicio 1\n",
    "\n",
    "Graficar la función \n",
    "\n",
    "$$ f(x) = e^{-x}\\sin 10x $$\n",
    "\n",
    "en el intervalo $[0,10]$."
   ]
  },
  {
   "cell_type": "code",
   "execution_count": 1,
   "metadata": {},
   "outputs": [],
   "source": [
    "import matplotlib.pyplot as plt\n",
    "import math as m"
   ]
  },
  {
   "cell_type": "code",
   "execution_count": 2,
   "metadata": {
    "lines_to_next_cell": 2
   },
   "outputs": [],
   "source": [
    "xs = [i * 10 / 1000 for i in range(1001)]"
   ]
  },
  {
   "cell_type": "code",
   "execution_count": 3,
   "metadata": {},
   "outputs": [
    {
     "data": {
      "text/plain": [
       "[<matplotlib.lines.Line2D at 0x7fdfb2320400>]"
      ]
     },
     "execution_count": 3,
     "metadata": {},
     "output_type": "execute_result"
    },
    {
     "data": {
      "image/png": "[encoded data removed]",
      "text/plain": [
       "<Figure size 432x288 with 1 Axes>"
      ]
     },
     "metadata": {
      "needs_background": "light"
     },
     "output_type": "display_data"
    }
   ],
   "source": [
    "plt.plot(xs,[m.exp(-x)*m.sin(10*x) for x in xs])"
   ]
  },
  {
   "cell_type": "markdown",
   "metadata": {},
   "source": [
    "## Ejercicio 2\n",
    "\n",
    "Implementar una función que clasifique un triángulo como rectángulo, acutángulo u obtuso dadas las longitudes de sus lados $a$,$b$ y $c$ en base a la siguiente tabla:\n",
    "\n",
    "|     Condición                    |  Tipo|\n",
    "|-----|-----|\n",
    "| si $a^2 + b^2 = c^2$ | el triángulo es **rectángulo** |\n",
    "| si $a^2 + b^2 > c^2$ | el triángulo es **acutángulo** |\n",
    "| si $a^2 + b^2 < c^2$ | el triángulo es **obtuso** |"
   ]
  },
  {
   "cell_type": "code",
   "execution_count": 4,
   "metadata": {},
   "outputs": [],
   "source": [
    "def que_triángulo(a,b,c):\n",
    "    if a**2 + b**2 > c**2:\n",
    "        print('El triángulo es acutángulo')\n",
    "    elif a**2 + b**2 < c**2:\n",
    "        print('El triángulo es obtusángulo')\n",
    "    else:\n",
    "        print('El triángulo es rectángulo')"
   ]
  },
  {
   "cell_type": "markdown",
   "metadata": {},
   "source": [
    "hay que tener cuidado con el igual porque me huele que esa función no va a encontrar ningún triángulo rectángulo"
   ]
  },
  {
   "cell_type": "code",
   "execution_count": 5,
   "metadata": {},
   "outputs": [],
   "source": [
    "c = m.sqrt(0.1**2+0.7**2)"
   ]
  },
  {
   "cell_type": "code",
   "execution_count": 6,
   "metadata": {},
   "outputs": [
    {
     "name": "stdout",
     "output_type": "stream",
     "text": [
      "El triángulo es acutángulo\n"
     ]
    }
   ],
   "source": [
    "que_triángulo(0.1,0.7,c)"
   ]
  },
  {
   "cell_type": "code",
   "execution_count": 7,
   "metadata": {},
   "outputs": [
    {
     "data": {
      "text/plain": [
       "(0.49999999999999994, 0.4999999999999999)"
      ]
     },
     "execution_count": 7,
     "metadata": {},
     "output_type": "execute_result"
    }
   ],
   "source": [
    "0.1**2+0.7**2,c**2"
   ]
  },
  {
   "cell_type": "markdown",
   "metadata": {},
   "source": [
    "Efectivamente, entonces habría que hacer lo que sigue por lo menos. A esto los que prestaron atención en el teórico deberían intentarlo:"
   ]
  },
  {
   "cell_type": "code",
   "execution_count": 8,
   "metadata": {},
   "outputs": [],
   "source": [
    "def que_triángulo2(a,b,c, tol=1e-13):\n",
    "    if abs(a**2 + b**2 - c**2) <= tol:\n",
    "        print('El triángulo rectángulo')\n",
    "    elif a**2 + b**2 > c**2:\n",
    "        print('El triángulo es acutángulo')\n",
    "    elif a**2 + b**2 < c**2:\n",
    "        print('El triángulo es obtusángulo')\n",
    "    else:\n",
    "        print('Algo anduvo mal')"
   ]
  },
  {
   "cell_type": "code",
   "execution_count": 9,
   "metadata": {},
   "outputs": [
    {
     "name": "stdout",
     "output_type": "stream",
     "text": [
      "El triángulo rectángulo\n"
     ]
    }
   ],
   "source": [
    "que_triángulo2(0.1,0.7,c)"
   ]
  },
  {
   "cell_type": "markdown",
   "metadata": {},
   "source": [
    "## Ejercicio 3\n",
    "\n",
    "Implementar una función que encuentre determine las componentes del vector $\\mathbf{C}$, donde $\\mathbf{C}=\\mathbf{A}\\times\\mathbf{B}$ es el producto vectorial entre los vectores $\\mathbf{A}$ y $\\mathbf{B}$. La función debe aceptar como parámetros dos listas de tres elementos conteniendo las componentes de $\\mathbf{A}$ y $\\mathbf{B}$ y devolver una lista \n",
    "de tres elementos que contenga las componentes de $\\mathbf{C}$"
   ]
  },
  {
   "cell_type": "code",
   "execution_count": 10,
   "metadata": {},
   "outputs": [],
   "source": [
    "def producto_vectorial(A,B):\n",
    "    C = []\n",
    "    C += [A[1]*B[2]-A[2]*B[1]]\n",
    "    C += [A[2]*B[0]-A[0]*B[2]]\n",
    "    C += [A[0]*B[1]-A[1]*B[0]]\n",
    "    return C"
   ]
  },
  {
   "cell_type": "code",
   "execution_count": 11,
   "metadata": {},
   "outputs": [
    {
     "data": {
      "text/plain": [
       "[-4, 8, -4]"
      ]
     },
     "execution_count": 11,
     "metadata": {},
     "output_type": "execute_result"
    }
   ],
   "source": [
    "producto_vectorial([1,2,3],[3,2,1])"
   ]
  },
  {
   "cell_type": "markdown",
   "metadata": {},
   "source": [
    "## Ejercicio 4\n",
    "\n",
    "La ecuación Pitagórica \n",
    "$$i^2+j^2=z^2$$\n",
    "tiene un número infinito de soluciones enteras **positivas** llamadas \"triplas Pitagóricas\". \n",
    "\n",
    "a. Diseñar e implementar una función que calcule  (imprima) todas las triplas Pitagóricas para un dado $m$ tal que $i \\le m$, $j\\le m$ y $k\\le m$. No importa si el código devuelve algunas triplas repetidas.\n",
    "\n",
    "b. Modificar la función para \"probar\" el último teorema de Fermat, que asegura que no existe ninguna solución de enteros positivos a \n",
    "$$i^n+j^n=z^n$$\n",
    "si $n>2$, para un dado $m$ tal que $i \\le m$, $j\\le m$ y $k\\le m$.\n",
    "\n",
    "c. (**opcional**) Modificar la función para que devuelva una secuencia de tuplas que contenga las triplas sin repeticiones."
   ]
  },
  {
   "cell_type": "code",
   "execution_count": 12,
   "metadata": {},
   "outputs": [],
   "source": [
    "def triplas_pitagóricas(n):\n",
    "    cuantas = 0\n",
    "    for i in range(1,n+1):\n",
    "        for j in range(1,n+1):\n",
    "            for k in range(1,n+1):\n",
    "                if i**2 + j**2 == k**2:\n",
    "                    print(i,j,k)\n",
    "                    cuantas += 1\n",
    "    print(f'hay {cuantas} triplas')"
   ]
  },
  {
   "cell_type": "code",
   "execution_count": 38,
   "metadata": {},
   "outputs": [
    {
     "name": "stdout",
     "output_type": "stream",
     "text": [
      "3 4 5\n",
      "4 3 5\n",
      "5 12 13\n",
      "6 8 10\n",
      "7 24 25\n",
      "8 6 10\n",
      "8 15 17\n",
      "9 12 15\n",
      "9 40 41\n",
      "10 24 26\n",
      "11 60 61\n",
      "12 5 13\n",
      "12 9 15\n",
      "12 16 20\n",
      "12 35 37\n",
      "13 84 85\n",
      "14 48 50\n",
      "15 8 17\n",
      "15 20 25\n",
      "15 36 39\n",
      "16 12 20\n",
      "16 30 34\n",
      "16 63 65\n",
      "18 24 30\n",
      "18 80 82\n",
      "20 15 25\n",
      "20 21 29\n",
      "20 48 52\n",
      "21 20 29\n",
      "21 28 35\n",
      "21 72 75\n",
      "24 7 25\n",
      "24 10 26\n",
      "24 18 30\n",
      "24 32 40\n",
      "24 45 51\n",
      "24 70 74\n",
      "25 60 65\n",
      "27 36 45\n",
      "28 21 35\n",
      "28 45 53\n",
      "28 96 100\n",
      "30 16 34\n",
      "30 40 50\n",
      "30 72 78\n",
      "32 24 40\n",
      "32 60 68\n",
      "33 44 55\n",
      "33 56 65\n",
      "35 12 37\n",
      "35 84 91\n",
      "36 15 39\n",
      "36 27 45\n",
      "36 48 60\n",
      "36 77 85\n",
      "39 52 65\n",
      "39 80 89\n",
      "40 9 41\n",
      "40 30 50\n",
      "40 42 58\n",
      "40 75 85\n",
      "42 40 58\n",
      "42 56 70\n",
      "44 33 55\n",
      "45 24 51\n",
      "45 28 53\n",
      "45 60 75\n",
      "48 14 50\n",
      "48 20 52\n",
      "48 36 60\n",
      "48 55 73\n",
      "48 64 80\n",
      "51 68 85\n",
      "52 39 65\n",
      "54 72 90\n",
      "55 48 73\n",
      "56 33 65\n",
      "56 42 70\n",
      "57 76 95\n",
      "60 11 61\n",
      "60 25 65\n",
      "60 32 68\n",
      "60 45 75\n",
      "60 63 87\n",
      "60 80 100\n",
      "63 16 65\n",
      "63 60 87\n",
      "64 48 80\n",
      "65 72 97\n",
      "68 51 85\n",
      "70 24 74\n",
      "72 21 75\n",
      "72 30 78\n",
      "72 54 90\n",
      "72 65 97\n",
      "75 40 85\n",
      "76 57 95\n",
      "77 36 85\n",
      "80 18 82\n",
      "80 39 89\n",
      "80 60 100\n",
      "84 13 85\n",
      "84 35 91\n",
      "96 28 100\n",
      "hay 104 triplas\n"
     ]
    }
   ],
   "source": [
    "triplas_pitagóricas(100)"
   ]
  },
  {
   "cell_type": "code",
   "execution_count": 37,
   "metadata": {},
   "outputs": [
    {
     "data": {
      "text/plain": [
       "(225, 225)"
      ]
     },
     "execution_count": 37,
     "metadata": {},
     "output_type": "execute_result"
    }
   ],
   "source": [
    "9**2+12**2,15**2"
   ]
  },
  {
   "cell_type": "code",
   "execution_count": 34,
   "metadata": {},
   "outputs": [],
   "source": [
    "def plimpton(m):\n",
    "    cuantas = 0\n",
    "    for n in range(1, m+1): #Empiezo desde 1 para evitar las ternas con cero por la trivialidad\n",
    "        for l in range(1, m+1):\n",
    "            if (l > n):\n",
    "                i = l**2 - n**2\n",
    "                j = 2 * n * l\n",
    "                k = n**2 + l**2\n",
    "                if i<=m and j<=m and k<=m:\n",
    "                    print(i,j,k)\n",
    "                    cuantas += 1\n",
    "    print(f'hay {cuantas} triplas')"
   ]
  },
  {
   "cell_type": "code",
   "execution_count": 36,
   "metadata": {},
   "outputs": [
    {
     "name": "stdout",
     "output_type": "stream",
     "text": [
      "3 4 5\n",
      "8 6 10\n",
      "15 8 17\n",
      "24 10 26\n",
      "35 12 37\n",
      "48 14 50\n",
      "5 12 13\n",
      "12 16 20\n",
      "21 20 29\n",
      "32 24 40\n",
      "7 24 25\n",
      "16 30 34\n",
      "27 36 45\n",
      "9 40 41\n",
      "hay 14 triplas\n"
     ]
    }
   ],
   "source": [
    "plimpton(50)"
   ]
  },
  {
   "cell_type": "code",
   "execution_count": 12,
   "metadata": {},
   "outputs": [],
   "source": [
    "def triplas_pitagóricas(n):\n",
    "    cuantas = 0\n",
    "    for i in range(1,n+1):\n",
    "        for j in range(1,n+1):\n",
    "            for k in range(1,n+1):\n",
    "                if i**2 + j**2 == k**2:\n",
    "                    print(i,j,k)\n",
    "                    cuantas += 1\n",
    "    print(f'hay {cuantas} triplas')"
   ]
  },
  {
   "cell_type": "code",
   "execution_count": 14,
   "metadata": {},
   "outputs": [],
   "source": [
    "import itertools # Acá estoy haciendo trampa para encontrar las permutaciones, hay formas más simples (ordenar las triplas por ej. )"
   ]
  },
  {
   "cell_type": "code",
   "execution_count": 15,
   "metadata": {},
   "outputs": [],
   "source": [
    "def triplas_p_únicas(n):\n",
    "    l = []\n",
    "    for p in itertools.permutations([i for i in range(1,n)],r=3):\n",
    "        if p[0]**2 + p[1]**2 == p[2]**2: l += [p]\n",
    "    return l"
   ]
  },
  {
   "cell_type": "code",
   "execution_count": 16,
   "metadata": {},
   "outputs": [],
   "source": [
    "lista = triplas_p_únicas(100)"
   ]
  },
  {
   "cell_type": "code",
   "execution_count": 17,
   "metadata": {},
   "outputs": [
    {
     "data": {
      "text/plain": [
       "100"
      ]
     },
     "execution_count": 17,
     "metadata": {},
     "output_type": "execute_result"
    }
   ],
   "source": [
    "len(lista)"
   ]
  },
  {
   "cell_type": "code",
   "execution_count": 18,
   "metadata": {},
   "outputs": [],
   "source": [
    "def fermat(m,n):\n",
    "    fermat = True\n",
    "    for i in range(1,m+1):\n",
    "        for j in range(1,m+1):\n",
    "            for k in range(1,m+1):\n",
    "                if i**n + j**n == k**n: fermat = False\n",
    "\n",
    "    if fermat: print(f'Fermat tiene razón hasta {m}')"
   ]
  },
  {
   "cell_type": "code",
   "execution_count": 20,
   "metadata": {},
   "outputs": [
    {
     "name": "stdout",
     "output_type": "stream",
     "text": [
      "Fermat tiene razón hasta 50\n"
     ]
    }
   ],
   "source": [
    "fermat(50,3)"
   ]
  },
  {
   "cell_type": "markdown",
   "metadata": {},
   "source": [
    "## Ejercicio 5\n",
    "\n",
    "Una serie de Fourier tiene la forma\n",
    "\n",
    "$$s(x) = \\frac{a_0}{2}+\\sum_{i=1}^n \\left( a_i \\cos(ix) + b_i \\sin(ix) \\right)$$\n",
    "\n",
    "y puede aproximar (con valores adecuados de ($a_i$ y $b_i$) cualquier función periódica de período $2\\pi$.\n",
    "\n",
    "a. Implementar una función que acepte como parámetros dos listas conteniendo los conjuntos de coeficientes $\\{a_i\\}$ y $\\{b_i\\}$ y evalúe la correspondiente serie de Fourier para un argumento $x\\in \\mathbb{R}$.\n",
    "\n",
    "b. Utilizar la función anterior para implementar una nueva función que evalúe la serie de Fourier de la función *serrucho* para la cual \n",
    "\n",
    "$$a_i = 0\\ \\forall\\ i$$\n",
    "y\n",
    "$$b_i = \\frac{2(-1)^{i+1}}{i \\pi}\\ \\forall i\\ge 1$$\n",
    "\n",
    "c. Comparar gráficamente la aproximación de órden $6$ para la función serrucho. Utilizar la siguiente definición para la función serrucho:\n",
    "\n",
    "`def f(x):\n",
    "    return 2*((x+1/2) - m.floor(x+1/2)) - 1`\n"
   ]
  },
  {
   "cell_type": "code",
   "execution_count": 21,
   "metadata": {},
   "outputs": [],
   "source": [
    "def serie_fourier(x,ass,bss,N):\n",
    "    s = ass[0]/2\n",
    "    for n in range(1,N+1):\n",
    "        s += ass[n] * m.cos(n*x) + bss[n] * m.sin(n*x)\n",
    "    return s"
   ]
  },
  {
   "cell_type": "code",
   "execution_count": 22,
   "metadata": {},
   "outputs": [],
   "source": [
    "def bs_serrucho(N):\n",
    "    return [0] + [2*(-1)**(i+1)/i/m.pi for i in range(1,N+1)]"
   ]
  },
  {
   "cell_type": "code",
   "execution_count": 23,
   "metadata": {},
   "outputs": [],
   "source": [
    "N = 10\n",
    "bs = bs_serrucho(N)\n",
    "ass = [0 for i in range(0,N+1)]"
   ]
  },
  {
   "cell_type": "code",
   "execution_count": 24,
   "metadata": {},
   "outputs": [],
   "source": [
    "def f(x):\n",
    "    return 2*((x+1/2) - m.floor(x+1/2)) - 1"
   ]
  },
  {
   "cell_type": "code",
   "execution_count": 25,
   "metadata": {},
   "outputs": [],
   "source": [
    "xmin = - 2\n",
    "xmax = 2\n",
    "nx = 1000\n",
    "xs = [xmin + i * (xmax-xmin) / nx for i in range(1001)]\n",
    "ys = [serie_fourier(x*2*m.pi,ass,bs,N) for x in xs]\n",
    "yss = [f(x) for x in xs]"
   ]
  },
  {
   "cell_type": "code",
   "execution_count": 26,
   "metadata": {},
   "outputs": [
    {
     "data": {
      "text/plain": [
       "[<matplotlib.lines.Line2D at 0x7fdfb24c55b0>]"
      ]
     },
     "execution_count": 26,
     "metadata": {},
     "output_type": "execute_result"
    },
    {
     "data": {
      "image/png": "[encoded data removed]",
      "text/plain": [
       "<Figure size 432x288 with 1 Axes>"
      ]
     },
     "metadata": {
      "needs_background": "light"
     },
     "output_type": "display_data"
    }
   ],
   "source": [
    "plt.plot(xs,ys)\n",
    "plt.plot(xs,yss)"
   ]
  },
  {
   "cell_type": "code",
   "execution_count": 27,
   "metadata": {},
   "outputs": [
    {
     "data": {
      "text/plain": [
       "[0,\n",
       " 0.6366197723675814,\n",
       " -0.3183098861837907,\n",
       " 0.21220659078919377,\n",
       " -0.15915494309189535,\n",
       " 0.12732395447351627,\n",
       " -0.10610329539459688,\n",
       " 0.09094568176679733,\n",
       " -0.07957747154594767,\n",
       " 0.07073553026306459,\n",
       " -0.06366197723675814]"
      ]
     },
     "execution_count": 27,
     "metadata": {},
     "output_type": "execute_result"
    }
   ],
   "source": [
    "bs"
   ]
  },
  {
   "cell_type": "code",
   "execution_count": null,
   "metadata": {},
   "outputs": [],
   "source": []
  }
 ],
 "metadata": {
  "jupytext": {
   "encoding": "# -*- coding: utf-8 -*-",
   "formats": "ipynb,py:percent"
  },
  "kernelspec": {
   "display_name": "Python 3",
   "language": "python",
   "name": "python3"
  },
  "language_info": {
   "codemirror_mode": {
    "name": "ipython",
    "version": 3
   },
   "file_extension": ".py",
   "mimetype": "text/x-python",
   "name": "python",
   "nbconvert_exporter": "python",
   "pygments_lexer": "ipython3",
   "version": "3.8.3"
  }
 },
 "nbformat": 4,
 "nbformat_minor": 4
}
