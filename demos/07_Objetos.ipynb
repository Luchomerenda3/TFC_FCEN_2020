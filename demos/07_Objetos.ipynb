{
 "cells": [
  {
   "cell_type": "markdown",
   "metadata": {},
   "source": [
    "# Objetos\n",
    "\n",
    "Es posible utilizar python sin utilizar a fondo el paradigma de prgramación orientada a objetos (POO). Se puede utilizar Python de manera muy eficiente sin jamás diseñar una *Clase*. Pero es dificil evadir conocer *algo* de la implementación de POO en Python sobre todo si usamos bibliotecas como NumPy o matplotlib.\n",
    "\n",
    "Como dijimos, *todo* en Python es un objeto, y como tal tiene *propiedades* y *metodos*. Para ejemplificar a vuelo de pájaro algunos de los conceptos vamos a usar el tipo `complex`.\n",
    "\n",
    "Un objeto nuevo que pertenece a una determinada *clase* se crea (generalmente) utilizando una función llamada *constructor* que devuelve una *instancia*. El constructor de la clase `complex` es la función del mismo nombre:"
   ]
  },
  {
   "cell_type": "code",
   "execution_count": 1,
   "metadata": {},
   "outputs": [],
   "source": [
    "z = complex(1.0,2.0)"
   ]
  },
  {
   "cell_type": "code",
   "execution_count": 2,
   "metadata": {},
   "outputs": [],
   "source": [
    "type(z)"
   ]
  },
  {
   "cell_type": "markdown",
   "metadata": {},
   "source": [
    "Podemos ver todos los métodos y propiedades del objeto usando la función `dir`. La lista es larga e incluye métodos de la forma `__método__`. Estos métodos son especiales e implementan, entre otras cosas las operaciones binarias como suma o producto en `__add__` y `__mul__`. Esos métodos o propiedades especiales no están diseñados para ser utilizados a través de sus respectivos operadores."
   ]
  },
  {
   "cell_type": "code",
   "execution_count": 3,
   "metadata": {},
   "outputs": [],
   "source": [
    "dir(z)"
   ]
  },
  {
   "cell_type": "markdown",
   "metadata": {},
   "source": [
    "En la lista aparecen tres que no tienen guiones bajos, dos de ellos son propiedades:"
   ]
  },
  {
   "cell_type": "code",
   "execution_count": 4,
   "metadata": {},
   "outputs": [],
   "source": [
    "z.real"
   ]
  },
  {
   "cell_type": "code",
   "execution_count": 5,
   "metadata": {},
   "outputs": [],
   "source": [
    "z.imag"
   ]
  },
  {
   "cell_type": "markdown",
   "metadata": {},
   "source": [
    "Y el otro es un método, en este caso muy simple, que no modifica al objeto:"
   ]
  },
  {
   "cell_type": "code",
   "execution_count": 6,
   "metadata": {},
   "outputs": [],
   "source": [
    "z.conjugate()"
   ]
  },
  {
   "cell_type": "markdown",
   "metadata": {},
   "source": [
    "Con esos elementos debería alcanzarnos para hacer uso de los elementos de POO que necesitaremos durante el resto del curso."
   ]
  }
 ],
 "metadata": {
  "jupytext": {
   "encoding": "# -*- coding: utf-8 -*-",
   "formats": "ipynb,py:percent"
  },
  "kernelspec": {
   "display_name": "Python 3",
   "language": "python",
   "name": "python3"
  },
  "language_info": {
   "codemirror_mode": {
    "name": "ipython",
    "version": 3
   },
   "file_extension": ".py",
   "mimetype": "text/x-python",
   "name": "python",
   "nbconvert_exporter": "python",
   "pygments_lexer": "ipython3",
   "version": "3.8.3"
  }
 },
 "nbformat": 4,
 "nbformat_minor": 4
}
