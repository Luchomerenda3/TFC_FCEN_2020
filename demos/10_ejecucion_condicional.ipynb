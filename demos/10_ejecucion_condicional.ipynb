{
 "cells": [
  {
   "cell_type": "markdown",
   "metadata": {},
   "source": [
    "# Ejecución condicional\n",
    "\n",
    "Como una primera aplicación de la ejecución condicional construiremos una función que verifique que la función que diseñamos para ejecutar la operación XOR funciona correctamente probando que de el resultado de la tabla de verdad para cada entrada. No temos que estamos pasando como argumento a la función otra función."
   ]
  },
  {
   "cell_type": "code",
   "execution_count": 1,
   "metadata": {},
   "outputs": [],
   "source": [
    "def prueba_xor(func):\n",
    "    falla = True # Inicializamos esta variable asumiendo que falla\n",
    "    if func(False,False) != False:\n",
    "        print(\"FALLA!!!!!\")\n",
    "    elif func(False,True) != True:\n",
    "        print(\"FALLA!!!!!\")\n",
    "    elif func(True,False) != True:\n",
    "        print(\"FALLA!!!!!\")\n",
    "    elif func(True,True) != False:\n",
    "        print(\"FALLA!!!!!\")\n",
    "    else:\n",
    "        falla = False\n",
    "        print(\"Funciona BIEN.\")\n",
    "    return falla"
   ]
  },
  {
   "cell_type": "code",
   "execution_count": 2,
   "metadata": {},
   "outputs": [],
   "source": [
    "def xor(A,B):\n",
    "    return ((not A) and B) or (A and (not B)) "
   ]
  },
  {
   "cell_type": "code",
   "execution_count": 3,
   "metadata": {},
   "outputs": [],
   "source": [
    "def mala(A,B):\n",
    "    return ((not A) and B) or (A and B)"
   ]
  },
  {
   "cell_type": "code",
   "execution_count": 4,
   "metadata": {},
   "outputs": [
    {
     "name": "stdout",
     "output_type": "stream",
     "text": [
      "Funciona BIEN.\n"
     ]
    },
    {
     "data": {
      "text/plain": [
       "False"
      ]
     },
     "execution_count": 4,
     "metadata": {},
     "output_type": "execute_result"
    }
   ],
   "source": [
    "prueba_xor(xor)"
   ]
  },
  {
   "cell_type": "code",
   "execution_count": 5,
   "metadata": {},
   "outputs": [
    {
     "name": "stdout",
     "output_type": "stream",
     "text": [
      "FALLA!!!!!\n"
     ]
    },
    {
     "data": {
      "text/plain": [
       "True"
      ]
     },
     "execution_count": 5,
     "metadata": {},
     "output_type": "execute_result"
    }
   ],
   "source": [
    "prueba_xor(mala)"
   ]
  },
  {
   "cell_type": "markdown",
   "metadata": {},
   "source": [
    "Pero qué pasa si queremos saber dónde falla, podemos hacer lo que sigue por ejemplo:"
   ]
  },
  {
   "cell_type": "code",
   "execution_count": 6,
   "metadata": {},
   "outputs": [],
   "source": [
    "def prueba_xor_v2(func):\n",
    "    falla = True\n",
    "    if func(False,False) != False:\n",
    "        print(\"FALLA en 1!!!!!\")\n",
    "    elif func(False,True) != True:\n",
    "        print(\"FALLA en 2!!!!!\")\n",
    "    elif func(True,False) != True:\n",
    "        print(\"FALLA en 3!!!!!\")\n",
    "    elif func(True,True) != False:\n",
    "        print(\"FALLA en 4!!!!!\")\n",
    "    else:\n",
    "        falla = False\n",
    "        print(\"Funciona BIEN.\")\n",
    "    return falla"
   ]
  },
  {
   "cell_type": "code",
   "execution_count": 7,
   "metadata": {},
   "outputs": [
    {
     "name": "stdout",
     "output_type": "stream",
     "text": [
      "FALLA en 3!!!!!\n"
     ]
    },
    {
     "data": {
      "text/plain": [
       "True"
      ]
     },
     "execution_count": 7,
     "metadata": {},
     "output_type": "execute_result"
    }
   ],
   "source": [
    "prueba_xor_v2(mala)"
   ]
  },
  {
   "cell_type": "markdown",
   "metadata": {},
   "source": [
    "Pero notemos que la función `mala` también falla en el caso 4 pero nuestro probador no detecta esa falla:"
   ]
  },
  {
   "cell_type": "code",
   "execution_count": 8,
   "metadata": {},
   "outputs": [
    {
     "data": {
      "text/plain": [
       "True"
      ]
     },
     "execution_count": 8,
     "metadata": {},
     "output_type": "execute_result"
    }
   ],
   "source": [
    "mala(True,True)"
   ]
  },
  {
   "cell_type": "markdown",
   "metadata": {},
   "source": [
    "Si recordamos el diagrama de flujo del conjunto `if elif else` vemos que la segunda prueba 4 nunca llega a ejecutarse porque alcanza conque **una** de las condiciones sea cierta para que se ejecuten las sentencias de ese bloque y el programa salga de la declaración `if`. Para este caso entonces, si queremos hacer todas y cada una de las pruebas necesitamos una serie de `if` independientes cambiando la lógica de la siguenete manera:"
   ]
  },
  {
   "cell_type": "code",
   "execution_count": 9,
   "metadata": {},
   "outputs": [],
   "source": [
    "def prueba_xor_v3(func):\n",
    "    falla = False\n",
    "    if func(False,False) != False:\n",
    "        print(\"FALLA en 1!!!!!\")\n",
    "        falla = True\n",
    "    if func(False,True) != True:\n",
    "        print(\"FALLA en 2!!!!!\")\n",
    "        falla = True\n",
    "    if func(True,False) != True:\n",
    "        print(\"FALLA en 3!!!!!\")\n",
    "        falla = True\n",
    "    if func(True,True) != False:\n",
    "        print(\"FALLA en 4!!!!!\")\n",
    "        falla = True\n",
    "    if falla:\n",
    "        print(\"Funciona MAL.\")\n",
    "    else:\n",
    "        falla = False\n",
    "        print(\"Funciona BIEN.\")\n",
    "    return falla"
   ]
  },
  {
   "cell_type": "code",
   "execution_count": 10,
   "metadata": {},
   "outputs": [
    {
     "name": "stdout",
     "output_type": "stream",
     "text": [
      "Funciona BIEN.\n"
     ]
    },
    {
     "data": {
      "text/plain": [
       "False"
      ]
     },
     "execution_count": 10,
     "metadata": {},
     "output_type": "execute_result"
    }
   ],
   "source": [
    "prueba_xor_v3(xor)"
   ]
  },
  {
   "cell_type": "code",
   "execution_count": 11,
   "metadata": {},
   "outputs": [
    {
     "name": "stdout",
     "output_type": "stream",
     "text": [
      "FALLA en 3!!!!!\n",
      "FALLA en 4!!!!!\n",
      "Funciona MAL.\n"
     ]
    },
    {
     "data": {
      "text/plain": [
       "True"
      ]
     },
     "execution_count": 11,
     "metadata": {},
     "output_type": "execute_result"
    }
   ],
   "source": [
    "prueba_xor_v3(mala)"
   ]
  },
  {
   "cell_type": "code",
   "execution_count": null,
   "metadata": {},
   "outputs": [],
   "source": []
  }
 ],
 "metadata": {
  "jupytext": {
   "encoding": "# -*- coding: utf-8 -*-",
   "formats": "ipynb,py:percent"
  },
  "kernelspec": {
   "display_name": "Python 3",
   "language": "python",
   "name": "python3"
  },
  "language_info": {
   "codemirror_mode": {
    "name": "ipython",
    "version": 3
   },
   "file_extension": ".py",
   "mimetype": "text/x-python",
   "name": "python",
   "nbconvert_exporter": "python",
   "pygments_lexer": "ipython3",
   "version": "3.8.3"
  }
 },
 "nbformat": 4,
 "nbformat_minor": 4
}
