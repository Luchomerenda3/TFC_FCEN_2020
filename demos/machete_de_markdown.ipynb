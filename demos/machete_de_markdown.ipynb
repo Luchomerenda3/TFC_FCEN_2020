{
 "cells": [
  {
   "cell_type": "markdown",
   "metadata": {
    "colab_type": "text",
    "id": "gW6RKJ3LI5bZ"
   },
   "source": [
    "# Machete de Markdown\n",
    "\n",
    "Traducido de [aquí](https://github.com/vinayshanbhag/markdown/blob/master/markdown.ipynb). Los `<pre>` y `</pre>`  en las celdas son [etiquetas de HTML](https://www.w3.org/TR/html52/grouping-content.html#the-pre-element) para que se muestre lo que se escribe tal cual se escribió sin formatos."
   ]
  },
  {
   "cell_type": "markdown",
   "metadata": {
    "colab_type": "text",
    "id": "-iAXjd2nI5ba"
   },
   "source": [
    "## Tabla"
   ]
  },
  {
   "cell_type": "markdown",
   "metadata": {
    "colab_type": "raw",
    "id": "FoMGhhDeI5bb"
   },
   "source": [
    "<pre>\n",
    "|   Ciudad    | Provincia   | Población  |\n",
    "|-------------|:-----------:|-----------:|\n",
    "| *Mendoza*   |  Mendoza    |   110.993  |\n",
    "| La Plata    | Buenos Aires|   713.947  |\n",
    "| Paraná      | Entre Ríos  |   247.863  |\n",
    "| San Luis    | San Luis    |   169.947  |\n",
    "</pre>"
   ]
  },
  {
   "cell_type": "markdown",
   "metadata": {
    "colab_type": "text",
    "id": "Vd86ToHfI5bd"
   },
   "source": [
    "|   Ciudad    | Provincia   | Población  |\n",
    "|-------------|:-----------:|-----------:|\n",
    "| *Mendoza*   |  Mendoza    |   110.993  |\n",
    "| La Plata    | Buenos Aires|   713.947  |\n",
    "| Paraná      | Entre Ríos  |   247.863  |\n",
    "| San Luis    | San Luis    |   169.947  |"
   ]
  },
  {
   "cell_type": "markdown",
   "metadata": {
    "colab_type": "text",
    "id": "WLUquCrWI5be"
   },
   "source": [
    "## Código"
   ]
  },
  {
   "cell_type": "markdown",
   "metadata": {
    "colab_type": "raw",
    "id": "C3FkwKKaI5bf"
   },
   "source": [
    "<pre>\n",
    "```python\n",
    "print(\"Hola, Mundo!\")\n",
    "```\n",
    "\n",
    "```javascript\n",
    "alert(\"Hola, Mundo!\")\n",
    "```\n",
    "</pre>"
   ]
  },
  {
   "cell_type": "markdown",
   "metadata": {
    "colab_type": "text",
    "id": "Ju7aOoV_I5bg"
   },
   "source": [
    "```python\n",
    "print(\"Hola, Mundo!\")\n",
    "```\n",
    "\n",
    "```javascript\n",
    "alert(\"Hola, Mundo!\")\n",
    "```"
   ]
  },
  {
   "cell_type": "markdown",
   "metadata": {
    "colab_type": "text",
    "id": "QeEZ02gkI5bh"
   },
   "source": [
    "## Expresiones Matemáticas"
   ]
  },
  {
   "cell_type": "markdown",
   "metadata": {
    "colab_type": "text",
    "id": "aM7BO9_OI5bi"
   },
   "source": [
    "### Identidad de Ramanujan"
   ]
  },
  {
   "cell_type": "markdown",
   "metadata": {
    "colab_type": "raw",
    "id": "p2s5-gm-I5bk"
   },
   "source": [
    "<pre>\n",
    "\\begin{equation*}\n",
    "\\frac{1}{\\Bigl(\\sqrt{\\phi \\sqrt{5}}-\\phi\\Bigr) e^{\\frac25 \\pi}} =\n",
    "1+\\frac{e^{-2\\pi}} {1+\\frac{e^{-4\\pi}} {1+\\frac{e^{-6\\pi}}\n",
    "{1+\\frac{e^{-8\\pi}} {1+\\ldots} } } }\n",
    "\\end{equation*}\n",
    "</pre>"
   ]
  },
  {
   "cell_type": "markdown",
   "metadata": {
    "colab_type": "text",
    "id": "klG_heswI5bl"
   },
   "source": [
    "\\begin{equation*}\n",
    "\\frac{1}{\\Bigl(\\sqrt{\\phi \\sqrt{5}}-\\phi\\Bigr) e^{\\frac25 \\pi}} =\n",
    "1+\\frac{e^{-2\\pi}} {1+\\frac{e^{-4\\pi}} {1+\\frac{e^{-6\\pi}}\n",
    "{1+\\frac{e^{-8\\pi}} {1+\\ldots} } } }\n",
    "\\end{equation*}"
   ]
  },
  {
   "cell_type": "markdown",
   "metadata": {
    "colab_type": "text",
    "id": "jHlcoMN3I5bl"
   },
   "source": [
    "### Equaciones de Maxwell"
   ]
  },
  {
   "cell_type": "markdown",
   "metadata": {
    "colab_type": "raw",
    "id": "V9nucD_7I5bm"
   },
   "source": [
    "<pre>\n",
    "\\begin{align}\n",
    "\\nabla \\times \\vec{\\mathbf{B}} -\\, \\frac1c\\, \\frac{\\partial\\vec{\\mathbf{E}}}{\\partial t} & = \\frac{4\\pi}{c}\\vec{\\mathbf{j}} \\\\   \\nabla \\cdot \\vec{\\mathbf{E}} & = 4 \\pi \\rho \\\\\n",
    "\\nabla \\times \\vec{\\mathbf{E}}\\, +\\, \\frac1c\\, \\frac{\\partial\\vec{\\mathbf{B}}}{\\partial t} & = \\vec{\\mathbf{0}} \\\\\n",
    "\\nabla \\cdot \\vec{\\mathbf{B}} & = 0\n",
    "\\end{align}\n",
    "</pre>"
   ]
  },
  {
   "cell_type": "markdown",
   "metadata": {
    "colab_type": "text",
    "id": "p_MtGCTzI5bn"
   },
   "source": [
    "\\begin{align}\n",
    "\\nabla \\times \\vec{\\mathbf{B}} -\\, \\frac1c\\, \\frac{\\partial\\vec{\\mathbf{E}}}{\\partial t} & = \\frac{4\\pi}{c}\\vec{\\mathbf{j}} \\\\   \\nabla \\cdot \\vec{\\mathbf{E}} & = 4 \\pi \\rho \\\\\n",
    "\\nabla \\times \\vec{\\mathbf{E}}\\, +\\, \\frac1c\\, \\frac{\\partial\\vec{\\mathbf{B}}}{\\partial t} & = \\vec{\\mathbf{0}} \\\\\n",
    "\\nabla \\cdot \\vec{\\mathbf{B}} & = 0\n",
    "\\end{align}"
   ]
  },
  {
   "cell_type": "markdown",
   "metadata": {
    "colab_type": "text",
    "id": "Ju6aesVeI5bo"
   },
   "source": [
    "### Producto Vectorial"
   ]
  },
  {
   "cell_type": "markdown",
   "metadata": {
    "colab_type": "raw",
    "id": "uuK6cG0KI5bo"
   },
   "source": [
    "<pre>\n",
    "\\begin{equation*}\n",
    "\\mathbf{V}_1 \\times \\mathbf{V}_2 =  \\begin{vmatrix}\n",
    "\\mathbf{i} & \\mathbf{j} & \\mathbf{k} \\\\\n",
    "\\frac{\\partial X}{\\partial u} &  \\frac{\\partial Y}{\\partial u} & 0 \\\\\n",
    "\\frac{\\partial X}{\\partial v} &  \\frac{\\partial Y}{\\partial v} & 0\n",
    "\\end{vmatrix}\n",
    "\\end{equation*}\n",
    "</pre>"
   ]
  },
  {
   "cell_type": "markdown",
   "metadata": {
    "colab_type": "text",
    "id": "isgemG2OI5bp"
   },
   "source": [
    "\\begin{equation*}\n",
    "\\mathbf{V}_1 \\times \\mathbf{V}_2 =  \\begin{vmatrix}\n",
    "\\mathbf{i} & \\mathbf{j} & \\mathbf{k} \\\\\n",
    "\\frac{\\partial X}{\\partial u} &  \\frac{\\partial Y}{\\partial u} & 0 \\\\\n",
    "\\frac{\\partial X}{\\partial v} &  \\frac{\\partial Y}{\\partial v} & 0\n",
    "\\end{vmatrix}\n",
    "\\end{equation*}"
   ]
  },
  {
   "cell_type": "markdown",
   "metadata": {
    "colab_type": "text",
    "id": "6vaIV87tI5bq"
   },
   "source": [
    "### Mezclando Markdown y LaTeX"
   ]
  },
  {
   "cell_type": "markdown",
   "metadata": {
    "colab_type": "raw",
    "id": "NwDA-I_tI5br"
   },
   "source": [
    "<pre>\n",
    "Esta expresión $\\sqrt{3x-1}+(1+x)^2$ es un ejemplo de una ecuación de LaTeX en una oración. Para ecuaciones separadas del texto, además de la sintaxis utilizada más arriba se puede utilizar lo siguiente:\n",
    "\n",
    "$$ \\int f(x) dx$$\n",
    "</pre>"
   ]
  },
  {
   "cell_type": "markdown",
   "metadata": {
    "colab_type": "text",
    "id": "P2QD9ArcI5bs"
   },
   "source": [
    "Esta expresión $\\sqrt{3x-1}+(1+x)^2$ es un ejemplo de una ecuación de LaTeX en una oración. Para ecuaciones separadas del texto, además de la sintaxis utilizada más arriba se puede utilizar lo siguiente:\n",
    "\n",
    "$$ \\int f(x) dx$$"
   ]
  },
  {
   "cell_type": "markdown",
   "metadata": {
    "colab_type": "text",
    "id": "W05wvxonI5bt"
   },
   "source": [
    "## Cita"
   ]
  },
  {
   "cell_type": "markdown",
   "metadata": {
    "colab_type": "raw",
    "id": "t5HddNlNI5bt"
   },
   "source": [
    "<pre>\n",
    "> Todos los seres humanos nacen libres e iguales en dignidad y derechos y, dotados como están de razón y conciencia, deben comportarse fraternalmente los unos con los otros.\n",
    "</pre>"
   ]
  },
  {
   "cell_type": "markdown",
   "metadata": {
    "colab_type": "text",
    "id": "QN_aybdOI5bu"
   },
   "source": [
    "> Todos los seres humanos nacen libres e iguales en dignidad y derechos y, dotados como están de razón y conciencia, deben comportarse fraternalmente los unos con los otros."
   ]
  },
  {
   "cell_type": "markdown",
   "metadata": {
    "colab_type": "text",
    "id": "mBnfMQy8I5bv"
   },
   "source": [
    "## Encabezados"
   ]
  },
  {
   "cell_type": "markdown",
   "metadata": {
    "colab_type": "raw",
    "id": "WsZl75rCI5bw"
   },
   "source": [
    "<pre>\n",
    "### Encabezado 1\n",
    "#### Encabezado 2\n",
    "##### Encabezado 3\n",
    "</pre>"
   ]
  },
  {
   "cell_type": "markdown",
   "metadata": {
    "colab_type": "text",
    "id": "Y6OZfoDjI5bw"
   },
   "source": [
    "### Encabezado 1\n",
    "#### Encabezado 2\n",
    "##### Encabezado 3"
   ]
  },
  {
   "cell_type": "markdown",
   "metadata": {
    "colab_type": "text",
    "id": "q3UBOiGNI5bx"
   },
   "source": [
    "## Lista sin órden"
   ]
  },
  {
   "cell_type": "markdown",
   "metadata": {
    "colab_type": "raw",
    "id": "ff1I6bGII5by"
   },
   "source": [
    "<pre>\n",
    "- ítem 1\n",
    "    - ítem 1.1\n",
    "    - ítem 1.2\n",
    "- ítem 2\n",
    "    - ítem 2.1\n",
    "</pre>"
   ]
  },
  {
   "cell_type": "markdown",
   "metadata": {
    "colab_type": "text",
    "id": "Ocoy8dVjI5by"
   },
   "source": [
    "- ítem 1\n",
    "    - ítem 1.1\n",
    "    - ítem 1.2\n",
    "- item 2\n",
    "    - ítem 2.1"
   ]
  },
  {
   "cell_type": "markdown",
   "metadata": {
    "colab_type": "text",
    "id": "PvUWlU6rI5bz"
   },
   "source": [
    "## Lista Ordenada"
   ]
  },
  {
   "cell_type": "markdown",
   "metadata": {
    "colab_type": "raw",
    "id": "lXub04WfI5b0"
   },
   "source": [
    "<pre>\n",
    "1. ítem 1\n",
    "    1. ítem 1.1\n",
    "    2. ítem 1.2\n",
    "2. ítem 2\n",
    "    1. ítem 2.1\n",
    "        1. ítem 2.1.1  \n",
    "</pre>"
   ]
  },
  {
   "cell_type": "markdown",
   "metadata": {
    "colab_type": "text",
    "id": "yRGOWEPXI5b1"
   },
   "source": [
    "1. ítem 1\n",
    "    1. ítem 1.1\n",
    "    2. ítem 1.2\n",
    "2. ítem 2\n",
    "    1. ítem 2.1\n",
    "        1. ítem 2.1.1 1"
   ]
  },
  {
   "cell_type": "markdown",
   "metadata": {
    "colab_type": "text",
    "id": "w5fhInXAI5b2"
   },
   "source": [
    "## Enlaces"
   ]
  },
  {
   "cell_type": "markdown",
   "metadata": {
    "colab_type": "raw",
    "id": "lRmVWoMxI5b2"
   },
   "source": [
    "<pre>\n",
    "- [Facultad de Ciencias Exactas y Naturales](http://fcen.uncuyo.edu.ar)\n",
    "- [La Declaración Universal de Derechos Humanos](https://www.un.org/es/universal-declaration-human-rights/)\n",
    "</pre>"
   ]
  },
  {
   "cell_type": "markdown",
   "metadata": {
    "colab_type": "text",
    "id": "k8FhZ9_NI5b3"
   },
   "source": [
    "- [Facultad de Ciencias Exactas y Naturales](http://fcen.uncuyo.edu.ar)\n",
    "- [La Declaración Universal de Derechos Humanos](https://www.un.org/es/universal-declaration-human-rights/)"
   ]
  },
  {
   "cell_type": "markdown",
   "metadata": {
    "colab_type": "text",
    "id": "t0ESjfsaI5b4"
   },
   "source": [
    "## Texto con formato"
   ]
  },
  {
   "cell_type": "markdown",
   "metadata": {
    "colab_type": "raw",
    "id": "wKaQS3y_I5b5"
   },
   "source": [
    "<pre>\n",
    "Fragmento de **En esta noche, en este mundo**\n",
    "\n",
    "Alejandra Pizarnik\n",
    "De *Textos de sombra y últimos poemas* (1971-1972 )\n",
    "\n",
    "---\n",
    "no  \n",
    "las palabras  \n",
    "~~no hacen el amor~~  \n",
    "hacen la ausencia  \n",
    "si digo agua ¿beberé?  \n",
    "si digo pan ¿comeré?  \n",
    "en esta noche en este mundo   \n",
    "extraordinario silencio el de esta noche   \n",
    "lo que pasa con el alma es que no se ve   \n",
    "lo que pasa con la mente es que no se ve   \n",
    "lo que pasa con el espíritu es que no se ve  \n",
    "\n",
    "¿de dónde viene esta conspiración de invisibilidades?   \n",
    "ninguna palabra es visible  \n",
    "---\n",
    "</pre>"
   ]
  },
  {
   "cell_type": "markdown",
   "metadata": {
    "colab_type": "text",
    "id": "WLmc65BOI5b5"
   },
   "source": [
    "Fragmento de **En esta noche, en este mundo**\n",
    "\n",
    "Alejandra Pizarnik\n",
    "De *Textos de sombra y últimos poemas* (1971-1972 )\n",
    "\n",
    "---\n",
    "\n",
    "no  \n",
    "las palabras  \n",
    "~~no hacen el amor~~  \n",
    "hacen la ausencia  \n",
    "si digo agua ¿beberé?   \n",
    "si digo pan ¿comeré?  \n",
    "en esta noche en este mundo   \n",
    "extraordinario silencio el de esta noche   \n",
    "lo que pasa con el alma es que no se ve   \n",
    "lo que pasa con la mente es que no se ve   \n",
    "lo que pasa con el espíritu es que no se ve  \n",
    "\n",
    "¿de dónde viene esta conspiración de invisibilidades?  \n",
    "[ninguna palabra es visible](https://www.youtube.com/watch?v=4CS20mcLWTw)\n",
    "\n",
    "---"
   ]
  },
  {
   "cell_type": "markdown",
   "metadata": {
    "colab_type": "text",
    "id": "6gPH1BwXI5b6"
   },
   "source": [
    "Notar que  \n",
    "para introducir  \n",
    "una nueva línea  \n",
    "se ponen dos o más espacios al final."
   ]
  },
  {
   "cell_type": "code",
   "execution_count": null,
   "metadata": {
    "colab": {},
    "colab_type": "code",
    "id": "t172VHtoI5b7"
   },
   "outputs": [],
   "source": []
  }
 ],
 "metadata": {
  "colab": {
   "collapsed_sections": [],
   "name": "machete_de_markdown.ipynb",
   "provenance": []
  },
  "kernelspec": {
   "display_name": "Python 3",
   "language": "python",
   "name": "python3"
  },
  "language_info": {
   "codemirror_mode": {
    "name": "ipython",
    "version": 3
   },
   "file_extension": ".py",
   "mimetype": "text/x-python",
   "name": "python",
   "nbconvert_exporter": "python",
   "pygments_lexer": "ipython3",
   "version": "3.7.8"
  }
 },
 "nbformat": 4,
 "nbformat_minor": 1
}
