{
 "cells": [
  {
   "cell_type": "markdown",
   "metadata": {},
   "source": [
    " # Operaciones lógicas\n",
    "\n",
    "Los ejercicios de esta sección tienen comoo objetivo familiarizarnos con el uso de las variables lógicas o Booleanas y las distintas operaciones que pueden realizarse utilizando la composición de los operadores existentes en python junto con otros que hayamos definido."
   ]
  },
  {
   "cell_type": "markdown",
   "metadata": {},
   "source": [
    "## Ejercicio 1\n",
    "\n",
    "Este es un poco largo...\n",
    "\n",
    "Buscar como e implementar funciones para cada una de las operaciones lógicas NAND, NOR, XNOR usando combinaciones de los operadores lógicos definidos en el lenguaje Python: `and`, `or` y `not`.  Probar que producen el resultado correcto para cada posible par de entradas.\n",
    "\n",
    "**NO UTILIZAR CONDICIONALES**\n",
    "\n"
   ]
  },
  {
   "cell_type": "code",
   "execution_count": 17,
   "outputs": [
    {
     "name": "stdout",
     "output_type": "stream",
     "text": [
      "0\n",
      "0\n",
      "0\n",
      "1\n",
      "0\n",
      "1\n",
      "1\n",
      "1\n",
      "True\n",
      "False\n"
     ]
    }
   ],
   "source": [
    "#Testeando si se pueden utilizar 0s y 1s\n",
    "\n",
    "print(0 and 0)\n",
    "print(0 and 1)\n",
    "print(1 and 0)\n",
    "print(1 and 1)\n",
    "\n",
    "print(0 or 0)\n",
    "print(0 or 1)\n",
    "print(1 or 0)\n",
    "print(1 or 1)\n",
    "\n",
    "print(not 0)\n",
    "print(not 1)\n",
    "\n",
    "#nopeee\n",
    "\n",
    "#Entonces True = 1 , False = 0"
   ],
   "metadata": {
    "collapsed": false,
    "pycharm": {
     "name": "#%%\n"
    }
   }
  },
  {
   "cell_type": "code",
   "execution_count": 18,
   "metadata": {},
   "outputs": [
    {
     "name": "stdout",
     "output_type": "stream",
     "text": [
      "------------------------------------------------------------\n",
      "Tabla de verdad NAND\n",
      "\n",
      "|  Entrada A  |  Entrada B  |  NAND  |\n",
      "|     False   |    False    |  True  |\n",
      "|     False   |    True     |  True  |\n",
      "|     True    |    False    |  True  |\n",
      "|     True    |    True     |  False  |\n",
      "------------------------------------------------------------\n",
      "\n",
      "Tabla de verdad NOR\n",
      "\n",
      "|  Entrada A  |  Entrada B  |   NOR  |\n",
      "|     False   |    False    |  True  |\n",
      "|     False   |    True     |  False  |\n",
      "|     True    |    False    |  False  |\n",
      "|     True    |    True     |  False  |\n",
      "------------------------------------------------------------\n",
      "\n",
      "Tabla de verdad XNOR\n",
      "\n",
      "|  Entrada A  |  Entrada B  |  XNOR  |\n",
      "|     False   |    False    |  True  |\n",
      "|     False   |    True     |  False  |\n",
      "|     True    |    False    |  False  |\n",
      "|     True    |    True     |  True  |\n"
     ]
    }
   ],
   "source": [
    "def nand(A,B):\n",
    "\n",
    "    #return (not A) or (not B)\n",
    "    #otra implementación sería:\n",
    "    #\n",
    "    return not (A and B)\n",
    "\n",
    "def nor(A,B):\n",
    "\n",
    "    #return (not A) and (not B)\n",
    "\n",
    "    #analogamente a la anterior\n",
    "    # podemos simlpemente negar una or:\n",
    "    #\n",
    "    return not (A or B)\n",
    "\n",
    "def x_nor(A,B):\n",
    "\n",
    "    #xnor como operación binaria\n",
    "    return (A and B) or ((not A) and (not B))\n",
    "\n",
    "#Test funciones tipo tablas de verdad\n",
    "print(\"------------------------------------------------------------\")\n",
    "print(\"Tabla de verdad NAND\\n\")\n",
    "print(f\"|  Entrada A  |  Entrada B  |  NAND  |\")\n",
    "print(f\"|     {False}   |    {False}    |  {nand(False,False)}  |\")\n",
    "print(f\"|     {False}   |    {True}     |  {nand(False,True)}  |\")\n",
    "print(f\"|     {True}    |    {False}    |  {nand(True,False)}  |\")\n",
    "print(f\"|     {True}    |    {True}     |  {nand(True,True)}  |\")\n",
    "print(\"------------------------------------------------------------\")\n",
    "print(\"\\nTabla de verdad NOR\\n\")\n",
    "print(f\"|  Entrada A  |  Entrada B  |   NOR  |\")\n",
    "print(f\"|     {False}   |    {False}    |  {nor(False,False)}  |\")\n",
    "print(f\"|     {False}   |    {True}     |  {nor(False,True)}  |\")\n",
    "print(f\"|     {True}    |    {False}    |  {nor(True,False)}  |\")\n",
    "print(f\"|     {True}    |    {True}     |  {nor(True,True)}  |\")\n",
    "print(\"------------------------------------------------------------\")\n",
    "print(\"\\nTabla de verdad XNOR\\n\")\n",
    "print(f\"|  Entrada A  |  Entrada B  |  XNOR  |\")\n",
    "print(f\"|     {False}   |    {False}    |  {x_nor(False,False)}  |\")\n",
    "print(f\"|     {False}   |    {True}     |  {x_nor(False,True)}  |\")\n",
    "print(f\"|     {True}    |    {False}    |  {x_nor(True,False)}  |\")\n",
    "print(f\"|     {True}    |    {True}     |  {x_nor(True,True)}  |\")\n"
   ]
  },
  {
   "cell_type": "markdown",
   "metadata": {},
   "source": [
    "Los ejercicios que siguen son más complicados (bastante) y pueden no hacerse en una primera entrega (o en ninguna...).\n",
    "\n",
    "## Ejercicio 2 \n",
    "\n",
    "Implementar (y verificar) una función que funcione como semi sumador componiendo las operaciones lógicas definidas en el ejercicio 1."
   ]
  },
  {
   "cell_type": "code",
   "execution_count": 19,
   "metadata": {},
   "outputs": [
    {
     "name": "stdout",
     "output_type": "stream",
     "text": [
      "\n",
      "Tabla de verdad Semisumador\n",
      "\n",
      "|  Entrada A  |  Entrada B  |   (Suma,carry)  |\n",
      "|     False   |    False    |   (False, False) |\n",
      "|     False   |    True     |   (True, False)  |\n",
      "|     True    |    False    |   (True, False)  |\n",
      "|     True    |    True     |   (False, True)  |\n"
     ]
    }
   ],
   "source": [
    "def xor(A,B):\n",
    "\n",
    "    return not (x_nor(A,B))\n",
    "\n",
    "\n",
    "def semisumador(A,B):\n",
    "\n",
    "    suma = xor(A,B)\n",
    "    acarreo = A and B\n",
    "\n",
    "    return suma, acarreo\n",
    "\n",
    "print(\"\\nTabla de verdad Semisumador\\n\")\n",
    "print(f\"|  Entrada A  |  Entrada B  |   (Suma,carry)  |\")\n",
    "print(f\"|     {False}   |    {False}    |   {semisumador(False,False)} |\")\n",
    "print(f\"|     {False}   |    {True}     |   {semisumador(False,True)}  |\")\n",
    "print(f\"|     {True}    |    {False}    |   {semisumador(True,False)}  |\")\n",
    "print(f\"|     {True}    |    {True}     |   {semisumador(True,True)}  |\")\n"
   ]
  },
  {
   "cell_type": "markdown",
   "metadata": {},
   "source": [
    "## Ejercicio 3\n",
    "Implementar (y verificar) una función que funcione como sumador completo de un bit con acarreo componiendo las operaciones lógicas definidas en el ejercicio 1."
   ]
  },
  {
   "cell_type": "code",
   "execution_count": 20,
   "metadata": {},
   "outputs": [
    {
     "name": "stdout",
     "output_type": "stream",
     "text": [
      "\n",
      "Tabla de verdad Semisumador\n",
      "\n",
      "|  Entrada A   |  Entrada B  | Carry_in |(Suma,carry_out)|\n",
      "|     False    |    False    |   False  | (False, False) |\n",
      "|     False    |    False    |   True   | (False, True)  |\n",
      "|     False    |    True     |   False  | (False, True)  |\n",
      "|     False    |    True     |   True   | (True, False)  |\n",
      "|     True     |    False    |   False  | (False, True)  |\n",
      "|     True     |    False    |   True   | (True, False)  |\n",
      "|     True     |    True     |   False  | (True, False)  |\n",
      "|     True     |    True     |   True   | (True, True)   |\n"
     ]
    }
   ],
   "source": [
    "def sumador_completo(A,B,carry_in):\n",
    "\n",
    "    aux = xor(A,B)\n",
    "    S = xor(aux,carry_in)\n",
    "    carry_out = (carry_in and aux) or (A and B)\n",
    "    return carry_out, S\n",
    "\n",
    "print(\"\\nTabla de verdad Semisumador\\n\")\n",
    "print(f\"|  Entrada A   |  Entrada B  | Carry_in |(Suma,carry_out)|\")\n",
    "print(f\"|     {False}    |    {False}    |   {False}  | {sumador_completo(False,False,False)} |\")\n",
    "print(f\"|     {False}    |    {False}    |   {True}   | {sumador_completo(False,False,True)}  |\")\n",
    "print(f\"|     {False}    |    {True}     |   {False}  | {sumador_completo(False,True,False)}  |\")\n",
    "print(f\"|     {False}    |    {True}     |   {True}   | {sumador_completo(False,True,True)}  |\")\n",
    "print(f\"|     {True}     |    {False}    |   {False}  | {sumador_completo(True,False,False)}  |\")\n",
    "print(f\"|     {True}     |    {False}    |   {True}   | {sumador_completo(True,False,True)}  |\")\n",
    "print(f\"|     {True}     |    {True}     |   {False}  | {sumador_completo(True,True,False)}  |\")\n",
    "print(f\"|     {True}     |    {True}     |   {True}   | {sumador_completo(True,True,True)}   |\")\n",
    "\n"
   ]
  },
  {
   "cell_type": "markdown",
   "metadata": {},
   "source": [
    "## Ejercicio 4\n",
    "\n",
    "Implementar (y verificar) un sumador de números binarios de tres dígitos componiendo sumadores completos con acarreo."
   ]
  },
  {
   "cell_type": "code",
   "execution_count": 21,
   "metadata": {},
   "outputs": [
    {
     "name": "stdout",
     "output_type": "stream",
     "text": [
      "\n",
      "Warning: Carry = True\n",
      "\n",
      "  (False, False, True)\n",
      "+ (True, True, True)\n",
      "-------\n",
      " (False, False, False)\n"
     ]
    }
   ],
   "source": [
    "def sumador_bin_3d(bin1,bin2):\n",
    "\n",
    "    #bin1 & bin2 are bool tuples cointaining 3 digits each\n",
    "    initial_carry = False\n",
    "    carry1, sum1 = sumador_completo(bin1[2],bin2[2],initial_carry)\n",
    "    carry2, sum2 = sumador_completo(bin1[1],bin2[1],carry1)\n",
    "    carry3, sum3 = sumador_completo(bin1[0],bin2[0],carry2)\n",
    "\n",
    "    print(f\"\\nWarning: Carry = {carry3}\\n\")\n",
    "    return sum3,sum2,sum1\n",
    "\n",
    "print(f\"  {(False,False,True)}\\n+ {(True,True,True)}\\n-------\\n {sumador_bin_3d((False,True,True),(True,False,True))}\")\n",
    "\n"
   ]
  }
 ],
 "metadata": {
  "jupytext": {
   "encoding": "# -*- coding: utf-8 -*-",
   "formats": "ipynb,py:percent"
  },
  "kernelspec": {
   "name": "python3",
   "language": "python",
   "display_name": "Python 3"
  },
  "language_info": {
   "codemirror_mode": {
    "name": "ipython",
    "version": 3
   },
   "file_extension": ".py",
   "mimetype": "text/x-python",
   "name": "python",
   "nbconvert_exporter": "python",
   "pygments_lexer": "ipython3",
   "version": "3.8.3"
  }
 },
 "nbformat": 4,
 "nbformat_minor": 4
}