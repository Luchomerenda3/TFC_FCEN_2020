{
 "cells": [
  {
   "cell_type": "markdown",
   "metadata": {},
   "source": [
    "# Recursión"
   ]
  },
  {
   "cell_type": "markdown",
   "metadata": {},
   "source": [
    "## Ejercicio 1:\n",
    "\n",
    "Definir (y probar bla,bla,bla...) una función recursiva que calcule la enésima potencia positiva de $x$:\n",
    "\n",
    "$$f(x,n) = x^n$$\n"
   ]
  },
  {
   "cell_type": "code",
   "execution_count": null,
   "metadata": {},
   "outputs": [],
   "source": []
  },
  {
   "cell_type": "markdown",
   "metadata": {},
   "source": [
    "## Ejercicio 2:\n",
    "\n",
    "Definir (y probar bla,bla,bla...) una función que calcule el miembro $n$ de la secuencia de Fibonacci $F_n$ la cual se define de la forma\n",
    "$$F_0=0$$\n",
    "$$F_1=1$$\n",
    "para $n=0$ y $n=1$ y\n",
    "$$F_n=F_{n-1} + F_{n-2}$$\n",
    "para $n>1$"
   ]
  },
  {
   "cell_type": "code",
   "execution_count": null,
   "metadata": {},
   "outputs": [],
   "source": []
  },
  {
   "cell_type": "markdown",
   "metadata": {},
   "source": [
    "## Ejercicio 3\n",
    "\n",
    "Los *Polinomios de Legendre* pueden ser definidos en base a la siguiente *relación de recurrencia*:\n",
    "\n",
    "$$P_0(x) = 1$$\n",
    "$$P_1(x) = x$$\n",
    "$$(j+1) P(j+1) = (2j+1)xP_j(x)-jP_{j-1}(x)$$\n",
    "\n",
    "Definir y probar una función que evalúe $P_n(x)$."
   ]
  },
  {
   "cell_type": "code",
   "execution_count": null,
   "metadata": {},
   "outputs": [],
   "source": []
  },
  {
   "cell_type": "markdown",
   "metadata": {},
   "source": [
    "De ahora en adelante le agregamos un (*) a los ejercicios (más) opcionales:\n",
    "\n",
    "## Ejercicio 4 (*)\n",
    "\n",
    "Inplementar y probar una función recursiva que calcule el coeficiente binomial $N\\choose k$."
   ]
  },
  {
   "cell_type": "markdown",
   "metadata": {},
   "source": [
    "## Ejercicio 5 (*)\n",
    "\n",
    "Inplementar y probar una función recursiva que calcule el máximo común divisor de dos números enteros."
   ]
  },
  {
   "cell_type": "markdown",
   "metadata": {},
   "source": [
    "## Ejercicio 6 (**)\n",
    "\n",
    "Los polinomios de Lejendre son *ortonormales* en el intervalo $[-1,1]$, es decir:\n",
    "\n",
    "$$ \\frac{2n+1}{2}\\int_{-1}^{1} P_m(x)P_n(x)dx= \\delta_{nm} $$\n",
    "\n",
    "Utilizando el paquete SciPy y la función definida en el ejercicio 2 mostrar que es así construyendo una función que calcule el lado izquierdo de la ecuación para un par arbitrario $n,m$."
   ]
  },
  {
   "cell_type": "code",
   "execution_count": null,
   "metadata": {},
   "outputs": [],
   "source": []
  }
 ],
 "metadata": {
  "jupytext": {
   "encoding": "# -*- coding: utf-8 -*-",
   "formats": "ipynb,py:percent"
  },
  "kernelspec": {
   "display_name": "Python 3",
   "language": "python",
   "name": "python3"
  },
  "language_info": {
   "codemirror_mode": {
    "name": "ipython",
    "version": 3
   },
   "file_extension": ".py",
   "mimetype": "text/x-python",
   "name": "python",
   "nbconvert_exporter": "python",
   "pygments_lexer": "ipython3",
   "version": "3.8.3"
  }
 },
 "nbformat": 4,
 "nbformat_minor": 4
}
