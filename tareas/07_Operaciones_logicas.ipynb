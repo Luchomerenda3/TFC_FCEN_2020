{
 "cells": [
  {
   "cell_type": "markdown",
   "metadata": {},
   "source": [
    "# Operaciones lógicas\n",
    "\n",
    "Los ejercicios de esta sección tienen comoo objetivo familiarizarnos con el uso de las variables lógicas o Booleanas y las distintas operaciones que pueden realizarse utilizando la composición de los operadores existentes en python junto con otros que hayamos definido."
   ]
  },
  {
   "cell_type": "markdown",
   "metadata": {},
   "source": [
    "## Ejercicio 1\n",
    "\n",
    "Este es un poco largo...\n",
    "\n",
    "Buscar como e implementar funciones para cada una de las operaciones lógicas NAND, NOR, XNOR usando combinaciones de los operadores lógicos definidos en el lenguaje Python: `and`, `or` y `not`.  Probar que producen el resultado correcto para cada posible par de entradas.\n",
    "\n",
    "**NO UTILIZAR CONDICIONALES**"
   ]
  },
  {
   "cell_type": "code",
   "execution_count": null,
   "metadata": {},
   "outputs": [],
   "source": []
  },
  {
   "cell_type": "markdown",
   "metadata": {},
   "source": [
    "Los ejercicios que siguen son más complicados (bastante) y pueden no hacerse en una primera entrega (o en ninguna...).\n",
    "\n",
    "## Ejercicio 2 \n",
    "\n",
    "Implementar (y verificar) una función que funcione como semi sumador componiendo las operaciones lógicas definidas en el ejercicio 1."
   ]
  },
  {
   "cell_type": "code",
   "execution_count": null,
   "metadata": {},
   "outputs": [],
   "source": []
  },
  {
   "cell_type": "markdown",
   "metadata": {},
   "source": [
    "## Ejercicio 3\n",
    "\n",
    "Implementar (y verificar) una función que funcione como sumador completo de un bit con acarreo componiendo las operaciones lógicas definidas en el ejercicio 1."
   ]
  },
  {
   "cell_type": "code",
   "execution_count": null,
   "metadata": {},
   "outputs": [],
   "source": []
  },
  {
   "cell_type": "markdown",
   "metadata": {},
   "source": [
    "## Ejercicio 4\n",
    "\n",
    "Implementar (y verificar) un sumador de números binarios de tres dígitos componiendo sumadores completos con acarreo."
   ]
  },
  {
   "cell_type": "code",
   "execution_count": null,
   "metadata": {},
   "outputs": [],
   "source": []
  }
 ],
 "metadata": {
  "jupytext": {
   "encoding": "# -*- coding: utf-8 -*-",
   "formats": "ipynb,py:percent"
  },
  "kernelspec": {
   "display_name": "Python 3",
   "language": "python",
   "name": "python3"
  },
  "language_info": {
   "codemirror_mode": {
    "name": "ipython",
    "version": 3
   },
   "file_extension": ".py",
   "mimetype": "text/x-python",
   "name": "python",
   "nbconvert_exporter": "python",
   "pygments_lexer": "ipython3",
   "version": "3.8.3"
  }
 },
 "nbformat": 4,
 "nbformat_minor": 4
}
