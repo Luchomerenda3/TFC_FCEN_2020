{
 "cells": [
  {
   "cell_type": "markdown",
   "metadata": {},
   "source": [
    "# Nota:\n",
    "\n",
    "Nota: Para los siguientes ejercicios (quizás) conviene armar algunas funciones \n",
    "que emprolijen el código que se encuentra el el material de clase y permitan reutilizar las partes que sean necesarias. "
   ]
  },
  {
   "cell_type": "markdown",
   "metadata": {},
   "source": [
    "# Ejercicios \n",
    "\n",
    "Grafique el campo y el potencial para las siguientes situaciones:\n",
    "\n",
    "1. Un dipolo eléctrico.\n",
    "1. Un quadrupolo eléctrico.\n",
    "1. Una distribución aleatoria de cargas (tanto en posición como magnitud) en una región circular de radio $r = 1$ alrededor del origen. Comparar casos en que la distribución es neutra y no neutra.\n",
    "1. Una distribución de cargas que aproxime a la distribución de un capacitor de placas paralelas.\n",
    "1. Una distribución de cargas iguales distribuídas de manera uniforme sobre un círculo.\n",
    "\n"
   ]
  },
  {
   "cell_type": "code",
   "execution_count": null,
   "metadata": {},
   "outputs": [],
   "source": []
  }
 ],
 "metadata": {
  "jupytext": {
   "formats": "ipynb,py:percent"
  },
  "kernelspec": {
   "display_name": "Python 3",
   "language": "python",
   "name": "python3"
  },
  "language_info": {
   "codemirror_mode": {
    "name": "ipython",
    "version": 3
   },
   "file_extension": ".py",
   "mimetype": "text/x-python",
   "name": "python",
   "nbconvert_exporter": "python",
   "pygments_lexer": "ipython3",
   "version": "3.8.3"
  }
 },
 "nbformat": 4,
 "nbformat_minor": 4
}
