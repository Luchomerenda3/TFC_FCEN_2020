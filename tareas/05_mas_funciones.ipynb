{
 "cells": [
  {
   "cell_type": "markdown",
   "metadata": {},
   "source": [
    "## Nota\n",
    "\n",
    "En todos los casos que se pide definir una función se debe evaluara para algunos argumentos (por lo menos tres en cada caso) que comprueben que funciona como es debido."
   ]
  },
  {
   "cell_type": "markdown",
   "metadata": {},
   "source": [
    "## Ejercicio 1\n",
    "\n",
    "Definir una función que calcule las raíces de un polinomio arbitrario de grado 2."
   ]
  },
  {
   "cell_type": "code",
   "execution_count": null,
   "metadata": {},
   "outputs": [],
   "source": []
  },
  {
   "cell_type": "markdown",
   "metadata": {},
   "source": [
    "## Ejercicio 2\n",
    "\n",
    "Rehacer el ejercicio 1 de la tarea 02b utilizando las constantes físicas definidas en el módulo [ScyPy](https://docs.scipy.org/doc/scipy/reference/constants.html)."
   ]
  },
  {
   "cell_type": "code",
   "execution_count": null,
   "metadata": {},
   "outputs": [],
   "source": []
  },
  {
   "cell_type": "markdown",
   "metadata": {},
   "source": [
    "## Ejercicio 3\n",
    "\n",
    "Verificar para tres pares de $\\alpha$ y $\\beta$ que si\n",
    "\n",
    "$$f(x) = \\frac{(\\cos\\alpha)x - \\sin\\alpha}{(\\sin\\alpha)x + \\cos\\alpha}$$\n",
    "\n",
    "y\n",
    "\n",
    "$$g(x) = \\frac{(\\cos\\beta)x - \\sin\\beta}{(\\sin\\beta)x + \\cos\\beta}$$\n",
    "\n",
    "entonces se cumple que\n",
    "\n",
    "$$f\\big(g(x)\\big) = g\\big(f(x)\\big)$$"
   ]
  },
  {
   "cell_type": "code",
   "execution_count": null,
   "metadata": {},
   "outputs": [],
   "source": []
  },
  {
   "cell_type": "markdown",
   "metadata": {},
   "source": [
    "## Ejercicio 4\n",
    "\n",
    "Verificar para tres casos que si $a_1$ y $a_2$ con constantes complejas entonces es cierto que\n",
    "\n",
    "$\\cot(z - a_1)\\cot(z - a_2) = -1 + \\cot(a_1 - a_2)\\cot(z - a_1) + \\cot(a_2 - a_1)\\cot(z - a_2)$\n",
    "\n",
    "para todo z complejo."
   ]
  },
  {
   "cell_type": "code",
   "execution_count": null,
   "metadata": {},
   "outputs": [],
   "source": []
  }
 ],
 "metadata": {
  "jupytext": {
   "formats": "ipynb,py:percent"
  },
  "kernelspec": {
   "display_name": "Python 3",
   "language": "python",
   "name": "python3"
  },
  "language_info": {
   "codemirror_mode": {
    "name": "ipython",
    "version": 3
   },
   "file_extension": ".py",
   "mimetype": "text/x-python",
   "name": "python",
   "nbconvert_exporter": "python",
   "pygments_lexer": "ipython3",
   "version": "3.8.3"
  }
 },
 "nbformat": 4,
 "nbformat_minor": 4
}
