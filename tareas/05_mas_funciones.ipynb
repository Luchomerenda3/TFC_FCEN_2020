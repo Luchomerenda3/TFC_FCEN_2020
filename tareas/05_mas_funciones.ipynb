{
 "cells": [
  {
   "cell_type": "markdown",
   "metadata": {},
   "source": [
    "## Nota\n",
    "\n",
    "En todos los casos que se pide definir una función se debe evaluara para algunos argumentos (por lo menos tres en cada caso) que comprueben que funciona como es debido."
   ]
  },
  {
   "cell_type": "markdown",
   "metadata": {},
   "source": [
    "## Ejercicio 1\n",
    "\n",
    "Definir una función que calcule las raíces de un polinomio arbitrario de grado 2."
   ]
  },
  {
   "cell_type": "code",
   "execution_count": 4,
   "metadata": {},
   "outputs": [],
   "source": [
    "import cmath as cm\n",
    "import math as m"
   ]
  },
  {
   "cell_type": "code",
   "execution_count": 7,
   "metadata": {},
   "outputs": [],
   "source": [
    "def raices(a,b,c):\n",
    "    return (-b+cm.sqrt(b**2-4*a*c))/(2*a),(-b-cm.sqrt(b**2-4*a*c))/(2*a)"
   ]
  },
  {
   "cell_type": "code",
   "execution_count": 8,
   "metadata": {},
   "outputs": [
    {
     "data": {
      "text/plain": [
       "((-0.5+0.8660254037844386j), (-0.5-0.8660254037844386j))"
      ]
     },
     "execution_count": 8,
     "metadata": {},
     "output_type": "execute_result"
    }
   ],
   "source": [
    "raices(1,1,1)"
   ]
  },
  {
   "cell_type": "code",
   "execution_count": 9,
   "metadata": {},
   "outputs": [
    {
     "data": {
      "text/plain": [
       "((1.618033988749895+0j), (-0.6180339887498949+0j))"
      ]
     },
     "execution_count": 9,
     "metadata": {},
     "output_type": "execute_result"
    }
   ],
   "source": [
    "raices(1,-1,-1)"
   ]
  },
  {
   "cell_type": "code",
   "execution_count": 10,
   "metadata": {},
   "outputs": [
    {
     "data": {
      "text/plain": [
       "((-0.6666666666666666+1.1055415967851332j),\n",
       " (-0.6666666666666666-1.1055415967851332j))"
      ]
     },
     "execution_count": 10,
     "metadata": {},
     "output_type": "execute_result"
    }
   ],
   "source": [
    "raices(3,4,5)"
   ]
  },
  {
   "cell_type": "markdown",
   "metadata": {},
   "source": [
    "## Ejercicio 2\n",
    "\n",
    "Rehacer el ejercicio 1 de la tarea 02b utilizando las constantes físicas definidas en el módulo [ScyPy](https://docs.scipy.org/doc/scipy/reference/constants.html)."
   ]
  },
  {
   "cell_type": "code",
   "execution_count": null,
   "metadata": {},
   "outputs": [],
   "source": []
  },
  {
   "cell_type": "markdown",
   "metadata": {},
   "source": [
    "## Ejercicio 3\n",
    "\n",
    "Verificar para tres triplas de $\\alpha$, $\\beta$ y $x$ que si\n",
    "\n",
    "$$f(x) = \\frac{(\\cos\\alpha)x - \\sin\\alpha}{(\\sin\\alpha)x + \\cos\\alpha}$$\n",
    "\n",
    "y\n",
    "\n",
    "$$g(x) = \\frac{(\\cos\\beta)x - \\sin\\beta}{(\\sin\\beta)x + \\cos\\beta}$$\n",
    "\n",
    "entonces se cumple que\n",
    "\n",
    "$$f\\big(g(x)\\big) = g\\big(f(x)\\big)$$"
   ]
  },
  {
   "cell_type": "code",
   "execution_count": 13,
   "metadata": {},
   "outputs": [],
   "source": [
    "def f(x,alpha):\n",
    "    return (m.cos(alpha)*x-m.sin(alpha))/(m.sin(alpha)*x+m.cos(alpha))"
   ]
  },
  {
   "cell_type": "code",
   "execution_count": 14,
   "metadata": {},
   "outputs": [
    {
     "data": {
      "text/plain": [
       "0j"
      ]
     },
     "execution_count": 14,
     "metadata": {},
     "output_type": "execute_result"
    }
   ],
   "source": [
    "f(f(2,0.5),1.5) - f(f(2,1.5),0.5)"
   ]
  },
  {
   "cell_type": "code",
   "execution_count": 15,
   "metadata": {},
   "outputs": [
    {
     "data": {
      "text/plain": [
       "-0j"
      ]
     },
     "execution_count": 15,
     "metadata": {},
     "output_type": "execute_result"
    }
   ],
   "source": [
    "f(f(3,4.5),2.5) - f(f(3,2.5),4.5)"
   ]
  },
  {
   "cell_type": "code",
   "execution_count": 16,
   "metadata": {},
   "outputs": [
    {
     "data": {
      "text/plain": [
       "(4.440892098500626e-15+0j)"
      ]
     },
     "execution_count": 16,
     "metadata": {},
     "output_type": "execute_result"
    }
   ],
   "source": [
    "f(f(3.14,1),2) - f(f(3.14,2),1)"
   ]
  },
  {
   "cell_type": "markdown",
   "metadata": {},
   "source": [
    "## Ejercicio 4\n",
    "\n",
    "Verificar para tres casos que si $a_1$, $a_2$ y $z$ son constantes complejas entonces es cierto que\n",
    "\n",
    "$\\cot(z - a_1)\\cot(z - a_2) = -1 + \\cot(a_1 - a_2)\\cot(z - a_1) + \\cot(a_2 - a_1)\\cot(z - a_2)$"
   ]
  },
  {
   "cell_type": "code",
   "execution_count": 24,
   "metadata": {},
   "outputs": [],
   "source": [
    "def ff(z,a1,a2):\n",
    "    return (1/cm.tan(z-a1))*(1/cm.tan(z-a2)) + 1 - (1/cm.tan(a1-a2))*(1/cm.tan(z-a1)) - (1/cm.tan(a2-a1))*(1/cm.tan(z-a2)) "
   ]
  },
  {
   "cell_type": "code",
   "execution_count": 26,
   "metadata": {},
   "outputs": [
    {
     "data": {
      "text/plain": [
       "(-4.440892098500626e-16-2.6367796834847468e-15j)"
      ]
     },
     "execution_count": 26,
     "metadata": {},
     "output_type": "execute_result"
    }
   ],
   "source": [
    "ff(1j,0.1+1j,0.21j)"
   ]
  },
  {
   "cell_type": "code",
   "execution_count": 27,
   "metadata": {},
   "outputs": [
    {
     "data": {
      "text/plain": [
       "(-6.661338147750939e-16-2.5017965130103015e-17j)"
      ]
     },
     "execution_count": 27,
     "metadata": {},
     "output_type": "execute_result"
    }
   ],
   "source": [
    "ff(3j,0.1+4j,0.2555j)"
   ]
  },
  {
   "cell_type": "code",
   "execution_count": 29,
   "metadata": {},
   "outputs": [
    {
     "data": {
      "text/plain": [
       "(-3.3306690738754696e-16+5.551115123125783e-17j)"
      ]
     },
     "execution_count": 29,
     "metadata": {},
     "output_type": "execute_result"
    }
   ],
   "source": [
    "ff(3+1j,2+2j,1+3j)"
   ]
  },
  {
   "cell_type": "code",
   "execution_count": null,
   "metadata": {},
   "outputs": [],
   "source": []
  }
 ],
 "metadata": {
  "jupytext": {
   "encoding": "# -*- coding: utf-8 -*-",
   "formats": "ipynb,py:percent"
  },
  "kernelspec": {
   "display_name": "Python 3",
   "language": "python",
   "name": "python3"
  },
  "language_info": {
   "codemirror_mode": {
    "name": "ipython",
    "version": 3
   },
   "file_extension": ".py",
   "mimetype": "text/x-python",
   "name": "python",
   "nbconvert_exporter": "python",
   "pygments_lexer": "ipython3",
   "version": "3.8.3"
  }
 },
 "nbformat": 4,
 "nbformat_minor": 4
}
