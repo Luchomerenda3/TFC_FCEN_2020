{
 "cells": [
  {
   "cell_type": "markdown",
   "metadata": {},
   "source": [
    "## Nota\n",
    "\n",
    "En todos los casos que se pide definir una función se debe evaluara para algunos argumentos (por lo menos tres en cada caso) que comprueben que funciona como es debido."
   ]
  },
  {
   "cell_type": "markdown",
   "metadata": {},
   "source": [
    "## Ejercicio 1\n",
    "\n",
    "Definir una función que calcule las raíces de un polinomio arbitrario de grado 2."
   ]
  },
  {
   "cell_type": "code",
   "execution_count": 62,
   "outputs": [
    {
     "name": "stdout",
     "output_type": "stream",
     "text": [
      "Las raíces del polinomio 5x^2 + 6x - 4 = 0 son: ((0.47703296142690077+0j), (-1.6770329614269008+0j))\n",
      "Las raíces del polinomio 5x^2 + 6x + 4 = 0 son: ((-0.6+0.6633249580710799j), (-0.6-0.6633249580710799j))\n",
      "Las raíces del polinomio 5x^2 - 6x - 4 = 0 son: ((1.6770329614269008+0j), (-0.47703296142690077+0j))\n"
     ]
    }
   ],
   "source": [
    "#Para un polinomio arbitrario de grado 2 tenemos que:\n",
    "#p(x) = c + (b * x) + (a * (x^2))\n",
    "\n",
    "import numpy as np\n",
    "import cmath as cm\n",
    "\n",
    "def polinom2_roots(a,b,c):\n",
    "\n",
    "    x1 = (-b + cm.sqrt(np.square(b) - (4 * a * c))) / (2 * a)\n",
    "    x2 = (-b - cm.sqrt(np.square(b) - (4 * a * c))) / (2 * a)\n",
    "    return x1, x2\n",
    "\n",
    "print(f\"Las raíces del polinomio 5x^2 + 6x - 4 = 0 son: {polinom2_roots(5,6,-4)}\")\n",
    "print(f\"Las raíces del polinomio 5x^2 + 6x + 4 = 0 son: {polinom2_roots(5,6,4)}\")\n",
    "print(f\"Las raíces del polinomio 5x^2 - 6x - 4 = 0 son: {polinom2_roots(5,-6,-4)}\")"
   ],
   "metadata": {
    "collapsed": false,
    "pycharm": {
     "name": "#%%\n"
    }
   }
  },
  {
   "cell_type": "markdown",
   "metadata": {},
   "source": [
    "## Ejercicio 2\n",
    "\n",
    "Rehacer el ejercicio 1 de la tarea 02b utilizando las constantes físicas definidas en el módulo [ScyPy](https://docs.scipy.org/doc/scipy/reference/constants.html).\n"
   ]
  },
  {
   "cell_type": "markdown",
   "source": [
    "#### Tarea 02b: Ejercicio 1\n",
    "\n",
    "Calcular el módulo de la aceleración que sufre el electrón en el estado fundamental del átomo de hidrógeno. Expresar el resultado en unidades SI.\n",
    "\n",
    "Vuelta de tuerca: Estimar el error en la aceleración calculada utilizando un modelo de propagación lineal de errores y asumiendo que los errores en las cantidades necesarias para el cálculo no están correlacionados.\n",
    "\n",
    "Utilizar los valores de las constantes físicas de [aquí](https://physics.nist.gov/cuu/Constants/index.html), hay info útil [aquí](https://arxiv.org/pdf/1610.08716.pdf) y [aquí](https://xkcd.com/2110/)."
   ],
   "metadata": {
    "collapsed": false
   }
  },
  {
   "cell_type": "markdown",
   "source": [
    "### Cálculo Modulo aceleración de un electrón en el estado fundamental del átomo de hidrógeno\n",
    "---\n",
    "1. Buscamos las constantes necesarias para el cálculo por un potencial Coulombiano de un protón y un electrón, donde la distancia corresponde al radio de bohr, las importaremos de la librería  SciPy"
   ],
   "metadata": {
    "collapsed": false
   }
  },
  {
   "cell_type": "code",
   "execution_count": 20,
   "outputs": [
    {
     "data": {
      "text/plain": "5.29177210903e-11"
     },
     "execution_count": 20,
     "metadata": {},
     "output_type": "execute_result"
    }
   ],
   "source": [
    "import scipy.constants as cte\n",
    "\n",
    "#Hacemos uso del diccionario physical constants\n",
    "#Cada valor es una tupla que contiene el valor (indice 0), unidad (indice 1), incertidumbre (indice 2)\n",
    "\n",
    "RADIO_BOHR = cte.physical_constants['Bohr radius']\n",
    "ELECTRON_MASS = cte.physical_constants['electron mass']\n",
    "ELEMENTARY_CHARGE = cte.physical_constants['elementary charge']\n",
    "PIE = cte.pi\n",
    "VACUUM_PERMITIVITY = cte.physical_constants['vacuum electric permittivity']"
   ],
   "metadata": {
    "collapsed": false,
    "pycharm": {
     "name": "#%%\n"
    }
   }
  },
  {
   "cell_type": "markdown",
   "source": [
    "[2. Por ley de Coulomb tenemos que el modulo de la fuerza entre 2 partículas con carga:\n",
    "\n",
    "> $$|\\overrightarrow{F}|= \\frac{1}{4\\pi \\epsilon_{0}} \\frac{|q_{e}||q_{p}|}{r^2} $$\n",
    "\n",
    "3. Y la aceleración por ley de newton es:\n",
    "\n",
    ">$$ a = |\\overrightarrow{a}| = \\frac{|\\overrightarrow{F}|}{m_{e}}$$\n",
    "\n",
    "4. Tenemos finalmente que la aceleración en función de las cargas y la distancia esta dada por:\n",
    "\n",
    ">$$a = |\\overrightarrow{a}| = \\frac{1}{4\\pi \\epsilon_{0}} \\frac{|q_{e}||q_{p}|}{r^2} \\frac{1}{m_{e}} $$"
   ],
   "metadata": {
    "collapsed": false
   }
  },
  {
   "cell_type": "code",
   "execution_count": 21,
   "outputs": [
    {
     "name": "stdout",
     "output_type": "stream",
     "text": [
      "La aceleración sufrida por un electrón en el átomo de hidrogeno en estado fundamental es : 9.044216127244672e+22 m/s^2\n"
     ]
    }
   ],
   "source": [
    "#Calculamos la aceleración (variable \"a\")\n",
    "\n",
    "a = pow(ELEMENTARY_CHARGE[0],2) / (4 * PIE * VACUUM_PERMITIVITY[0] * pow(RADIO_BOHR[0],2) * ELECTRON_MASS[0])\n",
    "\n",
    "print(f\"La aceleración sufrida por un electrón en el átomo de hidrogeno en estado fundamental es : {a} m/s^2\")"
   ],
   "metadata": {
    "collapsed": false,
    "pycharm": {
     "name": "#%%\n"
    }
   }
  },
  {
   "cell_type": "markdown",
   "source": [
    "Para la propagación de errores, asumiendo que las variables no están correlacionadas tenemos entonces que el error final estará dado por las variables que tenemos radio $r$, valores de las cargas $q_{e}$ y $q_{p}$, y de la masa del electrón $m_{e}$:\n",
    ">\n",
    ">$$\\sigma_{a} = \\sqrt{\\left( \\frac{\\partial a}{\\partial r} \\sigma_{r} \\right) ^2 + \\left( \\frac{\\partial a}{\\partial q_{e}} \\sigma_{q_{e}} \\right) ^2 + \\left( \\frac{\\partial a}{\\partial q_{p}} \\sigma_{q_{p}} \\right) ^2 + \\left( \\frac{\\partial a}{\\partial m_{e}} \\sigma_{m_{e}} \\right) ^2 + \\left( \\frac{\\partial a}{\\partial \\epsilon_{0}} \\sigma_{\\epsilon_{0}} \\right) ^2}$$\n",
    "\n",
    "Calculemos las derivadas parciales por separado para mantener el orden:\n",
    "\n",
    ">La incertidumbre en la carga es cero según la última redefiinición de las unidades SI, por lo tanto los terminos correspondiente a carga de protón y electrón se anulan, nos queda entonces\n",
    ">\n",
    ">$$\\frac{\\partial a}{\\partial r} =  -\\frac{|q_{e}||q_{p}|}{2 \\pi \\epsilon_{0} m_{e}} \\frac{1}{r^3} $$\n",
    ">\n",
    ">$$\\sigma_{r} = 0.00000000080 x 10^{-11} m $$\n",
    "\n",
    "Evaluamos ahora esta primera derivada respecto al radio o distancia entre las cargas:"
   ],
   "metadata": {
    "collapsed": false
   }
  },
  {
   "cell_type": "code",
   "execution_count": 22,
   "outputs": [],
   "source": [
    "a_deriv_r = - pow(ELEMENTARY_CHARGE[0], 2) / (2 * PIE * VACUUM_PERMITIVITY[0] * ELECTRON_MASS[0] * pow(RADIO_BOHR[0], 3))\n",
    "sigma_r = RADIO_BOHR[2]"
   ],
   "metadata": {
    "collapsed": false,
    "pycharm": {
     "name": "#%%\n"
    }
   }
  },
  {
   "cell_type": "markdown",
   "source": [
    "Seguimos con la derivada respecto a la masa del electrón:\n",
    ">$$\\frac{\\partial a}{\\partial m_{e}} = -\\frac{|q_{e}||q_{p}|}{4 \\pi \\epsilon_{0}r^{2}}  \\frac{1}{m_{e}^2} $$\n",
    ">\n",
    ">$$\\sigma_{m_{e}} =  0 .000 000 0028 x 10^{-31} kg$$\n",
    ">"
   ],
   "metadata": {
    "collapsed": false
   }
  },
  {
   "cell_type": "code",
   "execution_count": 23,
   "outputs": [],
   "source": [
    "a_deriv_me = - pow(ELEMENTARY_CHARGE[0], 2) / (4 * PIE * VACUUM_PERMITIVITY[0] * pow(RADIO_BOHR[0],2) * pow(ELECTRON_MASS[0], 2))\n",
    "sigma_me = ELECTRON_MASS[2]"
   ],
   "metadata": {
    "collapsed": false,
    "pycharm": {
     "name": "#%%\n"
    }
   }
  },
  {
   "cell_type": "markdown",
   "source": [
    "Finalmente la derivada respecto a la permitividad eléctrica:\n",
    "\n",
    ">$$\\frac{\\partial a}{\\partial \\epsilon_{0}} = -\\frac{|q_{e}||q_{p}|}{4 \\pi r^{2} m_{e}}  \\frac{1}{\\epsilon_{0}^2} $$\n",
    ">\n",
    ">$$\\sigma_{epsilon_{0}} =   0.0000000013 x 10^{-12} F/m$$\n",
    ">"
   ],
   "metadata": {
    "collapsed": false
   }
  },
  {
   "cell_type": "code",
   "execution_count": 24,
   "outputs": [],
   "source": [
    "a_deriv_epsilon = - pow(ELEMENTARY_CHARGE[0], 2) / (4 * PIE * pow(RADIO_BOHR[0],2) * ELECTRON_MASS[0] * pow(VACUUM_PERMITIVITY[0], 2))\n",
    "sigma_epsilon = VACUUM_PERMITIVITY[2]"
   ],
   "metadata": {
    "collapsed": false,
    "pycharm": {
     "name": "#%%\n"
    }
   }
  },
  {
   "cell_type": "markdown",
   "source": [
    "Finalmente el error en la aceleración será:\n",
    "\n",
    ">\n",
    ">$$\\sigma_{a} = \\sqrt{\\left( \\frac{\\partial a}{\\partial r} \\sigma_{r} \\right) ^2 + \\left( \\frac{\\partial a}{\\partial m_{e}} \\sigma_{m_{e}} \\right) ^2 + \\left( \\frac{\\partial a}{\\partial \\epsilon_{0}} \\sigma_{\\epsilon_{0}} \\right) ^2}$$\n",
    ">\n",
    "Reemplazando valores obtenemos el valor final:"
   ],
   "metadata": {
    "collapsed": false
   }
  },
  {
   "cell_type": "code",
   "execution_count": 25,
   "outputs": [
    {
     "name": "stdout",
     "output_type": "stream",
     "text": [
      "La incertidumbre en el valor de la aceleración es de 41193988055926.914 m/s^2\n",
      "Tenemos que la aceleración sufrida por un electrón en el estado fundamental de un atomo de hidrogeno es: \n",
      " a = 9.044216127244672e+22 +- 41193988055926.914 m/s^2\n"
     ]
    }
   ],
   "source": [
    "sigma_a = pow(pow(a_deriv_r * sigma_r,2) + pow(a_deriv_me * sigma_me,2) + pow(a_deriv_epsilon * sigma_epsilon,2),1/2)\n",
    "\n",
    "print(f\"La incertidumbre en el valor de la aceleración es de {sigma_a} m/s^2\")\n",
    "\n",
    "print(f\"Tenemos que la aceleración sufrida por un electrón en el estado fundamental de un atomo de hidrogeno es: \\n a = {a} +- {sigma_a} m/s^2\")"
   ],
   "metadata": {
    "collapsed": false,
    "pycharm": {
     "name": "#%%\n"
    }
   }
  },
  {
   "cell_type": "markdown",
   "metadata": {},
   "source": [
    "---\n",
    "## Ejercicio 3\n",
    "\n",
    "Verificar para tres triplas de $\\alpha$, $\\beta$ y $x$ que si\n",
    "\n",
    "$$f(x) = \\frac{(\\cos\\alpha)x - \\sin\\alpha}{(\\sin\\alpha)x + \\cos\\alpha}$$\n",
    "\n",
    "y\n",
    "\n",
    "$$g(x) = \\frac{(\\cos\\beta)x - \\sin\\beta}{(\\sin\\beta)x + \\cos\\beta}$$\n",
    "\n",
    "entonces se cumple que\n",
    "\n",
    "$$f\\big(g(x)\\big) = g\\big(f(x)\\big)$$"
   ]
  },
  {
   "cell_type": "code",
   "execution_count": 51,
   "metadata": {},
   "outputs": [
    {
     "name": "stdout",
     "output_type": "stream",
     "text": [
      "Para x = 3.0, α = 1.5707963267948966, β = 0.7853981633974483\n",
      "f(g(x)) = -1.9999999999999991\n",
      "g(f(x)) = -1.9999999999999993\n",
      "\n",
      "Para x = -4.766, α = -1.0471975511965976, β = 0.39269908169872414\n",
      "f(g(x)) = -0.8586222799173571\n",
      "g(f(x)) = -0.8586222799173571\n",
      "\n",
      "Para x = 20.459, α = 10.995574287564276, β = -1.0471975511965976\n",
      "f(g(x)) = 1.5517979644436808\n",
      "g(f(x)) = 1.5517979644436808\n"
     ]
    }
   ],
   "source": [
    "import numpy as np\n",
    "import scipy.constants as sc\n",
    "\n",
    "#Definimos f(x)\n",
    "def f(x,alpha):\n",
    "    return ((np.cos(alpha) * x) - np.sin(alpha)) / ((np.sin(alpha) * x) + np.cos(alpha))\n",
    "\n",
    "#Definimos g(x)\n",
    "def g(x,beta):\n",
    "    return ((np.cos(beta) * x) - np.sin(beta)) / ((np.sin(beta) * x) + np.cos(beta))\n",
    "\n",
    "#DEfinimos 3 triplas de x, alpha y beta\n",
    "#Primera tripla\n",
    "x = 3.0\n",
    "alpha = sc.pi / 2\n",
    "beta = sc.pi / 4\n",
    "\n",
    "print(f\"Para x = {x}, \\u03B1 = {alpha}, \\u03B2 = {beta}\")\n",
    "print(f\"f(g(x)) = {f(g(x,beta),alpha)}\\ng(f(x)) = {g(f(x,alpha),beta)}\\n\")\n",
    "\n",
    "#Segunda tripla\n",
    "x = -4.766\n",
    "alpha = -sc.pi / 3\n",
    "beta = sc.pi / 8\n",
    "\n",
    "print(f\"Para x = {x}, \\u03B1 = {alpha}, \\u03B2 = {beta}\")\n",
    "print(f\"f(g(x)) = {f(g(x,beta),alpha)}\\ng(f(x)) = {g(f(x,alpha),beta)}\\n\")\n",
    "\n",
    "#Tercer tripla\n",
    "x = 20.459\n",
    "alpha = sc.pi * 3.5\n",
    "beta = -sc.pi / 3\n",
    "\n",
    "print(f\"Para x = {x}, \\u03B1 = {alpha}, \\u03B2 = {beta}\")\n",
    "print(f\"f(g(x)) = {f(g(x,beta),alpha)}\\ng(f(x)) = {g(f(x,alpha),beta)}\")"
   ]
  },
  {
   "cell_type": "markdown",
   "metadata": {},
   "source": [
    "## Ejercicio 4\n",
    "\n",
    "Verificar para tres casos que si $a_1$, $a_2$ y $z$ son constantes complejas entonces es cierto que\n",
    "\n",
    "$\\cot(z - a_1)\\cot(z - a_2) = -1 + \\cot(a_1 - a_2)\\cot(z - a_1) + \\cot(a_2 - a_1)\\cot(z - a_2)$"
   ]
  },
  {
   "cell_type": "code",
   "execution_count": 2,
   "metadata": {
    "pycharm": {
     "name": "#%%\n"
    }
   },
   "outputs": [
    {
     "name": "stdout",
     "output_type": "stream",
     "text": [
      "(-2.4219812778142407+0.0774336282794391j) \n",
      " (-5.808078168398685-0.13326172552332788j) \n",
      "\n",
      "\n",
      "(-2.3799965289187806+0.1004095529357702j) \n",
      " (-5.784119052417234-0.05569956369984232j) \n",
      "\n",
      "\n",
      "(2.318279623454192+0.12136289385322561j) \n",
      " (-0.9457683167808848+0.027199318332850095j)\n"
     ]
    }
   ],
   "source": [
    "import numpy as np\n",
    "import cmath as cm\n",
    "\n",
    "#Defino 2 funciones que calculan caca miembro de la ecuación\n",
    "\n",
    "def lado_izquierdo(z,a1,a2):\n",
    "    return cm.atan(z - a1) * cm.atan(z - a2)\n",
    "\n",
    "def lado_derecho(z,a1,a2):\n",
    "    return (-1 + (cm.atan(a1 - a2) * cm.atan(z - a1)) + (cm.atan(a2 - a1) * cm.atan(z - a2)))\n",
    "\n",
    "#Primera Tripla\n",
    "a1 = 2 + 5j\n",
    "a2 = -3 - 8j\n",
    "z = -1 + 15j\n",
    "\n",
    "print(lado_izquierdo(z,a1,a2),\"\\n\", lado_derecho(z,a1,a2),\"\\n\\n\")\n",
    "\n",
    "\n",
    "#Segunda Tripla\n",
    "a1 = 3 + 8j\n",
    "a2 = -4 -9.3j\n",
    "z = -17j\n",
    "print(lado_izquierdo(z,a1,a2),\"\\n\", lado_derecho(z,a1,a2),\"\\n\\n\")\n",
    "\n",
    "\n",
    "#Tercer Tripla\n",
    "a1 = 2.5j\n",
    "a2 = 3.8 - 6.2j\n",
    "z = 12.7 + 8.4j\n",
    "print(lado_izquierdo(z,a1,a2),\"\\n\", lado_derecho(z,a1,a2))"
   ]
  }
 ],
 "metadata": {
  "jupytext": {
   "encoding": "# -*- coding: utf-8 -*-",
   "formats": "ipynb,py:percent"
  },
  "kernelspec": {
   "display_name": "Python 3",
   "language": "python",
   "name": "python3"
  },
  "language_info": {
   "codemirror_mode": {
    "name": "ipython",
    "version": 3
   },
   "file_extension": ".py",
   "mimetype": "text/x-python",
   "name": "python",
   "nbconvert_exporter": "python",
   "pygments_lexer": "ipython3",
   "version": "3.8.3"
  }
 },
 "nbformat": 4,
 "nbformat_minor": 4
}