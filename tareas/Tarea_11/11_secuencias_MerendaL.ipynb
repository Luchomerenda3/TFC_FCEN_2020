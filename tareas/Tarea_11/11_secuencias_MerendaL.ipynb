{
 "cells": [
  {
   "cell_type": "markdown",
   "metadata": {},
   "source": [
    "# Secuencias e iteración\n"
   ]
  },
  {
   "cell_type": "markdown",
   "metadata": {},
   "source": [
    "## Ejercicio 0\n",
    "\n",
    "Implementar una función que devuelva una secuencia con todos los números primos menores o iguales a $n$."
   ]
  },
  {
   "cell_type": "code",
   "execution_count": 1,
   "metadata": {},
   "outputs": [
    {
     "name": "stdout",
     "output_type": "stream",
     "text": [
      "Lista de primos menores o igual a 23:\n",
      "[2, 3, 5, 7, 11, 13, 17, 19, 23]\n"
     ]
    }
   ],
   "source": [
    "#Me robe lo de primos del prac anterior\n",
    "def primo_list(n):\n",
    "    primos = []\n",
    "    n_aux = 2 #El 1 no es primo\n",
    "    while n_aux <= n:\n",
    "        i = 2 #variable auxiliar para recorrer los números anteriores a n_aux\n",
    "        cont = 0 # cont de divisores\n",
    "        while i < n_aux:\n",
    "            if (n_aux % i == 0):\n",
    "                cont += 1\n",
    "            i += 1\n",
    "        #Chequeamos si se encontraron divisores\n",
    "        if cont == 0:\n",
    "            primos.append(n_aux)\n",
    "        n_aux += 1\n",
    "\n",
    "    return primos\n",
    "n = 23\n",
    "print(f\"Lista de primos menores o igual a {n}:\\n{primo_list(n)}\")"
   ]
  },
  {
   "cell_type": "markdown",
   "metadata": {},
   "source": [
    "## Ejercicio 1\n",
    "\n",
    "Utilizando la función `random` implementada en el módulo del mismo nombre:"
   ]
  },
  {
   "cell_type": "code",
   "execution_count": 2,
   "metadata": {},
   "outputs": [],
   "source": [
    "from random import random"
   ]
  },
  {
   "cell_type": "code",
   "execution_count": 3,
   "metadata": {},
   "outputs": [
    {
     "name": "stdout",
     "output_type": "stream",
     "text": [
      "0.47240662491537944\n"
     ]
    }
   ],
   "source": [
    "print(random())"
   ]
  },
  {
   "cell_type": "markdown",
   "metadata": {},
   "source": [
    "implementar una función que genere un vector de dimensión $d$ (representado como una lista) de números aleatorios en el intervalo $[0,1)$."
   ]
  },
  {
   "cell_type": "code",
   "execution_count": 4,
   "metadata": {},
   "outputs": [
    {
     "name": "stdout",
     "output_type": "stream",
     "text": [
      "[0.314959820206955, 0.9239532197226582, 0.6448190242476961, 0.08030999200871147, 0.3153386103681032, 0.10368566418233749, 0.24062126479841772, 0.7209454193595701, 0.21870387902571076, 0.013937869739755193, 0.08005724092321975, 0.06395294322612677, 0.1761787936180872, 0.8613596645709443, 0.41949330322239975, 0.5071067916480235, 0.9055341236214556, 0.6811765056637087, 0.2839731596821411, 0.05702072769769051, 0.3869842584241717, 0.17457769153116676, 0.614959731342007, 0.2479317744556936, 0.30504103917088576, 0.7256380602133337, 0.7139517580457052, 0.8270579422505627, 0.06927097968320817, 0.7622377897870972, 0.3475950076832335, 0.6622141554804976, 0.2759269982474861, 0.264072301820519, 0.22551661976062298, 0.9590107802486332, 0.7523512647235443, 0.5678004905309535, 0.780811705568511, 0.41446524245408267, 0.07100082448108036, 0.1829745971487824, 0.30229631763034415, 0.23896143671881964, 0.09941284679400386, 0.3228390340635925, 0.005862767193888341, 0.07381300544819203, 0.0232163995227318, 0.7787790829162221]\n"
     ]
    }
   ],
   "source": [
    "def vector(d):\n",
    "    vec = []\n",
    "\n",
    "    for i in range(0,d):\n",
    "        vec.append(random())\n",
    "\n",
    "    return vec\n",
    "\n",
    "print(vector(50))"
   ]
  },
  {
   "cell_type": "markdown",
   "metadata": {},
   "source": [
    "## Ejercicio 2\n",
    "\n",
    "Implementar una función que calcule el producto escalar de dos vectores de dimensión $d$."
   ]
  },
  {
   "cell_type": "code",
   "execution_count": 5,
   "metadata": {},
   "outputs": [
    {
     "name": "stdout",
     "output_type": "stream",
     "text": [
      "[2, 3, 5].[9, 2, 1] = 29\n"
     ]
    },
    {
     "ename": "ValueError",
     "evalue": "A = [2, 3, 5], B = [3, 4]\nLos vectores son de diferentes dimensiones",
     "output_type": "error",
     "traceback": [
      "\u001B[0;31m---------------------------------------------------------------------------\u001B[0m",
      "\u001B[0;31mValueError\u001B[0m                                Traceback (most recent call last)",
      "\u001B[0;32m<ipython-input-5-16ba43d7d40c>\u001B[0m in \u001B[0;36m<module>\u001B[0;34m\u001B[0m\n\u001B[1;32m     16\u001B[0m \u001B[0mM\u001B[0m \u001B[0;34m=\u001B[0m \u001B[0;34m[\u001B[0m\u001B[0;36m9\u001B[0m\u001B[0;34m,\u001B[0m\u001B[0;36m2\u001B[0m\u001B[0;34m,\u001B[0m\u001B[0;36m1\u001B[0m\u001B[0;34m]\u001B[0m\u001B[0;34m\u001B[0m\u001B[0;34m\u001B[0m\u001B[0m\n\u001B[1;32m     17\u001B[0m \u001B[0mprint\u001B[0m\u001B[0;34m(\u001B[0m\u001B[0;34mf\"{V}.{M} = {pescalar(V,M)}\"\u001B[0m\u001B[0;34m)\u001B[0m\u001B[0;34m\u001B[0m\u001B[0;34m\u001B[0m\u001B[0m\n\u001B[0;32m---> 18\u001B[0;31m \u001B[0mprint\u001B[0m\u001B[0;34m(\u001B[0m\u001B[0;34mf\"{V}.{N} = {pescalar(V,N)}\"\u001B[0m\u001B[0;34m)\u001B[0m\u001B[0;34m\u001B[0m\u001B[0;34m\u001B[0m\u001B[0m\n\u001B[0m\u001B[1;32m     19\u001B[0m \u001B[0;34m\u001B[0m\u001B[0m\n\u001B[1;32m     20\u001B[0m \u001B[0;34m\u001B[0m\u001B[0m\n",
      "\u001B[0;32m<ipython-input-5-16ba43d7d40c>\u001B[0m in \u001B[0;36mpescalar\u001B[0;34m(A, B)\u001B[0m\n\u001B[1;32m      5\u001B[0m     \u001B[0mprod\u001B[0m \u001B[0;34m=\u001B[0m \u001B[0;36m0\u001B[0m\u001B[0;34m\u001B[0m\u001B[0;34m\u001B[0m\u001B[0m\n\u001B[1;32m      6\u001B[0m     \u001B[0;32mif\u001B[0m \u001B[0mla\u001B[0m \u001B[0;34m!=\u001B[0m \u001B[0mlb\u001B[0m\u001B[0;34m:\u001B[0m\u001B[0;34m\u001B[0m\u001B[0;34m\u001B[0m\u001B[0m\n\u001B[0;32m----> 7\u001B[0;31m         \u001B[0;32mraise\u001B[0m \u001B[0mValueError\u001B[0m\u001B[0;34m(\u001B[0m\u001B[0;34mf\"A = {A}, B = {B}\\nLos vectores son de diferentes dimensiones\"\u001B[0m\u001B[0;34m)\u001B[0m\u001B[0;34m\u001B[0m\u001B[0;34m\u001B[0m\u001B[0m\n\u001B[0m\u001B[1;32m      8\u001B[0m \u001B[0;34m\u001B[0m\u001B[0m\n\u001B[1;32m      9\u001B[0m     \u001B[0;32mfor\u001B[0m \u001B[0mi\u001B[0m \u001B[0;32min\u001B[0m \u001B[0mrange\u001B[0m\u001B[0;34m(\u001B[0m\u001B[0;36m0\u001B[0m\u001B[0;34m,\u001B[0m\u001B[0mla\u001B[0m\u001B[0;34m)\u001B[0m\u001B[0;34m:\u001B[0m\u001B[0;34m\u001B[0m\u001B[0;34m\u001B[0m\u001B[0m\n",
      "\u001B[0;31mValueError\u001B[0m: A = [2, 3, 5], B = [3, 4]\nLos vectores son de diferentes dimensiones"
     ]
    }
   ],
   "source": [
    "def pescalar(A,B):\n",
    "\n",
    "    la = len(A)\n",
    "    lb = len(B)\n",
    "    prod = 0\n",
    "    if la != lb:\n",
    "        raise ValueError(f\"A = {A}, B = {B}\\nLos vectores son de diferentes dimensiones\")\n",
    "\n",
    "    for i in range(0,la):\n",
    "        prod += A[i] * B[i]\n",
    "\n",
    "    return prod\n",
    "\n",
    "V = [2,3,5]\n",
    "N = [3,4]\n",
    "M = [9,2,1]\n",
    "print(f\"{V}.{M} = {pescalar(V,M)}\")\n",
    "print(f\"{V}.{N} = {pescalar(V,N)}\")\n"
   ]
  },
  {
   "cell_type": "markdown",
   "metadata": {},
   "source": [
    "## Ejercicio 3\n",
    "\n",
    "Implementar una función que genere una matriz cuadrada (representada como una lista de listas) aleatoria de dimensión $d$."
   ]
  },
  {
   "cell_type": "code",
   "execution_count": 6,
   "metadata": {},
   "outputs": [
    {
     "name": "stdout",
     "output_type": "stream",
     "text": [
      "Matriz generada:\n",
      "\n",
      "[0.7105662537405165, 0.8992824404862401, 0.9126963493237413]\n",
      "[0.2811095347692828, 0.31706839306763446, 0.2532249265419224]\n",
      "[0.9267906565676717, 0.42772617739751095, 0.13795124973168937]\n"
     ]
    }
   ],
   "source": [
    "def mat_print(A):\n",
    "    for i in range(0,len(A)):\n",
    "        print(f\"{A[i]}\")\n",
    "\n",
    "def rsmatrix(d):\n",
    "\n",
    "    mat = []\n",
    "    for i in range(0,d):\n",
    "        aux = []\n",
    "        for j in range(0,d):\n",
    "            aux.append(random())\n",
    "        mat.append(aux)\n",
    "\n",
    "\n",
    "    return mat\n",
    "\n",
    "A = rsmatrix(3)\n",
    "print(f\"Matriz generada:\\n\")\n",
    "mat_print(A)"
   ]
  },
  {
   "cell_type": "markdown",
   "metadata": {},
   "source": [
    "## Ejercicio 4\n",
    "\n",
    "Implementar una función que calcule el producto de dos matrices cuadradas de dimensión $d$"
   ]
  },
  {
   "cell_type": "code",
   "execution_count": 7,
   "metadata": {},
   "outputs": [
    {
     "name": "stdout",
     "output_type": "stream",
     "text": [
      "mat1:\n",
      "\n",
      "[-10, -7, -1, -5]\n",
      "[-6, -6, -7, -4]\n",
      "[-6, 10, 5, -6]\n",
      "\n",
      "mat2:\n",
      "\n",
      "[8, -9, -1]\n",
      "[-5, -8, 0]\n",
      "[7, -8, -1]\n",
      "[8, -7, -5]\n",
      "\n",
      "mat3 = mat1 x mat2:\n",
      "\n",
      "[-92, 189, 36]\n",
      "[-99, 186, 33]\n",
      "[-111, -24, 31]\n"
     ]
    },
    {
     "ename": "ValueError",
     "evalue": "A = [[-7, 8, 9, 6], [-1, 9, 9, -6], [-9, -9, 8, -4]]\n B = [[9, -8, 6], [6, -7, 5], [-5, -10, 1]]\n EL número de colmnas de A no es igual al número de filas de B",
     "output_type": "error",
     "traceback": [
      "\u001B[0;31m---------------------------------------------------------------------------\u001B[0m",
      "\u001B[0;31mValueError\u001B[0m                                Traceback (most recent call last)",
      "\u001B[0;32m<ipython-input-7-393d9479a438>\u001B[0m in \u001B[0;36m<module>\u001B[0;34m\u001B[0m\n\u001B[1;32m     59\u001B[0m \u001B[0mmat4\u001B[0m \u001B[0;34m=\u001B[0m \u001B[0mrimatrix\u001B[0m\u001B[0;34m(\u001B[0m\u001B[0;36m3\u001B[0m\u001B[0;34m,\u001B[0m\u001B[0;36m4\u001B[0m\u001B[0;34m,\u001B[0m\u001B[0;34m-\u001B[0m\u001B[0;36m10\u001B[0m\u001B[0;34m,\u001B[0m\u001B[0;36m10\u001B[0m\u001B[0;34m)\u001B[0m\u001B[0;34m\u001B[0m\u001B[0;34m\u001B[0m\u001B[0m\n\u001B[1;32m     60\u001B[0m \u001B[0mmat5\u001B[0m \u001B[0;34m=\u001B[0m \u001B[0mrimatrix\u001B[0m\u001B[0;34m(\u001B[0m\u001B[0;36m3\u001B[0m\u001B[0;34m,\u001B[0m\u001B[0;36m3\u001B[0m\u001B[0;34m,\u001B[0m\u001B[0;34m-\u001B[0m\u001B[0;36m10\u001B[0m\u001B[0;34m,\u001B[0m\u001B[0;36m10\u001B[0m\u001B[0;34m)\u001B[0m\u001B[0;34m\u001B[0m\u001B[0;34m\u001B[0m\u001B[0m\n\u001B[0;32m---> 61\u001B[0;31m \u001B[0mmat6\u001B[0m \u001B[0;34m=\u001B[0m \u001B[0mmatprod\u001B[0m\u001B[0;34m(\u001B[0m\u001B[0mmat4\u001B[0m\u001B[0;34m,\u001B[0m\u001B[0mmat5\u001B[0m\u001B[0;34m)\u001B[0m\u001B[0;34m\u001B[0m\u001B[0;34m\u001B[0m\u001B[0m\n\u001B[0m\u001B[1;32m     62\u001B[0m \u001B[0;34m\u001B[0m\u001B[0m\n",
      "\u001B[0;32m<ipython-input-7-393d9479a438>\u001B[0m in \u001B[0;36mmatprod\u001B[0;34m(A, B)\u001B[0m\n\u001B[1;32m     26\u001B[0m     \u001B[0mnum_col_B\u001B[0m \u001B[0;34m=\u001B[0m \u001B[0mlen\u001B[0m\u001B[0;34m(\u001B[0m\u001B[0mB\u001B[0m\u001B[0;34m[\u001B[0m\u001B[0;36m0\u001B[0m\u001B[0;34m]\u001B[0m\u001B[0;34m)\u001B[0m\u001B[0;34m\u001B[0m\u001B[0;34m\u001B[0m\u001B[0m\n\u001B[1;32m     27\u001B[0m     \u001B[0;32mif\u001B[0m \u001B[0mnum_col_A\u001B[0m \u001B[0;34m!=\u001B[0m \u001B[0mnum_fila_B\u001B[0m\u001B[0;34m:\u001B[0m\u001B[0;34m\u001B[0m\u001B[0;34m\u001B[0m\u001B[0m\n\u001B[0;32m---> 28\u001B[0;31m         \u001B[0;32mraise\u001B[0m \u001B[0mValueError\u001B[0m\u001B[0;34m(\u001B[0m\u001B[0;34mf\"A = {A}\\n B = {B}\\n EL número de colmnas de A no es igual al número de filas de B\"\u001B[0m\u001B[0;34m)\u001B[0m\u001B[0;34m\u001B[0m\u001B[0;34m\u001B[0m\u001B[0m\n\u001B[0m\u001B[1;32m     29\u001B[0m \u001B[0;34m\u001B[0m\u001B[0m\n\u001B[1;32m     30\u001B[0m     \u001B[0;31m#variables auxiliares para el calculo\u001B[0m\u001B[0;34m\u001B[0m\u001B[0;34m\u001B[0m\u001B[0;34m\u001B[0m\u001B[0m\n",
      "\u001B[0;31mValueError\u001B[0m: A = [[-7, 8, 9, 6], [-1, 9, 9, -6], [-9, -9, 8, -4]]\n B = [[9, -8, 6], [6, -7, 5], [-5, -10, 1]]\n EL número de colmnas de A no es igual al número de filas de B"
     ]
    }
   ],
   "source": [
    "from random import randint\n",
    "\n",
    "def rimatrix(f,c,a,b):\n",
    "    #Generador de matriz de f filas y c columnas\n",
    "    #Los valores de la matriz son enteros n aleatorios tal que a < n < b\n",
    "    mat = []\n",
    "    for i in range(0,f):\n",
    "        aux = []\n",
    "        for j in range(0,c):\n",
    "            aux.append(randint(a,b))\n",
    "        mat.append(aux)\n",
    "\n",
    "    return mat\n",
    "\n",
    "\n",
    "def matprod(A,B):\n",
    "    # return producto matricial C = A x B\n",
    "    #suponiendo que nuestras matrices son listas de listas\n",
    "    #Donde cada lista de la lista es una fila de la matriz\n",
    "    #De esta manera el primer indice indica fila y el segundo la columna\n",
    "\n",
    "    #Chequeamos que el numero de columnas de A sea igual a de filas de B\n",
    "    num_fila_A = len(A)\n",
    "    num_col_A = len(A[0])\n",
    "    num_fila_B = len(B)\n",
    "    num_col_B = len(B[0])\n",
    "    if num_col_A != num_fila_B:\n",
    "        raise ValueError(f\"A = {A}\\n B = {B}\\n EL número de colmnas de A no es igual al número de filas de B\")\n",
    "\n",
    "    #variables auxiliares para el calculo\n",
    "    C = []\n",
    "    for i in range(0,num_fila_A):\n",
    "        aux = [] #lista auxiliar para tomar valores de listas\n",
    "        for j in range(0,num_col_B):\n",
    "            sum= 0\n",
    "            for k in range(0,num_col_A):\n",
    "                sum += A[i][k] * B[k][j]\n",
    "\n",
    "            #Un vez que termina la suma lo agregamos a la lista auxiliar\n",
    "            aux.append(sum)\n",
    "\n",
    "        #Agrego la fila una vez que la termino de completar\n",
    "        C.append(aux)\n",
    "\n",
    "    return C\n",
    "\n",
    "#testeamos el producto matricial\n",
    "mat1 = rimatrix(3,4,-10,10)\n",
    "mat2 = rimatrix(4,3,-10,10)\n",
    "mat3 = matprod(mat1,mat2)\n",
    "print(\"mat1:\\n\")\n",
    "mat_print(mat1)\n",
    "print(\"\\nmat2:\\n\")\n",
    "mat_print(mat2)\n",
    "print(\"\\nmat3 = mat1 x mat2:\\n\")\n",
    "mat_print(mat3)\n",
    "\n",
    "#otra prueba\n",
    "mat4 = rimatrix(3,4,-10,10)\n",
    "mat5 = rimatrix(3,3,-10,10)\n",
    "mat6 = matprod(mat4,mat5)"
   ]
  },
  {
   "cell_type": "markdown",
   "metadata": {
    "lines_to_next_cell": 3
   },
   "source": [
    "## Ejercicio S1\n",
    "\n",
    "Implementar una función que devuelva una secuencia de tuplas con todos los pares de números primos gemelos menores o iguales a $n$.\n",
    "\n"
   ]
  },
  {
   "cell_type": "code",
   "execution_count": 8,
   "metadata": {},
   "outputs": [
    {
     "name": "stdout",
     "output_type": "stream",
     "text": [
      "Lista de primos gemelos menores a 100:\n",
      "[(3, 5), (5, 7), (11, 13), (17, 19), (29, 31), (41, 43), (59, 61), (71, 73)]\n"
     ]
    }
   ],
   "source": [
    "#vamos a usar primo_list para generar los primos\n",
    "\n",
    "def primo_gem_list(n):\n",
    "\n",
    "    lista_p = primo_list(n)\n",
    "    #recorremos la lista de primos generada y verficamos si son gemelos\n",
    "    #https://mathworld.wolfram.com/TwinPrimes.html\n",
    "    #Dos primos p,q son gemelos si siendo q>p:\n",
    "    # q - p = 2 ó q = p + 2\n",
    "    primo_gem = []\n",
    "    for index,primo in enumerate(lista_p):\n",
    "        #Chequeamos que no nos pasemos de indice\n",
    "        if index + 1 == len(lista_p):\n",
    "            break\n",
    "        if primo == lista_p[index + 1] - 2: #Chequeamos la condición de primo gemelo\n",
    "            primo_gem.append((primo,lista_p[index + 1]))\n",
    "\n",
    "    return primo_gem\n",
    "j = 100\n",
    "print(f\"Lista de primos gemelos menores a {j}:\\n{primo_gem_list(j)}\")"
   ]
  },
  {
   "cell_type": "markdown",
   "metadata": {},
   "source": [
    "## Ejercicio S2\n",
    "\n",
    "Implementar una función que devuelva una secuencia de $m$ números pseudoaleatorios a partir de una *semilla* $X_0$ arbitraria usando el método de *congruencia lineal multiplicativa* basado en la relación de recurrencia:\n",
    "\n",
    "$$X_n = a X_{n-1} \\mod m$$\n",
    "\n",
    "Utilizar alguno de los valores para $m$ y $a$ sugeridos por L'Ecuyer en:\n",
    "\n",
    "L'Ecuyer, Pierre (1999). \"Tables of Linear Congruential Generators of Different Sizes and Good Lattice Structure\". Mathematics of Computation. 68 (225): 249–260. ([PDF](https://www.ams.org/journals/mcom/1999-68-225/S0025-5718-99-00996-5/S0025-5718-99-00996-5.pdf))"
   ]
  },
  {
   "cell_type": "code",
   "execution_count": null,
   "metadata": {},
   "outputs": [],
   "source": []
  },
  {
   "cell_type": "markdown",
   "metadata": {},
   "source": [
    "## Ejercicio S3\n",
    "\n",
    "Modificar la función del Ejercicio S2 para que devuelva números pseudoaleatorios de punto flotante en el intervalo $[0,1)$"
   ]
  },
  {
   "cell_type": "code",
   "execution_count": null,
   "metadata": {},
   "outputs": [],
   "source": []
  },
  {
   "cell_type": "markdown",
   "metadata": {},
   "source": [
    "## Ejercicio S4\n",
    "\n",
    "Implementar una función que, dada una secuencia de objetos arbitrarios, genere todas las posible permutaciones y las devuelva en una lista de listas."
   ]
  },
  {
   "cell_type": "code",
   "execution_count": null,
   "metadata": {},
   "outputs": [],
   "source": [
    "def permutaciones(list):\n",
    "\n",
    "    num_ele = len(list)\n",
    "\n",
    "    permu =[] #lista de salida\n",
    "\n",
    "\n",
    "\n"
   ]
  },
  {
   "cell_type": "markdown",
   "metadata": {},
   "source": [
    "## Ejercicio S5\n",
    "\n",
    "Implementar una función que calcule todos los números primos menores o iguales a $n$ utilizando el algoritmo conocido como *Criba de Eratóstenes*."
   ]
  },
  {
   "cell_type": "code",
   "execution_count": 42,
   "metadata": {},
   "outputs": [
    {
     "name": "stdout",
     "output_type": "stream",
     "text": [
      "Lista inicial:\n",
      " [2, 3, 4, 5, 6, 7, 8, 9, 10, 11, 12, 13, 14, 15, 16, 17, 18, 19, 20, 21, 22, 23, 24, 25, 26, 27, 28, 29, 30, 31, 32, 33, 34, 35, 36, 37, 38, 39, 40, 41, 42, 43, 44, 45, 46, 47, 48, 49, 50]\n",
      "Lista de primos menores a 50 generadas por la criba de Eratóstenes:\n",
      "[2, 3, 5, 7, 11, 13, 17, 19, 23, 29, 31, 37, 41, 43, 47]\n"
     ]
    }
   ],
   "source": [
    "import math\n",
    "\n",
    "def prim_erat(n):\n",
    "\n",
    "    #Primero generamos una lista de números entre 2 y n\n",
    "    init_list = list(range(2,n+1))\n",
    "    print(\"Lista inicial:\\n\",init_list)\n",
    "    #seteamos el primer elemento para tachar sus multiplos\n",
    "    compare = init_list[0]\n",
    "    for i in range(0,int(math.sqrt(n))):\n",
    "        j = 0\n",
    "        len_init = len(init_list)\n",
    "        k = 0 #contador de elementos tachados\n",
    "        while len_init - k > j:\n",
    "            #chequeamos si son multiplos del compare y evitamos que retire a los comparadores\n",
    "            if init_list[j] % compare == 0 and not init_list[j] == compare:\n",
    "                init_list.pop(j) #lo sacamos\n",
    "                k += 1\n",
    "            j += 1 #nos movemos al siguiente elemento\n",
    "\n",
    "        #actualizamos el compare\n",
    "        compare = init_list[i + 1]\n",
    "    return init_list\n",
    "\n",
    "print(f\"Lista de primos menores a 50 generadas por la criba de Eratóstenes:\\n{prim_erat(50)}\")\n",
    "\n"
   ]
  }
 ],
 "metadata": {
  "jupytext": {
   "encoding": "# -*- coding: utf-8 -*-",
   "formats": "ipynb,py:percent"
  },
  "kernelspec": {
   "display_name": "Python 3",
   "language": "python",
   "name": "python3"
  },
  "language_info": {
   "codemirror_mode": {
    "name": "ipython",
    "version": 3
   },
   "file_extension": ".py",
   "mimetype": "text/x-python",
   "name": "python",
   "nbconvert_exporter": "python",
   "pygments_lexer": "ipython3",
   "version": "3.8.3"
  }
 },
 "nbformat": 4,
 "nbformat_minor": 4
}