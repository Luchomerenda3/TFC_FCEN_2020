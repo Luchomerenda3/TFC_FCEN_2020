{
 "cells": [
  {
   "cell_type": "markdown",
   "metadata": {},
   "source": [
    "# Tarea 02b\n",
    "\n",
    "Utilizamos Python como calculadora. Para hacer la cosa más interesante los ejercicios de este *Notebook* deben ser resueltos utilizando **únicamente** los operadores aritméticos `+ - / * ** %` y `//` operando entre literales y/o las funciones de la librería estándard (."
   ]
  },
  {
   "cell_type": "markdown",
   "metadata": {},
   "source": [
    "## Ejercicio 1\n",
    "\n",
    "Calcular el módulo de la aceleración que sufre el electrón en el estado fundamental del átomo de hidrógeno. Expresar el resultado en unidades SI.\n",
    "\n",
    "Vuelta de tuerca: Estimar el error en la aceleración calculada utilizando un modelo de propagación lineal de errores y asumiendo que los errores en las cantidades necesarias para el cálculo no están correlacionados.\n",
    "\n",
    "Utilizar los valores de las constantes físicas de [aquí](https://physics.nist.gov/cuu/Constants/index.html), hay info útil [aquí](https://arxiv.org/pdf/1610.08716.pdf) y [aquí](https://xkcd.com/2110/)."
   ]
  },
  {
   "cell_type": "code",
   "execution_count": null,
   "metadata": {},
   "outputs": [],
   "source": []
  },
  {
   "cell_type": "markdown",
   "metadata": {},
   "source": [
    "## Ejercicio 2\n",
    "\n",
    "Calcular una aproximación para el Número de Euler ($e$). Hay una buena lista de formas para hacerlo en [Wikipedia](https://en.wikipedia.org/wiki/E_(mathematical_constant))."
   ]
  },
  {
   "cell_type": "code",
   "execution_count": null,
   "metadata": {},
   "outputs": [],
   "source": []
  },
  {
   "cell_type": "markdown",
   "metadata": {},
   "source": [
    "## Ejercicio 3\n",
    "\n",
    "Utilizando el resultado anterior calcular valores aproximados para $\\cos(1/2)$ y $\\sin(1/3)$. Estimar los errores para cada valor."
   ]
  },
  {
   "cell_type": "code",
   "execution_count": null,
   "metadata": {},
   "outputs": [],
   "source": []
  },
  {
   "cell_type": "markdown",
   "metadata": {},
   "source": [
    "## Ejercicio 4\n",
    "\n",
    "Y si queremos $\\tan(\\sqrt{2}/2)$?"
   ]
  },
  {
   "cell_type": "code",
   "execution_count": null,
   "metadata": {},
   "outputs": [],
   "source": []
  },
  {
   "cell_type": "markdown",
   "metadata": {},
   "source": [
    "Subir los ejercicios completos en formato `ipynb` a Google Classroom. Describiendo en celdas de *Markdown* cada paso de los cálculos, sin demasiada exigencia, sólo para que el que lee pueda entender de qué se trata lo que el código hace."
   ]
  }
 ],
 "metadata": {
  "jupytext": {
   "encoding": "# -*- coding: utf-8 -*-",
   "formats": "ipynb,py:percent"
  },
  "kernelspec": {
   "display_name": "Python 3",
   "language": "python",
   "name": "python3"
  },
  "language_info": {
   "codemirror_mode": {
    "name": "ipython",
    "version": 3
   },
   "file_extension": ".py",
   "mimetype": "text/x-python",
   "name": "python",
   "nbconvert_exporter": "python",
   "pygments_lexer": "ipython3",
   "version": "3.8.3"
  }
 },
 "nbformat": 4,
 "nbformat_minor": 4
}
