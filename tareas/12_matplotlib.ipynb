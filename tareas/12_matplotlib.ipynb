{
 "cells": [
  {
   "cell_type": "markdown",
   "metadata": {},
   "source": [
    "## Ejercicio 1\n",
    "\n",
    "Graficar las siguientes funciones en los intervalos dados:\n",
    "\n",
    "1. $f(x) = \\cos(x^2)$ en $[-3\\pi,3\\pi]$\n",
    "1. $f(x) = x\\sin(1/x)$ en $[-1,1]$ (se necesita un poco de ingeniería para lidiar con las infinitas discontinuidades)\n",
    "1. $J_n(x)$ con $n=1,2,3,\\ldots,5$ en el intervalo $[0,10]$ donde $J_n$ es la función de Bessel del primer tipo.\n"
   ]
  },
  {
   "cell_type": "code",
   "execution_count": null,
   "metadata": {},
   "outputs": [],
   "source": []
  },
  {
   "cell_type": "markdown",
   "metadata": {},
   "source": [
    "## Ejercicio 2\n",
    "\n",
    "Dada la función compleja de variable real:\n",
    "\n",
    "$\\mu(t) = e^{it} + \\frac{1}{2}e^{6it} + \\frac{i}{3}e^{-14it}$,\n",
    "\n",
    "graficar la curva paramétrica dada por $(\\Re \\mu(t),\\Im \\mu(t))$ con $t\\in[0,2\\pi]$.\n",
    "\n",
    "Referencia: Creating symmetry : the artful mathematics of wallpaper patterns, Farris, Frank A, Princeton University Press, 2015"
   ]
  },
  {
   "cell_type": "code",
   "execution_count": null,
   "metadata": {},
   "outputs": [],
   "source": []
  },
  {
   "cell_type": "code",
   "execution_count": null,
   "metadata": {},
   "outputs": [],
   "source": [
    "## Ejercicio S1\n",
    "\n"
   ]
  },
  {
   "cell_type": "code",
   "execution_count": null,
   "metadata": {},
   "outputs": [],
   "source": []
  }
 ],
 "metadata": {
  "jupytext": {
   "formats": "ipynb,py:percent"
  },
  "kernelspec": {
   "display_name": "Python 3",
   "language": "python",
   "name": "python3"
  },
  "language_info": {
   "codemirror_mode": {
    "name": "ipython",
    "version": 3
   },
   "file_extension": ".py",
   "mimetype": "text/x-python",
   "name": "python",
   "nbconvert_exporter": "python",
   "pygments_lexer": "ipython3",
   "version": "3.8.3"
  }
 },
 "nbformat": 4,
 "nbformat_minor": 4
}
