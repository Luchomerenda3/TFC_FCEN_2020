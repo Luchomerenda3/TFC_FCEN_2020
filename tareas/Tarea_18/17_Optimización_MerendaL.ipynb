{
 "cells": [
  {
   "cell_type": "markdown",
   "metadata": {},
   "source": [
    "## Ejercicio\n",
    "\n",
    "Utilize la rutina `minimize` del paquete `numpy.optimize` para encontrar el mínimo global de la [función de Rosenbrock](http://mathworld.wolfram.com/RosenbrockFunction.html).\n",
    "\n",
    "Compare los resultados obtenidos utilizando los algoritmos Nelder-Mead, CG y BFGS. En los últimos dos casos compare el resultado utilizando gradientes numéricos (la entrada por defecto de la subrutina) o explícitos, para lo cual deberá clalcular el gradiende de la función respecto de los parámetros."
   ]
  },
  {
   "cell_type": "code",
   "execution_count": null,
   "metadata": {},
   "outputs": [],
   "source": []
  }
 ],
 "metadata": {
  "jupytext": {
   "formats": "ipynb,py:percent"
  },
  "kernelspec": {
   "display_name": "Python 3",
   "language": "python",
   "name": "python3"
  },
  "language_info": {
   "codemirror_mode": {
    "name": "ipython",
    "version": 3
   },
   "file_extension": ".py",
   "mimetype": "text/x-python",
   "name": "python",
   "nbconvert_exporter": "python",
   "pygments_lexer": "ipython3",
   "version": "3.8.3"
  }
 },
 "nbformat": 4,
 "nbformat_minor": 4
}
