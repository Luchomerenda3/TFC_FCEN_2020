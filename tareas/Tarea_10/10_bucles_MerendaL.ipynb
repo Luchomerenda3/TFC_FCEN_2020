{
 "cells": [
  {
   "cell_type": "markdown",
   "metadata": {},
   "source": [
    "# Bucles\n",
    "\n",
    "Usar **sólo** bucles `while`, las listas también son taboo por ahora."
   ]
  },
  {
   "cell_type": "markdown",
   "metadata": {},
   "source": [
    "## Ejercicio 1\n",
    "\n",
    "Implementar una función que imprima todos los números primos menores a $n$."
   ]
  },
  {
   "cell_type": "code",
   "execution_count": 1,
   "metadata": {},
   "outputs": [
    {
     "name": "stdout",
     "output_type": "stream",
     "text": [
      "2 es un número primo menor a 350\n",
      "3 es un número primo menor a 350\n",
      "5 es un número primo menor a 350\n",
      "7 es un número primo menor a 350\n",
      "11 es un número primo menor a 350\n",
      "13 es un número primo menor a 350\n",
      "17 es un número primo menor a 350\n",
      "19 es un número primo menor a 350\n",
      "23 es un número primo menor a 350\n",
      "29 es un número primo menor a 350\n",
      "31 es un número primo menor a 350\n",
      "37 es un número primo menor a 350\n",
      "41 es un número primo menor a 350\n",
      "43 es un número primo menor a 350\n",
      "47 es un número primo menor a 350\n",
      "53 es un número primo menor a 350\n",
      "59 es un número primo menor a 350\n",
      "61 es un número primo menor a 350\n",
      "67 es un número primo menor a 350\n",
      "71 es un número primo menor a 350\n",
      "73 es un número primo menor a 350\n",
      "79 es un número primo menor a 350\n",
      "83 es un número primo menor a 350\n",
      "89 es un número primo menor a 350\n",
      "97 es un número primo menor a 350\n",
      "101 es un número primo menor a 350\n",
      "103 es un número primo menor a 350\n",
      "107 es un número primo menor a 350\n",
      "109 es un número primo menor a 350\n",
      "113 es un número primo menor a 350\n",
      "127 es un número primo menor a 350\n",
      "131 es un número primo menor a 350\n",
      "137 es un número primo menor a 350\n",
      "139 es un número primo menor a 350\n",
      "149 es un número primo menor a 350\n",
      "151 es un número primo menor a 350\n",
      "157 es un número primo menor a 350\n",
      "163 es un número primo menor a 350\n",
      "167 es un número primo menor a 350\n",
      "173 es un número primo menor a 350\n",
      "179 es un número primo menor a 350\n",
      "181 es un número primo menor a 350\n",
      "191 es un número primo menor a 350\n",
      "193 es un número primo menor a 350\n",
      "197 es un número primo menor a 350\n",
      "199 es un número primo menor a 350\n",
      "211 es un número primo menor a 350\n",
      "223 es un número primo menor a 350\n",
      "227 es un número primo menor a 350\n",
      "229 es un número primo menor a 350\n",
      "233 es un número primo menor a 350\n",
      "239 es un número primo menor a 350\n",
      "241 es un número primo menor a 350\n",
      "251 es un número primo menor a 350\n",
      "257 es un número primo menor a 350\n",
      "263 es un número primo menor a 350\n",
      "269 es un número primo menor a 350\n",
      "271 es un número primo menor a 350\n",
      "277 es un número primo menor a 350\n",
      "281 es un número primo menor a 350\n",
      "283 es un número primo menor a 350\n",
      "293 es un número primo menor a 350\n",
      "307 es un número primo menor a 350\n",
      "311 es un número primo menor a 350\n",
      "313 es un número primo menor a 350\n",
      "317 es un número primo menor a 350\n",
      "331 es un número primo menor a 350\n",
      "337 es un número primo menor a 350\n",
      "347 es un número primo menor a 350\n",
      "349 es un número primo menor a 350\n"
     ]
    }
   ],
   "source": [
    "def primo_test(numero):\n",
    "     if numero < 2: #Si es menor de 2 no es primo\n",
    "         return False\n",
    "     i = 2 #variable auxiliar para recorrer los números anteriores\n",
    "     cont = 0 # cont de divisores\n",
    "     while i < numero:\n",
    "         if (numero % i == 0):\n",
    "             cont += 1\n",
    "         i += 1\n",
    "     #Chequeamos si se encontraron divisores\n",
    "     if cont != 0:\n",
    "         return False\n",
    "     else:\n",
    "         return True\n",
    "\n",
    "def imprime_primo(n):\n",
    "    n_aux = 0\n",
    "    while (n_aux < n):\n",
    "        if primo_test(n_aux) == True :\n",
    "            print(f\"{n_aux} es un número primo menor a {n}\")\n",
    "        n_aux += 1\n",
    "\n",
    "imprime_primo(350)"
   ]
  },
  {
   "cell_type": "markdown",
   "metadata": {},
   "source": [
    "## Ejercicio 2\n",
    "\n",
    "Implementar una función que calcule la integral definida de una función arbitraria de una variable utilizando la regla del punto medio. Probar para los siguientes casos:\n",
    "\n",
    "$$ \\int_0^1 x^2\\ dx = 1/3 $$\n",
    "\n",
    "$$ \\int_0^\\pi \\sin(x)\\ dx = 2 $$\n",
    "\n",
    "Comparar con los resultado obtenido a partir de la función `quad` en el módulo `scipy.integrate`."
   ]
  },
  {
   "cell_type": "code",
   "execution_count": 2,
   "metadata": {
    "pycharm": {
     "name": "#%%\n"
    }
   },
   "outputs": [
    {
     "name": "stdout",
     "output_type": "stream",
     "text": [
      "Integrando x^2 desde 0 a 1\n",
      "-Con nuestra función:\n",
      " 0.3333332500000003\n",
      "-Con scipy.integrate.quad:\n",
      " (0.33333333333333337, 3.700743415417189e-15)\n",
      "\n",
      "Integrando sin(x) desde 0 a pi \n",
      "-Con nuestra función:\n",
      " 2.000000822467294\n",
      "-Con scipy.integrate.quad:\n",
      " (2.0, 2.220446049250313e-14)\n"
     ]
    }
   ],
   "source": [
    "import math as m\n",
    "import scipy.integrate as integrate\n",
    "\n",
    "#definimos las dos funciones a integrar\n",
    "def x_square(x):\n",
    "    return x * x\n",
    "\n",
    "def sin(x):\n",
    "    return m.sin(x)\n",
    "\n",
    "def mp_integ(f,xmin,xmax,n_interv):\n",
    "\n",
    "    #definimos tamaños intervalos y variables auxiliares\n",
    "    h = (xmax - xmin) / n_interv\n",
    "    i = 0 # contador de intervalos rewcorridos\n",
    "    sum = 0 # variable con la suma final\n",
    "    x_under = xmin\n",
    "\n",
    "    while i < n_interv :\n",
    "        #calculo el punto medio\n",
    "        middle_point = h / 2 + x_under\n",
    "        #calculo el valor del area para ese intervalo\n",
    "        sum += f(middle_point) * h\n",
    "        #nos movemos al siguiente intervalo\n",
    "        x_under += h\n",
    "        i += 1\n",
    "\n",
    "    return sum\n",
    "\n",
    "#comparamos con scipy.integrate\n",
    "print(\"Integrando x^2 desde 0 a 1\\n-Con nuestra función:\\n\",mp_integ(x_square,0,1,1000))\n",
    "print(\"-Con scipy.integrate.quad:\\n\",integrate.quad(x_square,0,1))\n",
    "print(\"\\nIntegrando sin(x) desde 0 a pi \\n-Con nuestra función:\\n\",mp_integ(sin,0,m.pi,1000))\n",
    "print(\"-Con scipy.integrate.quad:\\n\",integrate.quad(sin,0,m.pi))\n",
    "\n"
   ]
  },
  {
   "cell_type": "markdown",
   "metadata": {},
   "source": [
    "## Ejercicio 3\n",
    "\n",
    "Implementar una función que calcule la raíz de una función arbitraria (dada su derivada) utilizando el método de Newton-Raphson. Probar para el caso \n",
    "\n",
    "$$ f(x) = e^{-x} - \\pi $$\n",
    "\n",
    "que tiene una única raiz en $-\\ln\\pi$."
   ]
  },
  {
   "cell_type": "code",
   "execution_count": 3,
   "metadata": {},
   "outputs": [
    {
     "name": "stdout",
     "output_type": "stream",
     "text": [
      "Init guess = -2\n",
      "Raíz de f(x) = -1.1447298858494002\n",
      "Raíz de f(x) por Newton-Rahpson = -1.1447298858494002\n"
     ]
    }
   ],
   "source": [
    "import numpy as np\n",
    "\n",
    "#Implementacion de una comparacion de punto flotantes\n",
    "def float_compare(x1,x2):\n",
    "    #Relative epsilon comparison by Bruce Dawson\n",
    "    eps = np.finfo(float).eps\n",
    "    X1 = np.abs(x1)\n",
    "    X2 = np.abs(x2)\n",
    "\n",
    "    diff = np.abs(x1 - x2)\n",
    "    largest = X2 if X2 > X1 else X1\n",
    "\n",
    "    if diff <= (largest * eps) :\n",
    "        return True\n",
    "    else:\n",
    "        return False\n",
    "\n",
    "#definimos la función cuya raíz queremos conocer\n",
    "def f(x):\n",
    "    return m.exp(-x) - m.pi\n",
    "\n",
    "def derivative(f,x_0, h = 0.1):\n",
    "    #Calculamos la derivada de f en el punto x_0\n",
    "    #por Primer aproximación central\n",
    "    #Tendría que devolver el error también\n",
    "    #voy a hacerlo así por ahora\n",
    "    return f(x_0 + h) - f(x_0 - h) / (2 * h)\n",
    "\n",
    "def newton_rhapson(function,n_iter,guess):\n",
    "\n",
    "    init_guess = guess\n",
    "    print(f\"Init guess = {init_guess}\")\n",
    "    #no hace falta desarrollar la derivada, creo\n",
    "    i = 0\n",
    "    while i < n_iter :\n",
    "        #Acá tendría que implementar el comparador de pto flotante si o si\n",
    "        #me lo robo del parcial\n",
    "        if float_compare(function(init_guess), 0.0):\n",
    "            root_guess = init_guess\n",
    "        else:\n",
    "            #si no es igual a 0 actualizamos la suposición\n",
    "            init_guess = init_guess - (function(init_guess) / derivative(function,init_guess))\n",
    "        i += 1\n",
    "\n",
    "    #Chequeamos la salida de la iteración\n",
    "    return root_guess\n",
    "\n",
    "print(f\"Raíz de f(x) = {-m.log(m.pi)}\\nRaíz de f(x) por Newton-Rahpson = {newton_rhapson(f,1000,-2)}\")"
   ]
  },
  {
   "cell_type": "markdown",
   "metadata": {},
   "source": [
    "# Serie S\n",
    "\n",
    "Los siguientes ejercicios son más complejos que los anteriores y su complejidad es creciente. Son un poco más opcionales que los anteriores"
   ]
  },
  {
   "cell_type": "markdown",
   "metadata": {},
   "source": [
    "## Ejercicio S1\n",
    "\n",
    "Comparar la velocidad de convergencia (determinando para que $k$ se logra una determinada tolerancia) de la serie de Gregory y Leibniz para $\\pi$ \n",
    "\n",
    "$$\\pi=4\\sum_{k=1}^{\\infty}\\frac{(-1)^(k+1)}{(2k-1)}$$\n",
    "\n",
    "con la siguiente serie:\n",
    "\n",
    "$$\\frac{1}{\\pi} = \\frac{2\\sqrt 2}{9801} \\sum^\\infty_{k=0} \\frac{(4k)!(1103+26390k)}{(k!)^4 396^{4k}},$$\n",
    "\n",
    "una de las tantas sorprendentes fórmulas debidas al matemático indú Srinvasa Ramanujan."
   ]
  },
  {
   "cell_type": "code",
   "execution_count": 4,
   "metadata": {},
   "outputs": [],
   "source": [
    "from scipy.special import factorial\n",
    "\n",
    "def greg_leib(i):\n",
    "\n",
    "    #devuelve apr+ox de pi por\n",
    "    sum = 0\n",
    "    k = 1 #variable contador\n",
    "    while k < (i + 1):\n",
    "        sum += np.power(-1,k + 1) / ((2 * k) - 1)\n",
    "        k += 1\n",
    "    return 4 * sum"
   ]
  },
  {
   "cell_type": "code",
   "execution_count": 5,
   "outputs": [],
   "source": [
    "def ramanujan(i):\n",
    "\n",
    "    #devuelve aprox de pi por la formula de Ramanujan\n",
    "    sum = 0\n",
    "    k = 0 #contador\n",
    "    while k < i:\n",
    "        sum += (factorial(4 * k) * (1103 + (26390 * k))) / (np.power(factorial(k),4) * np.power(396,4 * k))\n",
    "        k += 1\n",
    "    return (9801 / (2 * np.sqrt(2))) / sum\n"
   ],
   "metadata": {
    "collapsed": false,
    "pycharm": {
     "name": "#%%\n"
    }
   }
  },
  {
   "cell_type": "code",
   "execution_count": 6,
   "outputs": [
    {
     "name": "stdout",
     "output_type": "stream",
     "text": [
      "3.141592653589794\n",
      "\n",
      "##############\n",
      "Ramanujan Wins\n",
      "##############\n",
      "\n",
      "Values of π\n",
      "\n",
      "Math library:\n",
      "3.141592653589793\n",
      "Numpy Library:\n",
      "3.141592653589793\n",
      "\n",
      "Number of terms used = 2\n",
      "π Aprox. by Leibniz-Gregory series =\n",
      "2.666666666666667\n",
      "π Aprox. by Ramanujan series =\n",
      "3.141592653589794\n"
     ]
    }
   ],
   "source": [
    "def pi_aprox_compare(max_iter = 1000):\n",
    "\n",
    "    j = 1 #empézamos dsde 1 termino por obvias razones\n",
    "    pi_flag = False\n",
    "    #DEfino margen a tener en cuenta\n",
    "    delta_pi = 0.000000000000001\n",
    "    pi_plus = np.pi + delta_pi\n",
    "    pi_minus = np.pi - delta_pi\n",
    "\n",
    "    while (j < max_iter) and not pi_flag:\n",
    "        #Calculamos las dos aproximaciones con el mismo numero de terminos\n",
    "        #y las comparamos con el valor de pi en Numpy\n",
    "        R_aprox = ramanujan(j)\n",
    "        GL_aprox = greg_leib(j)\n",
    "        rama = float_compare(R_aprox,np.pi) or  float_compare(R_aprox,pi_plus) or float_compare(R_aprox,pi_minus)\n",
    "        greleib = float_compare(GL_aprox,np.pi) or float_compare(GL_aprox,pi_plus) or float_compare(GL_aprox,pi_minus)\n",
    "\n",
    "        #Chequeamos si estamos en el margen y que aprox llegó primero\n",
    "        if rama or greleib:\n",
    "            if rama:\n",
    "                print(\"\\n##############\\nRamanujan Wins\\n##############\\n\")\n",
    "            elif greleib:\n",
    "                print(\"\\n##############\\nGregory-Leibniz Wins\\n##############\\n\")\n",
    "\n",
    "            #Mostramos en pantalla las dos aproximaciones\n",
    "            print(f\"Values of \\u03C0\\n\\nMath library:\\n{m.pi}\\nNumpy Library:\\n{np.pi}\\n\")\n",
    "            print(f\"Number of terms used = {j}\")\n",
    "            print(f\"\\u03C0 Aprox. by Leibniz-Gregory series =\\n{greg_leib(j)}\")\n",
    "            print(f\"\\u03C0 Aprox. by Ramanujan series =\\n{ramanujan(j)}\")\n",
    "\n",
    "            pi_flag = True\n",
    "        j += 1\n",
    "\n",
    "    #En caso de no obtener una aprox suficiente\n",
    "    if pi_flag == False:\n",
    "        print(\"Maximum number of iterations reached, try again with more\")\n",
    "\n",
    "print(ramanujan(2))\n",
    "pi_aprox_compare(100)\n"
   ],
   "metadata": {
    "collapsed": false,
    "pycharm": {
     "name": "#%%\n"
    }
   }
  },
  {
   "cell_type": "markdown",
   "metadata": {
    "pycharm": {
     "name": "#%% md\n"
    }
   },
   "source": [
    "## Ejercicio S2\n",
    "\n",
    "Implementar una función que calcule el número de Bernouilli utilizando la fórmula implementada por Ada Lovelace en el primer algoritmo de computadora en la famosa [Nota G](https://projectlovelace.net/problems/ada-lovelaces-note-g/) incluída en el documento sobre la Máquina Analítica de Charles Babbage de 1843."
   ]
  },
  {
   "cell_type": "code",
   "execution_count": 7,
   "metadata": {
    "pycharm": {
     "name": "#%%\n"
    }
   },
   "outputs": [
    {
     "name": "stdout",
     "output_type": "stream",
     "text": [
      "Lista de números de Bernoulli:\n",
      "B_0 = 1\n",
      "B_1 = -0.5\n",
      "B_2 = 0.16666666666666669\n",
      "B_3 = 0\n",
      "B_4 = -0.03333333333333338\n",
      "B_5 = 0\n",
      "B_6 = 0.023809523809524058\n",
      "B_7 = 0\n",
      "B_8 = -0.033333333333335075\n",
      "B_9 = 0\n",
      "B_10 = 0.07575757575759257\n",
      "B_11 = 0\n",
      "B_12 = -0.2531135531137805\n",
      "B_13 = 0\n",
      "B_14 = 1.1666666666708663\n"
     ]
    }
   ],
   "source": [
    "def bernoulli_ada(n):\n",
    "    #Variables para calcular la suma total\n",
    "    sum = 0\n",
    "    k = 0\n",
    "\n",
    "    #Caso n = 0\n",
    "    if n == 0:\n",
    "        return 1\n",
    "    #si es mayot a uno usamos el metodo recursivo de Ada\n",
    "    else:\n",
    "        n_fact = factorial(n) #arme esta variable auxiliar así no lo calcula en cada ciclo\n",
    "        while k <= (n - 1):\n",
    "            sum += (n_fact / (factorial(n + 1 - k) * factorial(k))) * bernoulli_ada(k)\n",
    "            k += 1\n",
    "        #Chequeamos que los valores de salida que sean 0 SEAN 0\n",
    "        #no estaría funcionando con esto\n",
    "        tolerance = 1e-10 #Tolerancia para determinar 0 de\n",
    "        if np.fabs(sum) < tolerance:\n",
    "            return 0\n",
    "\n",
    "        return  -sum\n",
    "        #Me falta que devuelva los numeros de forma racional\n",
    "\n",
    "\n",
    "#Testeamos la función\n",
    "i = 0\n",
    "max_n = 15\n",
    "print(\"Lista de números de Bernoulli:\")\n",
    "\n",
    "while i < max_n:\n",
    "    print(f\"B_{i} = {bernoulli_ada(i)}\")\n",
    "    i +=1"
   ]
  },
  {
   "cell_type": "markdown",
   "metadata": {
    "pycharm": {
     "name": "#%% md\n"
    }
   },
   "source": [
    "## Ejercicio S3\n",
    "\n",
    "Extender la implementación de la regla del punto medio para calcular integrales dobles sobre regiones rectangulares en $\\mathbb{R}^2$."
   ]
  },
  {
   "cell_type": "code",
   "execution_count": 8,
   "metadata": {
    "pycharm": {
     "name": "#%%\n"
    }
   },
   "outputs": [
    {
     "name": "stdout",
     "output_type": "stream",
     "text": [
      "Integrando g(x) = sqrt(x^2 + y^2) Para 0 < x < 2 e 0 < y < 2 \n",
      "-Con mp.dinteg:\n",
      " 6.1215651442650225\n",
      "-Con scipy.integrate.dblquad:\n",
      " (6.12156573171229, 2.793995094755476e-08)\n"
     ]
    }
   ],
   "source": [
    "def g(y,x):\n",
    "\n",
    "    return np.sqrt(np.power(x,2) + np.power(y,2))\n",
    "\n",
    "\n",
    "def mp_dinteg(f,xmin,xmax,ymin,ymax,n_interv):\n",
    "\n",
    "    #definimos tamaños intervalos y variables auxiliares\n",
    "    hx = (xmax - xmin) / n_interv\n",
    "    hy = (ymax - ymin) / n_interv\n",
    "    i = 0 # contador de intervalos rewcorridos en x\n",
    "    j = 0 #     \"    \"    \"            \"        \" y\n",
    "    sum = 0 # variable con la suma final\n",
    "    x_under = xmin\n",
    "    y_under = ymin\n",
    "\n",
    "    while i < n_interv :\n",
    "        #Calculamos el punto medio en y\n",
    "        y_middle_point = (hy / 2) + y_under\n",
    "\n",
    "        while j < n_interv:\n",
    "\n",
    "            #calculo el punto medio en x\n",
    "            x_middle_point = (hx / 2) + x_under\n",
    "            #calculo el valor del volumen(area por valor de función) para ese intervalo\n",
    "            sum += g(x_middle_point,y_middle_point) * hx * hy\n",
    "            #nos movemos al siguiente intervalo en x\n",
    "            x_under += hx\n",
    "            j += 1\n",
    "        i += 1\n",
    "        j = 0 # reiniciamos el valor de j\n",
    "        x_under = xmin #Reiniciamos el valor minimo de x_under\n",
    "        y_under += hy #NOs movemos al siguiente intervalo en y\n",
    "\n",
    "    return sum\n",
    "\n",
    "#comparamos con scipy.integrate\n",
    "print(\"Integrando g(x) = sqrt(x^2 + y^2) Para 0 < x < 2 e 0 < y < 2 \\n-Con mp.dinteg:\\n\",mp_dinteg(g,0,2,0,2,1000))\n",
    "print(\"-Con scipy.integrate.dblquad:\\n\",integrate.dblquad(g,0,2,0,2))"
   ]
  },
  {
   "cell_type": "markdown",
   "metadata": {
    "pycharm": {
     "name": "#%% md\n"
    }
   },
   "source": [
    "## Ejercicio S4\n",
    "\n",
    "Extender la implementación de la regla del punto medio para calcular integrales sobre un camino circular cerrado de radio, sentido y centro determinado en $\\mathbb{C}$. Probar para el caso  \n",
    "\n",
    "$ \\oint_C \\frac{1}{z}dz =  2 \\pi i  $\n",
    "\n",
    "con un par de caminos circulares cambiando radio, origen y sentido."
   ]
  },
  {
   "cell_type": "code",
   "execution_count": 9,
   "metadata": {
    "lines_to_next_cell": 3,
    "pycharm": {
     "name": "#%%\n"
    }
   },
   "outputs": [
    {
     "name": "stdout",
     "output_type": "stream",
     "text": [
      "Integrando con radio=1,sentido=1 y origen=0j\n",
      "Integrando 1/z sobre un circulo unitario en C, en sentido horario:\n",
      " (1.0408340855860843e-17-6.283185307179473j) \n",
      "\n",
      "Integrando con radio=1,sentido=0 y origen=0j\n",
      "Integrando 1/z sobre un circulo unitario en C, en sentido anti-horario:\n",
      " (1.0408340855860843e-17+6.283185307179473j) \n",
      "\n",
      "Integrando con radio=4,sentido=1 y origen=0j\n",
      "Integrando 1/z sobre un circulo unitario en C, en sentido horario de radio 4:\n",
      " (9.974659986866641e-18-6.283185307179473j) \n",
      "\n",
      "Integrando con radio=4,sentido=1 y origen=(2+2j)\n",
      "Integrando 1/z sobre un circulo unitario en C, en sentido horario de radio 4:\n",
      " (-5.838125122226145e-14+8.782904958870574e-15j) \n",
      "\n"
     ]
    }
   ],
   "source": [
    "def t(z):\n",
    "    #DEf función a integrar\n",
    "    denom = np.power(z.real,2) + np.power(z.imag,2)\n",
    "    funcion = (z.real / denom) - (z.imag * 1j) / denom\n",
    "    return funcion\n",
    "\n",
    "def d_arc(u,rad,du):\n",
    "    #función auxiliar para calcular el elemento de arco\n",
    "    return rad * (np.sin(u) - 1j * np.cos(u)) * du\n",
    "\n",
    "def mp_ccinteg(f,n_interv,radio=1,origen=0+0j,sentido=1):\n",
    "\n",
    "    print(f\"Integrando con radio={radio},sentido={sentido} y origen={origen}\")\n",
    "    #definimos tamaños intervalos y variables auxiliares\n",
    "    #definimos parametros de recorrido\n",
    "    #radio #origen\n",
    "    #sentido = 1 #1 is clockwise, 0 counter-clockwise\n",
    "    ancho_angular = 2 * np.pi  #Ancho angular a recorrer constante pues circulo\n",
    "    h_theta = ancho_angular / n_interv # intervalo angular\n",
    "    theta_under = origen #Angulo de inicio\n",
    "    i = 0 # contador de intervalos rewcorridos\n",
    "    sum = 0 # variable con la suma final\n",
    "\n",
    "    if sentido == 0 :\n",
    "        h_theta = -h_theta\n",
    "\n",
    "    while i < n_interv :\n",
    "        #calculo el punto medio\n",
    "        middle_theta = (h_theta / 2) + theta_under\n",
    "        middle_point = origen + (radio * (np.cos(middle_theta) + np.sin(middle_theta) * 1j))\n",
    "        #calculo el valor del area para ese intervalo\n",
    "        sum += f(middle_point) * d_arc(middle_theta,radio,h_theta)\n",
    "        #nos movemos al siguiente intervalo\n",
    "        theta_under += h_theta\n",
    "        i += 1\n",
    "\n",
    "    return sum\n",
    "\n",
    "#comparamos con scipy.integrate\n",
    "print(\"Integrando 1/z sobre un circulo unitario en C, en sentido horario:\\n\",mp_ccinteg(t,1000,radio = 1,sentido = 1),\"\\n\")\n",
    "print(\"Integrando 1/z sobre un circulo unitario en C, en sentido anti-horario:\\n\",mp_ccinteg(t,1000,radio = 1,sentido = 0),\"\\n\")\n",
    "print(\"Integrando 1/z sobre un circulo unitario en C, en sentido horario de radio 4:\\n\",mp_ccinteg(t,1000,radio = 4,sentido = 1),\"\\n\")\n",
    "print(\"Integrando 1/z sobre un circulo unitario en C, en sentido horario de radio 4:\\n\",mp_ccinteg(t,1000,radio = 4,origen = 2 + 2j, sentido = 1),\"\\n\")\n",
    "\n"
   ]
  }
 ],
 "metadata": {
  "jupytext": {
   "encoding": "# -*- coding: utf-8 -*-",
   "formats": "ipynb,py:percent"
  },
  "kernelspec": {
   "name": "python3",
   "language": "python",
   "display_name": "Python 3"
  },
  "language_info": {
   "codemirror_mode": {
    "name": "ipython",
    "version": 3
   },
   "file_extension": ".py",
   "mimetype": "text/x-python",
   "name": "python",
   "nbconvert_exporter": "python",
   "pygments_lexer": "ipython3",
   "version": "3.8.3"
  }
 },
 "nbformat": 4,
 "nbformat_minor": 4
}