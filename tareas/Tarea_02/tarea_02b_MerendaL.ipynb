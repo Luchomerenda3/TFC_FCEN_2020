{
  "nbformat": 4,
  "nbformat_minor": 0,
  "metadata": {
    "kernelspec": {
      "display_name": "Python 3",
      "language": "python",
      "name": "python3"
    },
    "language_info": {
      "codemirror_mode": {
        "name": "ipython",
        "version": 3
      },
      "file_extension": ".py",
      "mimetype": "text/x-python",
      "name": "python",
      "nbconvert_exporter": "python",
      "pygments_lexer": "ipython3",
      "version": "3.7.8"
    },
    "colab": {
      "name": "tarea_02b_MerendaL.ipynb",
      "provenance": [],
      "collapsed_sections": []
    }
  },
  "cells": [
    {
      "cell_type": "markdown",
      "metadata": {
        "id": "9bgN3SHgKkpr",
        "colab_type": "text"
      },
      "source": [
        "# Tarea 02b\n",
        "\n",
        "Utilizamos Python como calculadora. Para hacer la cosa más interesante los ejercicios de este *Notebook* deben ser resueltos utilizando **únicamente** los operadores aritméticos `+ - / * ** %` y `//` operando entre literales y/o las funciones de la librería estándard (."
      ]
    },
    {
      "cell_type": "markdown",
      "metadata": {
        "id": "VgCRfADPKkpv",
        "colab_type": "text"
      },
      "source": [
        "## Ejercicio 1\n",
        "\n",
        "Calcular el módulo de la aceleración que sufre el electrón en el estado fundamental del átomo de hidrógeno. Expresar el resultado en unidades SI.\n",
        "\n",
        "Vuelta de tuerca: Estimar el error en la aceleración calculada utilizando un modelo de propagación lineal de errores y asumiendo que los errores en las cantidades necesarias para el cálculo no están correlacionados.\n",
        "\n",
        "Utilizar los valores de las constantes físicas de [aquí](https://physics.nist.gov/cuu/Constants/index.html), hay info útil [aquí](https://arxiv.org/pdf/1610.08716.pdf) y [aquí](https://xkcd.com/2110/)."
      ]
    },
    {
      "cell_type": "markdown",
      "metadata": {
        "id": "-Kc3QZyS8--m",
        "colab_type": "text"
      },
      "source": [
        "### Cálculo Modulo aceleración de un electrón en el estado fundamental del átomo de hidrógeno\n",
        "---\n",
        "1. Buscamos las constantes necesarias para el cálculo por un potencial Coulombiano de un protón y un electrón, donde la distancia corresponde al radio de bohr \n",
        "\n",
        ">Physical constants & standard uncertainty in parenthesis \n",
        ">\n",
        ">R_bohr $a_{0}$: 0.529 177 210 903(80)×10−10m    \n",
        ">Electon mass $m_{e}$: 9.109 383 7015(28) x 10-31 kg     \n",
        ">Elementary charge $e$: 1.602 176 634(0) x 10-19 C    \n",
        ">vacuum electric permittivity $\\varepsilon_0$:  8.854 187 8128(13) x 10-12 F m-1   \n",
        "> $\\pi$: 3.1415926536 (aprox al 10mo decimal)\n",
        "         3.141 592 653 589 793 238\n",
        "\n",
        "2. Por ley de Coulomb tenemos que el modulo de la fuerza entre 2 partículas con carga:\n",
        "\n",
        "> $$|\\overrightarrow{F}|= \\frac{1}{4\\pi \\epsilon_{0}} \\frac{|q_{e}||q_{p}|}{r^2} $$\n",
        "\n",
        "3. Y la aceleración por ley de newton es:\n",
        "\n",
        ">$$ a = |\\overrightarrow{a}| = \\frac{|\\overrightarrow{F}|}{m_{e}}$$\n",
        "\n",
        "4. Tenemos finalmente que la aceleración en función de las cargas y la distancia esta dada por:\n",
        "\n",
        ">$$a = |\\overrightarrow{a}| = \\frac{1}{4\\pi \\epsilon_{0}} \\frac{|q_{e}||q_{p}|}{r^2} \\frac{1}{m_{e}} $$"
      ]
    },
    {
      "cell_type": "code",
      "metadata": {
        "id": "wE-eu2kZKkpz",
        "colab_type": "code",
        "colab": {
          "base_uri": "https://localhost:8080/",
          "height": 34
        },
        "outputId": "ab649eee-cbec-4d72-e60e-f1fc4f0a71bc"
      },
      "source": [
        "pow(1.602_176_634e-19,2) / (4 * 3.1415926536 * 8.854_187_8128e-12 * pow(0.529_177_210_903e-10,2) * 9.109_383_7015e-31) \n"
      ],
      "execution_count": 15,
      "outputs": [
        {
          "output_type": "execute_result",
          "data": {
            "text/plain": [
              "9.04421612721529e+22"
            ]
          },
          "metadata": {
            "tags": []
          },
          "execution_count": 15
        }
      ]
    },
    {
      "cell_type": "markdown",
      "metadata": {
        "id": "sA7pYx-gVYTm",
        "colab_type": "text"
      },
      "source": [
        "Para la propagación de errores, asumiendo que las variables no están correlacionadas tenemos entonces que el error final estará dado por las variables que tenemos radio $r$, valores de las cargas $q_{e}$ y $q_{p}$, y de la masa del electrón $m_{e}$:\n",
        ">\n",
        ">$$\\sigma_{a} = \\sqrt{\\left( \\frac{\\partial a}{\\partial r} \\sigma_{r} \\right) ^2 + \\left( \\frac{\\partial a}{\\partial q_{e}} \\sigma_{q_{e}} \\right) ^2 + \\left( \\frac{\\partial a}{\\partial q_{p}} \\sigma_{q_{p}} \\right) ^2 + \\left( \\frac{\\partial a}{\\partial m_{e}} \\sigma_{m_{e}} \\right) ^2 + \\left( \\frac{\\partial a}{\\partial \\epsilon_{0}} \\sigma_{\\epsilon_{0}} \\right) ^2}$$\n",
        "\n",
        "Calculemos las derivadas parciales por separado para mantener el orden:\n",
        "\n",
        ">La incertidumbre en la carga es cero según la última redefiinición de las unidades SI, por lo tanto los terminos correspondiente a carga de protón y electrón se anulan, nos queda entonces \n",
        ">\n",
        ">$$\\frac{\\partial a}{\\partial r} =  -\\frac{|q_{e}||q_{p}|}{2 \\pi \\epsilon_{0} m_{e}} \\frac{1}{r^3} $$\n",
        ">\n",
        ">$$\\sigma_{r} = 0.00000000080 x 10^{-11} m $$\n",
        "\n",
        "Evaluamos ahora esta primera derivada respecto al radio o distancia entre las cargas:"
      ]
    },
    {
      "cell_type": "code",
      "metadata": {
        "colab_type": "code",
        "id": "b1WZaWuwTBLz",
        "colab": {
          "base_uri": "https://localhost:8080/",
          "height": 34
        },
        "outputId": "d8a09f8f-58b5-49b0-894a-feaea8b9959e"
      },
      "source": [
        "- pow(1.602_176_634e-19, 2) / (2 * 3.1415926536 * 8.854_187_8128e-12 * 9.109_383_7015e-31 * pow(0.529_177_210_903e-10, 3))\n"
      ],
      "execution_count": null,
      "outputs": [
        {
          "output_type": "execute_result",
          "data": {
            "text/plain": [
              "-3.418218298472088e+33"
            ]
          },
          "metadata": {
            "tags": []
          },
          "execution_count": 9
        }
      ]
    },
    {
      "cell_type": "markdown",
      "metadata": {
        "id": "apgli4PESRiz",
        "colab_type": "text"
      },
      "source": [
        "Seguimos con la derivada respecto a la masa del electrón:\n",
        ">$$\\frac{\\partial a}{\\partial m_{e}} = -\\frac{|q_{e}||q_{p}|}{4 \\pi \\epsilon_{0}r^{2}}  \\frac{1}{m_{e}^2} $$ \n",
        ">\n",
        ">$$\\sigma_{m_{e}} =  0 .000 000 0028 x 10^{-31} kg$$\n",
        "> "
      ]
    },
    {
      "cell_type": "code",
      "metadata": {
        "id": "RDIYkSLibd-x",
        "colab_type": "code",
        "colab": {
          "base_uri": "https://localhost:8080/",
          "height": 34
        },
        "outputId": "ddd189dd-322f-44d7-aa09-dfedc8724c35"
      },
      "source": [
        "- pow(1.602_176_634e-19, 2) / (4 * 3.1415926536 * 8.854_187_8128e-12 * pow(0.529_177_210_903e-10,2) * pow(9.109_383_7015e-31, 2))\n"
      ],
      "execution_count": null,
      "outputs": [
        {
          "output_type": "execute_result",
          "data": {
            "text/plain": [
              "-9.928461050253068e+52"
            ]
          },
          "metadata": {
            "tags": []
          },
          "execution_count": 7
        }
      ]
    },
    {
      "cell_type": "markdown",
      "metadata": {
        "id": "KkDuyicHbdXY",
        "colab_type": "text"
      },
      "source": [
        "Finalmente la derivada respecto a la permitividad eléctrica: \n",
        "\n",
        ">$$\\frac{\\partial a}{\\partial m_{e}} = -\\frac{|q_{e}||q_{p}|}{4 \\pi r^{2} m_{e}}  \\frac{1}{\\epsilon_{0}^2} $$ \n",
        ">\n",
        ">$$\\sigma_{epsilon_{0}} =   0.0000000013 x 10^{-12} F/m$$\n",
        ">"
      ]
    },
    {
      "cell_type": "code",
      "metadata": {
        "id": "S27hIo94lzYm",
        "colab_type": "code",
        "colab": {
          "base_uri": "https://localhost:8080/",
          "height": 34
        },
        "outputId": "80d67204-fa08-4418-a8ba-b662675c317d"
      },
      "source": [
        "- pow(1.602_176_634e-19, 2) / (4 * 3.1415926536 * pow(0.529_177_210_903e-10,2) * 9.109_383_7015e-31 * pow(8.854_187_8128e-12, 2))\n"
      ],
      "execution_count": null,
      "outputs": [
        {
          "output_type": "execute_result",
          "data": {
            "text/plain": [
              "-1.0214619701358238e+34"
            ]
          },
          "metadata": {
            "tags": []
          },
          "execution_count": 10
        }
      ]
    },
    {
      "cell_type": "markdown",
      "metadata": {
        "id": "x2zE3w4YlzCi",
        "colab_type": "text"
      },
      "source": [
        "Finalmente el error en la aceleración será:\n",
        "\n",
        ">\n",
        ">$$\\sigma_{a} = \\sqrt{\\left( \\frac{\\partial a}{\\partial r} \\sigma_{r} \\right) ^2 + \\left( \\frac{\\partial a}{\\partial m_{e}} \\sigma_{m_{e}} \\right) ^2 + \\left( \\frac{\\partial a}{\\partial \\epsilon_{0}} \\sigma_{\\epsilon_{0}} \\right) ^2}$$\n",
        ">\n",
        "Reemplazando valores obtenemos el valor final:"
      ]
    },
    {
      "cell_type": "code",
      "metadata": {
        "id": "ui6GCg_Hu0Ro",
        "colab_type": "code",
        "colab": {
          "base_uri": "https://localhost:8080/",
          "height": 34
        },
        "outputId": "855ccd42-72c7-41df-ff1e-08af84c099d4"
      },
      "source": [
        "pow(pow(-3.418218298472088e+33 * 0.00000000080e-11,2) + pow(-9.928461050253068e+52 * 0.0000000028e-31,2) + pow(-1.0214619701358238e+34 * 0.0000000013e-12,2),1/2) "
      ],
      "execution_count": null,
      "outputs": [
        {
          "output_type": "execute_result",
          "data": {
            "text/plain": [
              "41193988055793.086"
            ]
          },
          "metadata": {
            "tags": []
          },
          "execution_count": 12
        }
      ]
    },
    {
      "cell_type": "markdown",
      "metadata": {
        "id": "boscWJQ0Iv4i",
        "colab_type": "text"
      },
      "source": [
        "Tenemos entonces que el valor final de la aceleración es:\n",
        "\n",
        "$$a = 9.04421612721529 \\ \\pm 0.0000000041194 \\ \\small x \\normalsize \\ 10^{22} \\ m/s^{2}$$\n"
      ]
    },
    {
      "cell_type": "markdown",
      "metadata": {
        "id": "ifeVsvJzKkqF",
        "colab_type": "text"
      },
      "source": [
        "## Ejercicio 2\n",
        "\n",
        "Calcular una aproximación para el Número de Euler ($e$). Hay una buena lista de formas para hacerlo en [Wikipedia](https://en.wikipedia.org/wiki/E_(mathematical_constant))."
      ]
    },
    {
      "cell_type": "markdown",
      "metadata": {
        "id": "p5inkmeYUjS2",
        "colab_type": "text"
      },
      "source": [
        "### Cálculo aproximado del número de Euler($e$)\n",
        "---\n",
        "\n",
        "La manera más fácil y rápida de calcular el número de Euler es mediante su representación como serie infinita:\n",
        "\n",
        ">$$ e =\\sum^{\\infty}_{n=0} \\frac{1}{n!} = \\frac{1}{1} +\\frac{1}{1} +\\frac{1}{1 \\cdot 2}+\\frac{1}{1 \\cdot 2 \\cdot 3} + \\frac{1}{1 \\cdot 2 \\cdot 3 \\cdot 4} + \\frac{1}{1 \\cdot 2 \\cdot 3 \\cdot 4 \\cdot 5} + \\cdots $$\n",
        "\n",
        "Podemos tomar tantos terminos como tan buena queremos nuestra aproximación, hasta 50 decimales   \n",
        "e = 2.71828182845904523536028747135266249775724709369995... \n",
        "\n",
        "A continuación tomamos los 10 primeros términos (desde n=0 hasta n=9) y nos da:"
      ]
    },
    {
      "cell_type": "code",
      "metadata": {
        "id": "RdVMHncvKkqJ",
        "colab_type": "code",
        "colab": {
          "base_uri": "https://localhost:8080/",
          "height": 35
        },
        "outputId": "5ba00560-300c-4e8f-f0e3-8f9ae1d95365"
      },
      "source": [
        "(1 / 1) + (1 / 1) + (1 / (1 * 2)) + (1 / (1 * 2 * 3)) + (1 / (1 * 2 * 3 * 4)) + (1 / (1 * 2 * 3 * 4 * 5)) + (1 / (1 * 2 * 3 * 4 * 5 * 6)) + (1 / (1 * 2 * 3 * 4 * 5 * 6 * 7)) + (1 / (1 * 2 * 3 * 4 * 5 * 6 * 7 * 8)) + (1 / (1 * 2 * 3 * 4 * 5 * 6 * 7 * 8 * 9\n",
        "                                                                                                                                                                                                                             ))"
      ],
      "execution_count": null,
      "outputs": [
        {
          "output_type": "execute_result",
          "data": {
            "text/plain": [
              "2.7182815255731922"
            ]
          },
          "metadata": {
            "tags": []
          },
          "execution_count": 6
        }
      ]
    },
    {
      "cell_type": "markdown",
      "metadata": {
        "id": "I25BqQD3KkqU",
        "colab_type": "text"
      },
      "source": [
        "## Ejercicio 3\n",
        "\n",
        "Utilizando el resultado anterior calcular valores aproximados para $\\cos(1/2)$ y $\\sin(1/3)$. Estimar los errores para cada valor."
      ]
    },
    {
      "cell_type": "markdown",
      "metadata": {
        "id": "Mzx8zpEtefd0",
        "colab_type": "text"
      },
      "source": [
        "##Cálculo de cos(1/2) y sin (1/3)\n",
        "--\n",
        "Podemos representar tanto el seno como el coseno de un valor en base a la suma o resta de exponenciales complejas de la siguiente manera:\n",
        ">$$sen(x)= \\frac{e^{ix} - e^{-ix}}{2i}$$\n",
        ">\n",
        ">$$cos(x)= \\frac{e^{ix} + e^{-ix}}{2}$$\n",
        "\n",
        "Podemos calcular tanto el sen como el cos utilizando el valor de e calculado en el ejercicio anterior y como el resultado será un valor x de tipo \"complex\"  con x.real podemos extraer el valor buscado.\n",
        "\n",
        "Entonces para el calculo de sen(1/3) tenemos:\n"
      ]
    },
    {
      "cell_type": "code",
      "metadata": {
        "id": "8ECwsqoGKkqW",
        "colab_type": "code",
        "colab": {
          "base_uri": "https://localhost:8080/",
          "height": 35
        },
        "outputId": "e2302d0e-d9d4-41e8-931c-1e11f70a3cf1"
      },
      "source": [
        "(((2.7182815255731922 ** (1j * (1 / 3))) - (2.7182815255731922 ** (-1j * (1 / 3)))) / (2 * 1j)).real"
      ],
      "execution_count": null,
      "outputs": [
        {
          "output_type": "execute_result",
          "data": {
            "text/plain": [
              "0.32719466169872347"
            ]
          },
          "metadata": {
            "tags": []
          },
          "execution_count": 15
        }
      ]
    },
    {
      "cell_type": "markdown",
      "metadata": {
        "id": "gHoJHN7Oq0Uz",
        "colab_type": "text"
      },
      "source": [
        "Y para el cos(1/2):\n"
      ]
    },
    {
      "cell_type": "code",
      "metadata": {
        "id": "T-LTfFhuq4SE",
        "colab_type": "code",
        "colab": {
          "base_uri": "https://localhost:8080/",
          "height": 35
        },
        "outputId": "e067b61e-ecc6-4fcc-b305-22b6b4723a1b"
      },
      "source": [
        "(((2.7182815255731922 ** (1j * (1 / 2))) + (2.7182815255731922 ** (-1j * (1 / 2)))) / 2).real"
      ],
      "execution_count": null,
      "outputs": [
        {
          "output_type": "execute_result",
          "data": {
            "text/plain": [
              "0.8775825886004828"
            ]
          },
          "metadata": {
            "tags": []
          },
          "execution_count": 14
        }
      ]
    },
    {
      "cell_type": "markdown",
      "metadata": {
        "id": "E08uKektKkqe",
        "colab_type": "text"
      },
      "source": [
        "## Ejercicio 4\n",
        "\n",
        "Y si queremos $\\tan(\\sqrt{2}/2)$?"
      ]
    },
    {
      "cell_type": "markdown",
      "metadata": {
        "id": "Roblbnw6sndv",
        "colab_type": "text"
      },
      "source": [
        "## Cálculo $tan(\\sqrt{2}/ 2)$\n",
        "---\n",
        "Para este cálculo podemos aprovechar la manera de operar de los ejercicios anteriores para calcular el $sen(\\sqrt{2}/ 2)$ y el $cos(\\sqrt{2}/ 2)$  y obtener el resultado final como el cociente de estos dos ya que por definición:\n",
        "\n",
        "> $$tan(\\sqrt{2}/ 2) = \\frac{sen(\\sqrt{2}/ 2)}{cos(\\sqrt{2}/ 2)}$$\n",
        "\n",
        "Tenemos entonces que :\n"
      ]
    },
    {
      "cell_type": "code",
      "metadata": {
        "id": "waTkAF0WKkqg",
        "colab_type": "code",
        "colab": {
          "base_uri": "https://localhost:8080/",
          "height": 35
        },
        "outputId": "719c5ddc-8b7f-47b9-ce7b-30906f2cc79e"
      },
      "source": [
        "((((2.7182815255731922 ** (1j * ( pow(2,1/2) / 2))) - (2.7182815255731922 ** (-1j * ( pow(2,1/2) / 2|)))) / (2 * 1j)).real) / ((((2.7182815255731922 ** (1j * ( pow(2,1/2)/ 2))) + (2.7182815255731922 ** (-1j * ( pow(2,1/2) / 2)))) / 2).real  ) "
      ],
      "execution_count": null,
      "outputs": [
        {
          "output_type": "execute_result",
          "data": {
            "text/plain": [
              "0.8545102956885845"
            ]
          },
          "metadata": {
            "tags": []
          },
          "execution_count": 16
        }
      ]
    },
    {
      "cell_type": "markdown",
      "metadata": {
        "id": "2Wzt3BugKkqn",
        "colab_type": "text"
      },
      "source": [
        "Subir los ejercicios completos en formato `ipynb` a Google Classroom. Describiendo en celdas de *Markdown* cada paso de los cálculos, sin demasiada exigencia, sólo para que el que lee pueda entender de qué se trata lo que el código hace."
      ]
    }
  ]
}