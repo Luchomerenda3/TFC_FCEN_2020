{
 "nbformat": 4,
 "nbformat_minor": 0,
 "metadata": {
  "kernelspec": {
   "display_name": "Python 3",
   "language": "python",
   "name": "python3"
  },
  "language_info": {
   "codemirror_mode": {
    "name": "ipython",
    "version": 3
   },
   "file_extension": ".py",
   "mimetype": "text/x-python",
   "name": "python",
   "nbconvert_exporter": "python",
   "pygments_lexer": "ipython3",
   "version": "3.7.8"
  },
  "colab": {
   "name": "tarea_02a_MerendaL.ipynb",
   "provenance": [],
   "collapsed_sections": []
  }
 },
 "cells": [
  {
   "cell_type": "markdown",
   "metadata": {
    "id": "KZYcMJr2Kkgo",
    "colab_type": "text"
   },
   "source": [
    "# Tarea 02a\n",
    "\n",
    "Ejercitando la construcción de literales."
   ]
  },
  {
   "cell_type": "markdown",
   "metadata": {
    "id": "jQepO0wMKkgt",
    "colab_type": "text"
   },
   "source": [
    "## Ejercicio 1\n",
    "\n",
    "Buscar el valor del radio de Bohr y crear un literal de punto flotante de su valor em unidades SI con todas las cifras significativas que se pueda"
   ]
  },
  {
   "cell_type": "markdown",
   "metadata": {
    "id": "8_bUTqp0YJTB",
    "colab_type": "text"
   },
   "source": [
    "###Radio de Bohr    \n",
    "---\n",
    "$a_{0} = 0.529 177 210 903 \\small \\ x \\ 10^{10} \\ m$    \n",
    "$\\sigma_{a_{0}} =  0.000 000 000 080 \\small \\ x \\ 10^{10} \\ m$  \n",
    "  \n",
    "[Fuente](https://pdg.lbl.gov/2019/reviews/rpp2019-rev-phys-constants.pdf)"
   ]
  },
  {
   "cell_type": "code",
   "metadata": {
    "id": "mrheAhiCKkg0",
    "colab_type": "code",
    "colab": {
     "base_uri": "https://localhost:8080/",
     "height": 36
    },
    "outputId": "ee580599-1620-4a5e-c980-7e43f4f3d009"
   },
   "source": [
    "\n",
    "\n",
    "0.529_177_210_903e-10\n",
    "\n"
   ],
   "execution_count": null,
   "outputs": [
    {
     "output_type": "execute_result",
     "data": {
      "text/plain": [
       "5.29177210903e-11"
      ]
     },
     "metadata": {
      "tags": []
     },
     "execution_count": 2
    }
   ]
  },
  {
   "cell_type": "markdown",
   "metadata": {
    "id": "zlr57gusKkhQ",
    "colab_type": "text"
   },
   "source": [
    "\n",
    "## Ejercicio 2\n",
    "\n",
    "Encontrar la expresión binaria del número de habitantes de la República Argentina de acuerdo al último dato del INDEC."
   ]
  },
  {
   "cell_type": "markdown",
   "metadata": {
    "id": "hsqnl33kZpN8",
    "colab_type": "text"
   },
   "source": [
    "### Datos de INDEC\n",
    "\n",
    "- Población Argentina : 40.117.096 (censo 2010)   \n",
    "- Población Argentina : 45.376.763 (Proyección al 1 de julio de 2020)   \n",
    "\n",
    "Ultimo dato (Medición real) ---> censo 2010\n",
    "\n",
    "[Proyecciones](https://www.indec.gob.ar/indec/web/Nivel4-Tema-2-24-84)  \n",
    "[Censo 2010](https://www.indec.gob.ar/indec/web/Nivel4-Tema-2-41-135) "
   ]
  },
  {
   "cell_type": "code",
   "metadata": {
    "id": "7woyV8qxKkhU",
    "colab_type": "code",
    "colab": {
     "base_uri": "https://localhost:8080/",
     "height": 36
    },
    "outputId": "af1ba386-e9ff-4837-9aa3-9ce83509eb17"
   },
   "source": [
    "bin(40_117_096)"
   ],
   "execution_count": null,
   "outputs": [
    {
     "output_type": "execute_result",
     "data": {
      "application/vnd.google.colaboratory.intrinsic+json": {
       "type": "string"
      },
      "text/plain": [
       "'0b10011001000010001101101000'"
      ]
     },
     "metadata": {
      "tags": []
     },
     "execution_count": 1
    }
   ]
  },
  {
   "cell_type": "markdown",
   "metadata": {
    "id": "oONSzhaxKkhe",
    "colab_type": "text"
   },
   "source": [
    "## Ejercicio 3\n",
    "\n",
    "Escribir un número complejo de su agrado"
   ]
  },
  {
   "cell_type": "code",
   "metadata": {
    "id": "t_5TUaoHKkhg",
    "colab_type": "code",
    "colab": {
     "base_uri": "https://localhost:8080/",
     "height": 35
    },
    "outputId": "a529b30b-4783-47f3-c9b8-80b350205a3f"
   },
   "source": [
    "2.7182  ** (1 + 1j)"
   ],
   "execution_count": null,
   "outputs": [
    {
     "output_type": "execute_result",
     "data": {
      "text/plain": [
       "(1.4687185823829256+2.2872422184287977j)"
      ]
     },
     "metadata": {
      "tags": []
     },
     "execution_count": 8
    }
   ]
  },
  {
   "cell_type": "markdown",
   "metadata": {
    "id": "qz90AIcrKkhm",
    "colab_type": "text"
   },
   "source": [
    "## Ejercicio 4\n",
    "\n",
    "Cree una cadena de caracteres multilínea con un texto (corto) que le guste"
   ]
  },
  {
   "cell_type": "markdown",
   "metadata": {
    "id": "599J5pRAadL8",
    "colab_type": "text"
   },
   "source": [
    "###Fragmento de El señor de los Anillos : Las Dos Torres\n",
    "---"
   ]
  },
  {
   "cell_type": "code",
   "metadata": {
    "id": "kUBnbGojKkho",
    "colab_type": "code",
    "colab": {
     "base_uri": "https://localhost:8080/",
     "height": 70
    },
    "outputId": "d7e43520-cd36-4c01-fef3-2b74799f9386"
   },
   "source": [
    "\"\"\"...Me gustaría saber en qué clase de historia habremos caído.\n",
    "-A mí también -dijo Frodo-. Pero no lo sé. Y así son las historias de la vida real.\n",
    "Piensa en alguna de las que más te gustan. Tú puedes saber, o adivinar, qué clase de historia es, si tendrá un final feliz o un final triste, pero los protagonistas no saben absolutamente nada. Y tú no querrías que lo supieran....\"\"\""
   ],
   "execution_count": 1,
   "outputs": [
    {
     "output_type": "execute_result",
     "data": {
      "application/vnd.google.colaboratory.intrinsic+json": {
       "type": "string"
      },
      "text/plain": [
       "'...Me gustaría saber en qué clase de historia habremos caído.\\n-A mí también -dijo Frodo-. Pero no lo sé. Y así son las historias de la vida real.\\nPiensa en alguna de las que más te gustan. Tú puedes saber, o adivinar, qué clase de historia es, si tendrá un final feliz o un final triste, pero los protagonistas no saben absolutamente nada. Y tú no querrías que lo supieran....'"
      ]
     },
     "metadata": {
      "tags": []
     },
     "execution_count": 1
    }
   ]
  },
  {
   "cell_type": "markdown",
   "metadata": {
    "id": "XeAX5XIhKkhy",
    "colab_type": "text"
   },
   "source": [
    "## Ejercicio 5\n",
    "\n",
    "Escribir una cadena de caracteres que contenga la palabra `\"verdad\"` entre comillas (simples o dobles) y el carácter Unicode para la letra beta minúscula."
   ]
  },
  {
   "cell_type": "code",
   "metadata": {
    "id": "xKlG42fwKkh2",
    "colab_type": "code",
    "colab": {
     "base_uri": "https://localhost:8080/",
     "height": 35
    },
    "outputId": "aca61fa4-f77f-4e0b-95e6-e0e7a7cb0854"
   },
   "source": [
    "'¿Quieres la \"verdad\"? Tú no puedes manejar la \"verdad\"! :\\U0001D6FD'"
   ],
   "execution_count": 3,
   "outputs": [
    {
     "output_type": "execute_result",
     "data": {
      "application/vnd.google.colaboratory.intrinsic+json": {
       "type": "string"
      },
      "text/plain": [
       "\"No se me ocurre nada la 'verdad':𝛽\""
      ]
     },
     "metadata": {
      "tags": []
     },
     "execution_count": 3
    }
   ]
  },
  {
   "cell_type": "markdown",
   "metadata": {
    "id": "__6uQr-4KkiH",
    "colab_type": "text"
   },
   "source": [
    "Subir los ejercicios completos en formato `ipynb` a Google Classroom. Describiendo en celdas de *Markdown* cada paso de los cálculos, sin demasiada exigencia, sólo para que el que lee pueda entender de qué se trata lo que el código hace."
   ]
  }
 ]
}