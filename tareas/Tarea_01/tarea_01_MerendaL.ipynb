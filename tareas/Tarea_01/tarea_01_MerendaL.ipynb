{
  "nbformat": 4,
  "nbformat_minor": 0,
  "metadata": {
    "colab": {
      "name": "tarea_01_MerendaL.ipynb",
      "provenance": []
    },
    "kernelspec": {
      "name": "python3",
      "display_name": "Python 3"
    }
  },
  "cells": [
    {
      "cell_type": "markdown",
      "metadata": {
        "id": "BFdbXKIADPBH",
        "colab_type": "text"
      },
      "source": [
        "#    Fórmula integral de Cauchy\n",
        "---\n",
        "\n",
        "A partir del *Teorema de Cauchy-Goursat* es posible demostrar proposiciones como la siguiente:\n",
        "\n",
        ">Sea $f(z)$ una función analítica sobre $\\mathcal{C}$, siendo $C$ un cortorno >cerrado simple, y en el interior de $\\mathcal{C}$, Si se toma un punto >interior $z_{0}$  de $\\mathcal{C}$, se cumple que:\n",
        ">\n",
        "> $$\\oint_C\\frac{f(z)}{z-z_{0}}dz = 2\\pi if(z_{0}) $$\n",
        ">\n",
        "> que corresponde a la **fórmula integral de Cauchy**\n",
        "\n",
        "Extraído de [Wikipedia](https://es.wikipedia.org/wiki/Teorema_integral_de_Cauchy)\n"
      ]
    }
  ]
}