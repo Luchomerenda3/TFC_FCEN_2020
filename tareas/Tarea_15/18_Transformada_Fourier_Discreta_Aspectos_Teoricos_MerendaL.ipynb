{
 "cells": [
  {
   "cell_type": "markdown",
   "metadata": {},
   "source": [
    "# Transformada de Fourier Discreta y Transformada Rápida de Fourier\n",
    "\n",
    "<section class=\"post-meta\">\n",
    "Carlos Ruestes, Cristián Sanchez\n",
    "</section>\n",
    "Última edición: Noviembre de 2020\n",
    "___"
   ]
  },
  {
   "cell_type": "markdown",
   "metadata": {},
   "source": [
    "Este notebook presenta una introducción corta a la transformada de Fourier discreta (DFT) y a la transformada rápida de Fourier (FFT). Se utilizará el algoritmo radix-2 Cooley-Tukey FFT.\n",
    "\n",
    "Estos conceptos tiene una amplia variedad aplicaciones en diferentes áreas de la ciencia, tanto en física como en matemática, por ejemplo, procesamiento de señales, filtrado de sonido e imágenes, compresión de datos, ecuaciones diferenciales en derivadas parciales, etc."
   ]
  },
  {
   "cell_type": "code",
   "execution_count": 1,
   "metadata": {},
   "outputs": [],
   "source": [
    "import numpy as np\n",
    "from numpy import random as rnd\n",
    "import timeit\n",
    "from scipy import fftpack as fft"
   ]
  },
  {
   "cell_type": "markdown",
   "metadata": {},
   "source": [
    "## Transformada de Fourier Discreta (DFT)"
   ]
  },
  {
   "cell_type": "markdown",
   "metadata": {},
   "source": [
    "Sea $\\vec x = [x_0,x_1,...,x_{n-1}]$ un vector con $n$ elementos complejoss (o reales). La DFT de $\\vec x$ es el vector complejo $\\vec y = [y_0,y_1,...,y_{n-1}]$, donde los elementos estan definidos como \n",
    "$$y_k=\\sum_{j=0}^{n-1}x_j\\omega^{k\\cdot j},$$\n",
    "donde $\\omega = \\exp(-2\\pi i /n)$. "
   ]
  },
  {
   "cell_type": "code",
   "execution_count": 2,
   "metadata": {},
   "outputs": [],
   "source": [
    "def DFT(x):\n",
    "    \"\"\" Calcula la DFT unidimensional de un vector.\n",
    "    \n",
    "    :x: double arr. El vector a transformar.\n",
    "    :returns: double arr. Transformada de x.\n",
    "    \"\"\"\n",
    "    n = len(x)\n",
    "    y = [0]*n\n",
    "    omega = np.exp(-2.0j*np.pi/n)\n",
    "    for k in range(0,n):\n",
    "        y[k] = np.sum(x*omega**(np.arange(0,n)*k))\n",
    "    return y"
   ]
  },
  {
   "cell_type": "markdown",
   "metadata": {},
   "source": [
    "Es fácil darse cuenta que la DFT inversa esta dada por\n",
    "$$x_k = \\sum_{j=0}^{n-1} y_j\\omega^{k\\cdot j},$$\n",
    "donde $\\omega = \\exp(2\\pi i/n)$."
   ]
  },
  {
   "cell_type": "code",
   "execution_count": 3,
   "metadata": {},
   "outputs": [],
   "source": [
    "def inverseDFT(y):\n",
    "    \"\"\" Calcula la inversa de la DFT unidimsensional \n",
    "    de un vector.\n",
    "    \n",
    "    :y: double arr. El vector a transformar.\n",
    "    :returns: double arr. la inversa de la transformada de y.\n",
    "    \"\"\"\n",
    "    n = len(y)\n",
    "    x = [0]*n\n",
    "    omega = np.exp(2.0j*np.pi/n)\n",
    "    for k in range(0,n):\n",
    "        x[k] = np.sum(y*omega**(np.arange(0,n)*k))/float(n)\n",
    "    return x"
   ]
  },
  {
   "cell_type": "markdown",
   "metadata": {},
   "source": [
    "Tomemos un ejemplo sencillo donde transformamos y antitransformamos (inversa de la transformada) de un vector arbitrario."
   ]
  },
  {
   "cell_type": "code",
   "execution_count": 4,
   "metadata": {},
   "outputs": [
    {
     "name": "stdout",
     "output_type": "stream",
     "text": [
      "x = [7 1 5 1 6 1 6 3]\n",
      "y = [30.  +0.j    2.41+2.41j  2.  +2.j   -0.41+0.41j 18.  +0.j   -0.41-0.41j\n",
      "  2.  -2.j    2.41-2.41j]\n",
      "x = [7.-0.j 1.+0.j 5.+0.j 1.+0.j 6.+0.j 1.+0.j 6.+0.j 3.-0.j]\n"
     ]
    }
   ],
   "source": [
    "# Definimos un array a transformar.\n",
    "x = rnd.randint(8,size=8)\n",
    "print('x =', x)\n",
    "# Transformada de Fourier\n",
    "y = DFT(x)\n",
    "print('y =', np.round(y,2))\n",
    "# Inversa DFT \n",
    "x = inverseDFT(y)\n",
    "print('x =', np.round(x,2))"
   ]
  },
  {
   "cell_type": "markdown",
   "metadata": {},
   "source": [
    "Este algoritmo DFT es algo ineficiente. Hay muchos subcálculos que se realizan más de una vez y como consecuencia, el algoritmo escalea como $\\mathcal O(n^2)$. "
   ]
  },
  {
   "cell_type": "markdown",
   "metadata": {},
   "source": [
    "## Transformada rápida de Fourier (FFT)\n",
    "Los algoritmos de FFT explotan las simetrías y el hecho de que muchas operaciones son similares, obteniendo rendimientos mejorados. Comentaremos aquí el algoritmo de Cooley–Tukey [1].\n",
    "\n",
    "Asumimos que $N$ es compuesto. Es decir, que $N=n_1\\cdot n_2$, donde $N$, $n_1$ y $n_2$ son enteros. Reescribiendo los dos índices como \n",
    "$$k=n_2k_1+k_2,$$\n",
    "$$j = n_1j_2 + j_1,$$\n",
    "donde $k_{1,2} = 0,1,...,n_{1,2}-1$ y $j_{1,2} = 0,1,...,j_{1,2}-1$. Si insertamos estos nuevos índices en la DFT, algunos términos cruzados desaparecen, y el resultado final es \n",
    "$$y_{n_2k_1+k_2}=\\sum_{j_1=0}^{n_1-1}\\sum_{j_2=0}^{n_2-1}x_{n_1j_2+n_1}\\exp\\left[\\frac{-2\\pi i}{n_1n_2}(n_1j_2+j_1)(n_2k_1+k_2)\\right]$$\n",
    "$$=\\sum_{j_1=0}^{n_1-1}\\exp\\left[-\\frac{2\\pi i}{n}j_1k_2\\right]\\left(\\sum_{j_2=0}^{n_2-1}x_{n_1j_2+j_1}\\exp\\left[-\\frac{2\\pi i}{n_2}j_2k_2\\right]\\right)\\exp\\left[-\\frac{2\\pi i}{n_1}j_1k_1\\right].$$\n",
    "\n",
    "En esta ecuación, cada suma interna es una DFT de tamaño $n_2$ y cada suma externa is una DFT de tamaño $n_1$. Esto da una fórmula recursiva para computar la DFT, que se explica en mayor detalle en [3]. Por simplicidad, usaremos el algoritmo radix-2. Este algoritmo escalea como $\\mathcal O (n\\log n)$, lo que lo hace casi lineal para conjuntos de datos muy grandes."
   ]
  },
  {
   "cell_type": "code",
   "execution_count": 5,
   "metadata": {},
   "outputs": [],
   "source": [
    "def CooleyTukeyRadix2FFT(x):\n",
    "    \"\"\" Calcula la DFT unidim de un vector usando algoritmo radix-2 Cooley-Tukey \n",
    "    El vector a transformar debe tener una cantidad de elementos potencia de 2.\n",
    "    \n",
    "    :x: double arr. Vector a transformar\n",
    "    :returns: double arr. Transformada del vector\n",
    "    \"\"\"\n",
    "    # Verificar que n es pot de 2.\n",
    "    if ( len(x) & (len(x) - 1)):\n",
    "        raise Exception(\"El numero de elementos de x debe ser potencia de 2!\")\n",
    "    # Formula recursiva para la FFT.\n",
    "    def foo(x):\n",
    "        n = len(x)\n",
    "        if n == 1:\n",
    "            y = x\n",
    "        else:\n",
    "            y2 = foo(x[0:n:2])\n",
    "            y1 = foo(x[1:n + 1:2])\n",
    "            d = np.exp(-2j*np.pi/n)**np.arange(0,n/2)\n",
    "            y = np.append(y2 + d*y1,y2 - d*y1)\n",
    "        return y\n",
    "    return foo(x)\n",
    "\n",
    "def inverseCooleyTukeyRadix2FFT(y):\n",
    "    \"\"\" Calcula la antitransformada unidimens. de un vector usando\n",
    "    algoritmo radix-2 Cooley-Tukey FFT. El vector a transformar\n",
    "    debe tener elementos en cantidad potencia de 2.\n",
    "    Parametros:\n",
    "        x: double arr. El vector a transformar.\n",
    "    Returns:\n",
    "        y: double arr. transformada del vector.\n",
    "    \"\"\"\n",
    "    # Verificar que n es potencia de 2.\n",
    "    if (len(y) & (len(y) - 1)):\n",
    "        raise Exception(\"El numero de elementos de x debe ser potencia de 2!\")\n",
    "    # Formula recursiva para la FFT.\n",
    "    def foo(y):\n",
    "        n = len(y)\n",
    "        if n == 1:\n",
    "            x = y\n",
    "        else:\n",
    "            x2 = foo(y[0:n:2])\n",
    "            x1 = foo(y[1:n + 1:2])\n",
    "            d = np.exp(2j*np.pi/n)**np.arange(0,n/2)\n",
    "            x = np.append(x2 + d*x1,x2 - d*x1)\n",
    "        return x\n",
    "    return foo(y)/len(y)"
   ]
  },
  {
   "cell_type": "markdown",
   "metadata": {},
   "source": [
    "Veamos nuevamente un ejemplo sencillo"
   ]
  },
  {
   "cell_type": "code",
   "execution_count": 6,
   "metadata": {},
   "outputs": [
    {
     "name": "stdout",
     "output_type": "stream",
     "text": [
      "x = [0 6 8 9 1 4 2 3]\n",
      "y = [ 33.   +0.j    -3.83-11.66j  -9.   +2.j     1.83 +0.34j -11.   +0.j\n",
      "   1.83 -0.34j  -9.   -2.j    -3.83+11.66j]\n",
      "x = [0.+0.j 6.-0.j 8.+0.j 9.+0.j 1.+0.j 4.+0.j 2.-0.j 3.-0.j]\n"
     ]
    }
   ],
   "source": [
    "# Definimos el array a transformar.\n",
    "x = rnd.randint(10,size=8)\n",
    "print('x =', x)\n",
    "# Transformada de Fourier.\n",
    "y = CooleyTukeyRadix2FFT(x)\n",
    "print('y =', np.round(y,2))\n",
    "# Antitransformada. \n",
    "x = inverseCooleyTukeyRadix2FFT(y)\n",
    "print('x =', np.round(x,2))"
   ]
  },
  {
   "cell_type": "markdown",
   "metadata": {},
   "source": [
    "Para demostrar la superioridad de la FFT, calculemos la transformada de Fourier de un conjunto de datos grande, comparando además con el función fft de scipy.fftpack."
   ]
  },
  {
   "cell_type": "code",
   "execution_count": 7,
   "metadata": {},
   "outputs": [
    {
     "name": "stdout",
     "output_type": "stream",
     "text": [
      "204 µs ± 19.3 µs per loop (mean ± std. dev. of 7 runs, 10000 loops each)\n",
      "289 µs ± 43.5 µs per loop (mean ± std. dev. of 7 runs, 1000 loops each)\n",
      "8.13 µs ± 206 ns per loop (mean ± std. dev. of 7 runs, 100000 loops each)\n"
     ]
    }
   ],
   "source": [
    "x = rnd.rand(16)\n",
    "# Tomemos los tiempos de DFT, CooleyTukeyRadix2FFT y scipy.fftpack.fft.\n",
    "%timeit y = DFT(x)\n",
    "%timeit y = CooleyTukeyRadix2FFT(x)\n",
    "%timeit y = fft.fft(x)"
   ]
  },
  {
   "cell_type": "markdown",
   "metadata": {},
   "source": [
    "## Significado físico\n",
    "\n",
    "La DFT mapea una secuencia finita de datos equiespaciados de su dominio original a un dominio en frecuencia. En otras palabras, un conjunto de datos temporales discreto resulta transformado a un conjunto de frecuencias discreto.\n",
    "\n",
    "Para ilustrar esto, necesitamos entender el significado físico de la fórmula de DFT. Comenzamos reescribiendo la misma \n",
    "$$x_k=\\sum_{j=0}^{n-1}y_j\\exp\\left(2\\pi i\\frac{k}{n\\Delta t}j\\Delta t\\right).$$\n",
    "Lo que la expresión nos dice es simplemente que $\\vec x$ es una superposición de funciones exponenciales con diferences frecuencias $f_j = \\frac{j}{n\\Delta t}$ y amplitudes $y_j$. Por esta razón, podemos ver la magnitud de las amplitudes $|y_k|^2$ como una medida del \"peso de la frecuencia $f_j$\" en $\\vec x$!"
   ]
  },
  {
   "cell_type": "markdown",
   "metadata": {},
   "source": [
    "## DFT multidimensional\n",
    "Sea $\\vec j = (j_1,j_2,...,j_d)$ y $\\vec k = (k_1,k_2,...,k_d)$ vectores $d$-dimensionales con indices de $\\vec 0$ a $\\vec n-1 = (n_1-1,n_2,...,n_d-1)$. Luego, La DFT $d$-dimensional esta dada por\n",
    "$$y_\\vec{k}=\\sum_{\\vec j=\\vec 0}^{\\vec n-1}x_\\vec{j}\\exp\\left[-2\\pi\\vec k\\cdot\\vec \\xi\\right],$$\n",
    "donde $\\vec \\xi$ es la división elemento a elemento $(j_1/n_1,...,j_d/n_d)$ [3]. Por ejemplo, la DFT bidimensional esta dada por\n",
    "$$\\vec y_{k_1,k_2}=\\sum_{j_1=0}^{n_1-1}\\sum_{j_2=0}^{n_2-1}x_{j_1,j_2}\\exp\\left[-2\\pi i\\left(\\frac{ k_1j_1}{n_1}+\\frac{k_2j_2}{n_2}\\right)\\right].$$"
   ]
  },
  {
   "cell_type": "markdown",
   "metadata": {
    "collapsed": true
   },
   "source": [
    "Referencias:  \n",
    "[1] James W. Cooley and John W. Tukey: An Algorithm for the Machine Calculation of Complex Fourier Series, Math. Comp. 19 (1965), p. 297-301  \n",
    "[2] Wikipedia: https://en.wikipedia.org/wiki/Cooley%E2%80%93Tukey_FFT_algorithm,   \n",
    "[3] Wikipedia: https://en.wikipedia.org/wiki/Discrete_Fourier_transform,  \n",
    "\n",
    "Ref. FFT pack en SciPy:\n",
    "http://docs.scipy.org/doc/scipy/reference/fftpack.html  "
   ]
  },
  {
   "cell_type": "code",
   "execution_count": null,
   "metadata": {},
   "outputs": [],
   "source": []
  },
  {
   "cell_type": "code",
   "execution_count": null,
   "metadata": {},
   "outputs": [],
   "source": []
  }
 ],
 "metadata": {
  "jupytext": {
   "formats": "ipynb,py:percent"
  },
  "kernel_info": {
   "name": "python3"
  },
  "kernelspec": {
   "display_name": "Python 3",
   "language": "python",
   "name": "python3"
  },
  "language_info": {
   "codemirror_mode": {
    "name": "ipython",
    "version": 3
   },
   "file_extension": ".py",
   "mimetype": "text/x-python",
   "name": "python",
   "nbconvert_exporter": "python",
   "pygments_lexer": "ipython3",
   "version": "3.8.3"
  },
  "nteract": {
   "version": "0.15.0"
  }
 },
 "nbformat": 4,
 "nbformat_minor": 1
}
