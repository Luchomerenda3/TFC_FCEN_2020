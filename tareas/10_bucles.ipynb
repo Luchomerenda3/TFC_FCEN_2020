{
 "cells": [
  {
   "cell_type": "markdown",
   "metadata": {},
   "source": [
    "# Bucles\n",
    "\n",
    "Usar **sólo** bucles `while`, las listas también son taboo por ahora."
   ]
  },
  {
   "cell_type": "markdown",
   "metadata": {},
   "source": [
    "## Ejercicio 1\n",
    "\n",
    "Implementar una función que imprima todos los números primos menores a $n$."
   ]
  },
  {
   "cell_type": "code",
   "execution_count": null,
   "metadata": {},
   "outputs": [],
   "source": []
  },
  {
   "cell_type": "markdown",
   "metadata": {},
   "source": [
    "## Ejercicio 2\n",
    "\n",
    "Implementar una función que calcule la integral definida de una función arbitraria de una variable utilizando la regla del punto medio. Probar para los siguientes casos:\n",
    "\n",
    "$$ \\int_0^1 x^2\\ dx = 1/3 $$\n",
    "\n",
    "$$ \\int_0^\\pi \\sin(x)\\ dx = 2 $$\n",
    "\n",
    "Comparar con los resultado obtenido a partir de la función `quad` en el módulo `scipy.integrate`."
   ]
  },
  {
   "cell_type": "code",
   "execution_count": null,
   "metadata": {},
   "outputs": [],
   "source": []
  },
  {
   "cell_type": "markdown",
   "metadata": {},
   "source": [
    "## Ejercicio 3\n",
    "\n",
    "Implementar una función que calcule la raíz de una función arbitraria (dada su derivada) utilizando el método de Newton-Raphson. Probar para el caso \n",
    "\n",
    "$$ f(x) = e^{-x} - \\pi $$\n",
    "\n",
    "que tiene una única raiz en $-\\ln\\pi$."
   ]
  },
  {
   "cell_type": "code",
   "execution_count": null,
   "metadata": {},
   "outputs": [],
   "source": []
  },
  {
   "cell_type": "markdown",
   "metadata": {},
   "source": [
    "# Serie S\n",
    "\n",
    "Los siguientes ejercicios son más complejos que los anteriores y su complejidad es creciente. Son un poco más opcionales que los anteriores"
   ]
  },
  {
   "cell_type": "markdown",
   "metadata": {},
   "source": [
    "## Ejercicio S1\n",
    "\n",
    "Comparar la velocidad de convergencia (determinando para que $k$ se logra una determinada tolerancia) de la serie de Gregory y Leibniz para $\\pi$ \n",
    "\n",
    "$$\\pi=4\\sum_{k=1}^{\\infty}\\frac{(-1)^(k+1)}{(2k-1)}$$\n",
    "\n",
    "con la siguiente serie:\n",
    "\n",
    "$$\\frac{1}{\\pi} = \\frac{2\\sqrt 2}{9801} \\sum^\\infty_{k=0} \\frac{(4k)!(1103+26390k)}{(k!)^4 396^{4k}},$$\n",
    "\n",
    "una de las tantas sorprendentes fórmulas debidas al matemático indú Srinvasa Ramanujan."
   ]
  },
  {
   "cell_type": "code",
   "execution_count": null,
   "metadata": {},
   "outputs": [],
   "source": []
  },
  {
   "cell_type": "markdown",
   "metadata": {},
   "source": [
    "## Ejercicio S2\n",
    "\n",
    "Implementar una función que calcule el número de Bernouilli utilizando la fórmula implementada por Ada Lovelace en el primer algoritmo de computadora en la famosa [Nota G](https://projectlovelace.net/problems/ada-lovelaces-note-g/) incluída en el documento sobre la Máquina Analítica de Charles Babbage de 1843."
   ]
  },
  {
   "cell_type": "code",
   "execution_count": null,
   "metadata": {},
   "outputs": [],
   "source": []
  },
  {
   "cell_type": "markdown",
   "metadata": {},
   "source": [
    "## Ejercicio S3\n",
    "\n",
    "Extender la implementación de la regla del punto medio para calcular integrales dobles sobre regiones rectangulares en $\\mathbb{R}^2$."
   ]
  },
  {
   "cell_type": "code",
   "execution_count": null,
   "metadata": {},
   "outputs": [],
   "source": []
  },
  {
   "cell_type": "markdown",
   "metadata": {},
   "source": [
    "## Ejercicio S4\n",
    "\n",
    "Extender la implementación de la regla del punto medio para calcular integrales sobre un camino circular cerrado de radio, sentido y centro determinado en $\\mathbb{C}$. Probar para el caso\n",
    "\n",
    "$$\n",
    "\\oint_C \\frac{1}{z}dz =  2 \\pi i \n",
    "$$\n",
    "\n",
    "con un par de caminos circulares cambiando radio, origen y sentido."
   ]
  },
  {
   "cell_type": "code",
   "execution_count": null,
   "metadata": {
    "lines_to_next_cell": 3
   },
   "outputs": [],
   "source": []
  }
 ],
 "metadata": {
  "jupytext": {
   "encoding": "# -*- coding: utf-8 -*-",
   "formats": "ipynb,py:percent"
  },
  "kernelspec": {
   "display_name": "Python 3",
   "language": "python",
   "name": "python3"
  },
  "language_info": {
   "codemirror_mode": {
    "name": "ipython",
    "version": 3
   },
   "file_extension": ".py",
   "mimetype": "text/x-python",
   "name": "python",
   "nbconvert_exporter": "python",
   "pygments_lexer": "ipython3",
   "version": "3.8.3"
  }
 },
 "nbformat": 4,
 "nbformat_minor": 4
}
