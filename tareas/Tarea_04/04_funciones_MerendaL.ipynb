{
 "cells": [
  {
   "cell_type": "markdown",
   "metadata": {},
   "source": [
    "# Funciones"
   ]
  },
  {
   "cell_type": "markdown",
   "metadata": {},
   "source": [
    "## Ejercicio 1\n",
    "\n",
    "Definir (y probar con tres casos) una función que calcule el polinomio\n",
    "\n",
    "$$p(x) = 1 + x + x**2$$"
   ]
  },
  {
   "cell_type": "code",
   "execution_count": 1,
   "metadata": {},
   "outputs": [
    {
     "name": "stdout",
     "output_type": "stream",
     "text": [
      "Testeando la función \"p(x)\":\n",
      "p(2)=7, p(7)=57 y p(29)=871\n"
     ]
    }
   ],
   "source": [
    "def polinom_1(x):\n",
    "  p = 1 + x + x ** 2\n",
    "  return p\n",
    "\n",
    "print(f\"Testeando la función \\\"p(x)\\\":\\np(2)={polinom_1(2)}, p(7)={polinom_1(7)} y p(29)={polinom_1(29)}\")\n"
   ]
  },
  {
   "cell_type": "markdown",
   "metadata": {},
   "source": [
    "## Ejercicio 2\n",
    "\n",
    "Escribir una función que calcule la parte real e imaginaria de un número complejo."
   ]
  },
  {
   "cell_type": "code",
   "execution_count": 11,
   "metadata": {},
   "outputs": [
    {
     "name": "stdout",
     "output_type": "stream",
     "text": [
      "La parte real del número c es 4.0 y la parte imaginaria 5.0\n"
     ]
    }
   ],
   "source": [
    "#SUponiendo que de entrada recibimos el valor complejo\n",
    "#y haciendo uso de los metodos de números complejos\n",
    "def real_e_imaginaria(z):\n",
    "\n",
    "    real = z.real\n",
    "    imag = z.imag\n",
    "    return real, imag\n",
    "\n",
    "c = complex(4 ,5)\n",
    "x, y = real_e_imaginaria(c)\n",
    "\n",
    "print(f\"La parte real del número c es {x} y la parte imaginaria {y}\")"
   ]
  },
  {
   "cell_type": "markdown",
   "metadata": {},
   "source": [
    "## Ejercicio 3\n",
    "\n",
    "Definir (y probar con tres casos) una función que calcule la duración en segundos de un intervalo de tiempo indicado en horas, minutos y segundos."
   ]
  },
  {
   "cell_type": "code",
   "execution_count": 3,
   "metadata": {},
   "outputs": [
    {
     "name": "stdout",
     "output_type": "stream",
     "text": [
      "4 h 45 min 45 segundos = 17145 segundos\n",
      "17 h 34 min 23 segundos = 63263 segundos\n",
      "13 h 59 min 59 segundos = 86399 segundos\n"
     ]
    }
   ],
   "source": [
    "def time_2_seconds(t):\n",
    "    #Dato de entrada: tupla de 3 valores (horas, minutos, segundos).\n",
    "    horas, minutos, segundos = t\n",
    "    return segundos + (minutos * 60) + (horas * 3600)\n",
    "\n",
    "print(f\"4 h 45 min 45 segundos = {time_2_seconds((4,45,45))} segundos\")\n",
    "print(f\"17 h 34 min 23 segundos = {time_2_seconds((17,34,23))} segundos\")\n",
    "print(f\"13 h 59 min 59 segundos = {time_2_seconds((23,59,59))} segundos\")"
   ]
  },
  {
   "cell_type": "markdown",
   "metadata": {},
   "source": [
    "## Ejercicio 4\n",
    "\n",
    "Escribir una función que agregue la cadena \"fin de la cadena\" precedida de un espacio a cualquier cadena de entrada."
   ]
  },
  {
   "cell_type": "code",
   "execution_count": 5,
   "metadata": {},
   "outputs": [
    {
     "name": "stdout",
     "output_type": "stream",
     "text": [
      "Testeando jupyter notebooks con PyCharm\n",
      "fin de cadena\n"
     ]
    }
   ],
   "source": [
    "def string_end(cadena):\n",
    "\n",
    "    return cadena + \"\\nfin de cadena\"\n",
    "\n",
    "print(string_end(\"Testeando jupyter notebooks con PyCharm\"))"
   ]
  },
  {
   "cell_type": "markdown",
   "metadata": {},
   "source": [
    "## Ejercicio 5\n",
    "\n",
    "Definir (y probar con tres casos) una función que calcule la duración en horas, minutos y segundos de un intervalo de tiempo indicado en segundos."
   ]
  },
  {
   "cell_type": "code",
   "execution_count": 10,
   "metadata": {},
   "outputs": [
    {
     "name": "stdout",
     "output_type": "stream",
     "text": [
      "17145 segundos = (4, 45, 45) (horas, minutos, segundos)\n",
      "63263 segundos = (17, 34, 23) (horas, minutos, segundos)\n",
      "86399 segundos = (23, 59, 59) (horas, minutos, segundos)\n"
     ]
    }
   ],
   "source": [
    "def seconds_2_time(secs):\n",
    "    #Dato de entrada: intervalo en segundos\n",
    "    #Salida: tupla (horas, minutos, segundos)\n",
    "    horas = secs // 3600\n",
    "    minutos = (secs % 3600) // 60\n",
    "    segundos = ((secs % 3600) % 60)\n",
    "\n",
    "    return horas, minutos, segundos\n",
    "\n",
    "print(f\"17145 segundos = {seconds_2_time(17145)} (horas, minutos, segundos)\")\n",
    "print(f\"63263 segundos = {seconds_2_time(63263)} (horas, minutos, segundos)\")\n",
    "print(f\"86399 segundos = {seconds_2_time(86399)} (horas, minutos, segundos)\")"
   ]
  },
  {
   "cell_type": "markdown",
   "metadata": {},
   "source": [
    "## Ejercicio 6\n",
    "\n",
    "Definir (y probar con tres casos) una función que evalúe una función racional de la forma\n",
    "\n",
    "$$f(x) = \\frac{a_1 + b_1 x + c_1 x^2}{a_2 + b_2 x + c_2 x^2}$$"
   ]
  },
  {
   "cell_type": "code",
   "execution_count": 11,
   "metadata": {},
   "outputs": [
    {
     "name": "stdout",
     "output_type": "stream",
     "text": [
      "Testendo la función polinomio_random()\n",
      "f(34,a1=1,b1=1,c1=1,a2=1,b2=1,c2=1) = 1.0\n",
      "f(34,a1=2,b1=3,c1=1,a2=1,b2=5,c2=1) = 0.9495101733232856\n",
      "f(34,a1=4,b1=5,c1=3,a2=7,b2=8,c2=9) = 0.3409154731816905\n"
     ]
    }
   ],
   "source": [
    "def polinomio_random(x,a1=1,b1=1,c1=1,a2=1,b2=1,c2=1):\n",
    "    return (a1 + (b1 * x) + (c1 * (x ** 2))) / (a2 + (b2 * x) + (c2 * (x ** 2)))\n",
    "print(\"Testendo la función polinomio_random()\")\n",
    "\n",
    "print(f\"f(34,a1=1,b1=1,c1=1,a2=1,b2=1,c2=1) = {polinomio_random(34)}\")\n",
    "print(f\"f(34,a1=2,b1=3,c1=1,a2=1,b2=5,c2=1) = {polinomio_random(34,a1=2,b1=3,b2=5)}\")\n",
    "print(f\"f(34,a1=4,b1=5,c1=3,a2=7,b2=8,c2=9) = {polinomio_random(34,a1=4,b1=5,c1=3,a2=7,b2=8,c2=9)}\")\n"
   ]
  },
  {
   "cell_type": "markdown",
   "metadata": {},
   "source": [
    "## Ejercicio 7\n",
    "\n",
    "Definir (y probar con tres casos) una función que evalúe:\n",
    "\\begin{equation}\n",
    "  H'(x)=\\left\\{\n",
    "  \\begin{array}{@{}ll@{}}\n",
    "    1, & \\text{si}\\ x > 0 \\\\\n",
    "    0, & \\text{si}\\ x < 0\n",
    "  \\end{array}\\right.\n",
    "\\end{equation} \n"
   ]
  },
  {
   "cell_type": "code",
   "execution_count": 14,
   "metadata": {},
   "outputs": [
    {
     "name": "stdout",
     "output_type": "stream",
     "text": [
      "Test función escalon():\n",
      "\n",
      "Para x>0 escalon = 1.0\n",
      "Para x<0 escalon = 0.0\n",
      "Para x=0 escalon no esta definido:\n",
      "\n"
     ]
    },
    {
     "ename": "ZeroDivisionError",
     "evalue": "division by zero",
     "output_type": "error",
     "traceback": [
      "\u001B[0;31m---------------------------------------------------------------------------\u001B[0m",
      "\u001B[0;31mZeroDivisionError\u001B[0m                         Traceback (most recent call last)",
      "\u001B[0;32m<ipython-input-14-b5c2cb8d4e52>\u001B[0m in \u001B[0;36m<module>\u001B[0;34m\u001B[0m\n\u001B[1;32m      8\u001B[0m \u001B[0mprint\u001B[0m\u001B[0;34m(\u001B[0m\u001B[0;34mf\"Para x<0 escalon = {escalon(-23)}\"\u001B[0m\u001B[0;34m)\u001B[0m\u001B[0;34m\u001B[0m\u001B[0;34m\u001B[0m\u001B[0m\n\u001B[1;32m      9\u001B[0m \u001B[0mprint\u001B[0m\u001B[0;34m(\u001B[0m\u001B[0;34mf\"Para x=0 escalon no esta definido:\\n\"\u001B[0m\u001B[0;34m)\u001B[0m\u001B[0;34m\u001B[0m\u001B[0;34m\u001B[0m\u001B[0m\n\u001B[0;32m---> 10\u001B[0;31m \u001B[0mprint\u001B[0m\u001B[0;34m(\u001B[0m\u001B[0mescalon\u001B[0m\u001B[0;34m(\u001B[0m\u001B[0;36m0\u001B[0m\u001B[0;34m)\u001B[0m\u001B[0;34m)\u001B[0m\u001B[0;34m\u001B[0m\u001B[0;34m\u001B[0m\u001B[0m\n\u001B[0m",
      "\u001B[0;32m<ipython-input-14-b5c2cb8d4e52>\u001B[0m in \u001B[0;36mescalon\u001B[0;34m(x)\u001B[0m\n\u001B[1;32m      1\u001B[0m \u001B[0;32mdef\u001B[0m \u001B[0mescalon\u001B[0m\u001B[0;34m(\u001B[0m\u001B[0mx\u001B[0m\u001B[0;34m)\u001B[0m\u001B[0;34m:\u001B[0m\u001B[0;34m\u001B[0m\u001B[0;34m\u001B[0m\u001B[0m\n\u001B[1;32m      2\u001B[0m \u001B[0;34m\u001B[0m\u001B[0m\n\u001B[0;32m----> 3\u001B[0;31m     \u001B[0;32mreturn\u001B[0m \u001B[0;34m(\u001B[0m\u001B[0mabs\u001B[0m\u001B[0;34m(\u001B[0m\u001B[0mx\u001B[0m\u001B[0;34m)\u001B[0m \u001B[0;34m-\u001B[0m \u001B[0;34m(\u001B[0m\u001B[0;34m-\u001B[0m\u001B[0mx\u001B[0m\u001B[0;34m)\u001B[0m\u001B[0;34m)\u001B[0m \u001B[0;34m/\u001B[0m \u001B[0mabs\u001B[0m\u001B[0;34m(\u001B[0m\u001B[0mx\u001B[0m \u001B[0;34m+\u001B[0m \u001B[0mx\u001B[0m\u001B[0;34m)\u001B[0m\u001B[0;34m\u001B[0m\u001B[0;34m\u001B[0m\u001B[0m\n\u001B[0m\u001B[1;32m      4\u001B[0m \u001B[0;34m\u001B[0m\u001B[0m\n\u001B[1;32m      5\u001B[0m \u001B[0mprint\u001B[0m\u001B[0;34m(\u001B[0m\u001B[0;34m\"Test función escalon():\\n\"\u001B[0m\u001B[0;34m)\u001B[0m\u001B[0;34m\u001B[0m\u001B[0;34m\u001B[0m\u001B[0m\n",
      "\u001B[0;31mZeroDivisionError\u001B[0m: division by zero"
     ]
    }
   ],
   "source": [
    "def escalon(x):\n",
    "\n",
    "    return (abs(x) - (-x)) / abs(x + x)\n",
    "\n",
    "print(\"Test función escalon():\\n\")\n",
    "\n",
    "print(f\"Para x>0 escalon = {escalon(2)}\")\n",
    "print(f\"Para x<0 escalon = {escalon(-23)}\")\n",
    "print(f\"Para x=0 escalon no esta definido:\\n\")\n",
    "print(escalon(0))"
   ]
  }
 ],
 "metadata": {
  "jupytext": {
   "encoding": "# -*- coding: utf-8 -*-",
   "formats": "ipynb,py:percent"
  },
  "kernelspec": {
   "name": "python3",
   "language": "python",
   "display_name": "Python 3"
  },
  "language_info": {
   "codemirror_mode": {
    "name": "ipython",
    "version": 3
   },
   "file_extension": ".py",
   "mimetype": "text/x-python",
   "name": "python",
   "nbconvert_exporter": "python",
   "pygments_lexer": "ipython3",
   "version": "3.8.3"
  }
 },
 "nbformat": 4,
 "nbformat_minor": 4
}