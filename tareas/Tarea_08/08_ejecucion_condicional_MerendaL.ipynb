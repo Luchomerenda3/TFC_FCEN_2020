{
 "cells": [
  {
   "cell_type": "markdown",
   "metadata": {},
   "source": [
    " # Ejecución condicional"
   ]
  },
  {
   "cell_type": "markdown",
   "metadata": {},
   "source": [
    "## Ejercicio 1:\n",
    "\n",
    "Definir (y probar con tres casos) una función que evalúe la función de Heaviside:\n",
    "\\begin{equation}\n",
    "  H'(x)=\\left\\{\n",
    "  \\begin{array}{@{}ll@{}}\n",
    "    1, & \\text{si}\\ x > 0 \\\\\n",
    "    0, & \\text{si}\\ x =< 0\n",
    "  \\end{array}\\right.\n",
    "\\end{equation} "
   ]
  },
  {
   "cell_type": "code",
   "execution_count": 1,
   "metadata": {},
   "outputs": [
    {
     "name": "stdout",
     "output_type": "stream",
     "text": [
      "Heaviside(-4) = 0\n",
      "Heaviside(0) = 0\n",
      "Heaviside(1.2) = 1\n"
     ]
    }
   ],
   "source": [
    "def heaviside(x):\n",
    "\n",
    "    if (x > 0):\n",
    "        return 1\n",
    "    else:\n",
    "        return 0\n",
    "print(f\"Heaviside(-4) = {heaviside(-4)}\")\n",
    "print(f\"Heaviside(0) = {heaviside(0)}\")\n",
    "print(f\"Heaviside(1.2) = {heaviside(1.2)}\")"
   ]
  },
  {
   "cell_type": "markdown",
   "metadata": {},
   "source": [
    "## Ejercicio 2:\n",
    "\n",
    "Definir (y probar con tres casos) una función que evalúe la función valor absoluto."
   ]
  },
  {
   "cell_type": "code",
   "execution_count": 4,
   "metadata": {},
   "outputs": [
    {
     "name": "stdout",
     "output_type": "stream",
     "text": [
      "Valor absoluto de 0 = 0\n",
      "Valor absoluto de -5.2 = 5.2\n",
      "Valor absoluto de 4.2 = 4.2\n"
     ]
    }
   ],
   "source": [
    "def absoluto(x):\n",
    "\n",
    "    if (x < 0):\n",
    "        return -x\n",
    "    else:\n",
    "        return x\n",
    "\n",
    "print(f\"Valor absoluto de 0 = {absoluto(0)}\")\n",
    "print(f\"Valor absoluto de -5.2 = {absoluto(-5.2)}\")\n",
    "print(f\"Valor absoluto de 4.2 = {absoluto(4.2)}\")"
   ]
  },
  {
   "cell_type": "markdown",
   "metadata": {},
   "source": [
    "## Ejercicio 3:\n",
    "\n",
    "Definir (y probar con tres casos) una función que sea una extensión contínua de la función:\n",
    "\n",
    "$$f(x) = \\frac{\\sin x}{x}$$\n",
    "\n",
    "cuyo dominio sea el conjunto de todos los reales."
   ]
  },
  {
   "cell_type": "code",
   "execution_count": 19,
   "metadata": {},
   "outputs": [
    {
     "name": "stdout",
     "output_type": "stream",
     "text": [
      "f(x) = sin x / x evalauado en -3  = 0.0470400027\n",
      "f(x) = sin x / x evalauado en 0  = 1.0000000000\n",
      "f(x) = sin x / x evalauado en 2.3  = 0.3242196575\n"
     ]
    }
   ],
   "source": [
    "import math as m\n",
    "\n",
    "def f(x):\n",
    "    #Esta función tiene una discontinuidad en x = 0\n",
    "    #Tomando el lim para x = 0 tenemos que x tiende a 1\n",
    "\n",
    "    if x == 0:\n",
    "        return 1.0\n",
    "    else:\n",
    "        return (m.sin(x) / x)\n",
    "\n",
    "print(f\"f(x) = sin x / x evalauado en -3  = {f(-3):.10f}\")\n",
    "print(f\"f(x) = sin x / x evalauado en 0  = {f(0):.10f}\")\n",
    "print(f\"f(x) = sin x / x evalauado en 2.3  = {f(2.3):.10f}\")\n"
   ]
  },
  {
   "cell_type": "markdown",
   "metadata": {},
   "source": [
    "## Ejercicio 4:\n",
    "\n",
    "Definir (y probar con tres casos) una función de dos parámetros que determine si un número $m$ es divisible por otro $n$ y devuelva el valor `True` en ese caso o `False` en caso contrario."
   ]
  },
  {
   "cell_type": "code",
   "execution_count": 5,
   "metadata": {},
   "outputs": [
    {
     "name": "stdout",
     "output_type": "stream",
     "text": [
      "15 es divisible por 5? : True\n",
      "15 es divisible por 5.7? : False\n",
      "8 es divisible por 3? : False\n"
     ]
    }
   ],
   "source": [
    "def divisible_by(m,n):\n",
    "\n",
    "    if (m / n) == (m // n):\n",
    "        return True\n",
    "    else:\n",
    "        return False\n",
    "\n",
    "\n",
    "print(f\"15 es divisible por 5? : {divisible_by(15,5)}\")\n",
    "print(f\"15 es divisible por 5.7? : {divisible_by(15,5.7)}\")\n",
    "print(f\"8 es divisible por 3? : {divisible_by(8,3)}\")"
   ]
  }
 ],
 "metadata": {
  "kernelspec": {
   "display_name": "Python 3",
   "language": "python",
   "name": "python3"
  },
  "language_info": {
   "codemirror_mode": {
    "name": "ipython",
    "version": 3
   },
   "file_extension": ".py",
   "mimetype": "text/x-python",
   "name": "python",
   "nbconvert_exporter": "python",
   "pygments_lexer": "ipython3",
   "version": "3.8.3"
  }
 },
 "nbformat": 4,
 "nbformat_minor": 4
}